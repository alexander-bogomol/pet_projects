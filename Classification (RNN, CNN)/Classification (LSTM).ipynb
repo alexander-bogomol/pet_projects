{
 "cells": [
  {
   "cell_type": "code",
   "execution_count": 3,
   "id": "d9b416a7-b4b8-477e-970f-31917b18deb6",
   "metadata": {},
   "outputs": [],
   "source": [
    "import torch\n",
    "from torchtext.datasets import IMDB\n",
    "from torchtext.data import to_map_style_dataset\n",
    "import pandas as pd\n",
    "import numpy as np"
   ]
  },
  {
   "cell_type": "code",
   "execution_count": 4,
   "id": "96f65c81-3530-4a21-8556-70f9130bcde8",
   "metadata": {},
   "outputs": [],
   "source": [
    "# Download the dataset. Merge train and test.\n",
    "train_iter, test_iter = IMDB()\n",
    "train_iter, test_iter = iter(train_iter), iter(test_iter)\n",
    "train_list, test_list = list(train_iter), list(test_iter)"
   ]
  },
  {
   "cell_type": "code",
   "execution_count": 7,
   "id": "762b4d81-69d7-4ad6-8b3a-96faba8c327b",
   "metadata": {
    "tags": []
   },
   "outputs": [
    {
     "data": {
      "text/html": [
       "<div>\n",
       "<style scoped>\n",
       "    .dataframe tbody tr th:only-of-type {\n",
       "        vertical-align: middle;\n",
       "    }\n",
       "\n",
       "    .dataframe tbody tr th {\n",
       "        vertical-align: top;\n",
       "    }\n",
       "\n",
       "    .dataframe thead th {\n",
       "        text-align: right;\n",
       "    }\n",
       "</style>\n",
       "<table border=\"1\" class=\"dataframe\">\n",
       "  <thead>\n",
       "    <tr style=\"text-align: right;\">\n",
       "      <th></th>\n",
       "      <th>labels</th>\n",
       "      <th>texts</th>\n",
       "    </tr>\n",
       "  </thead>\n",
       "  <tbody>\n",
       "    <tr>\n",
       "      <th>0</th>\n",
       "      <td>neg</td>\n",
       "      <td>I rented I AM CURIOUS-YELLOW from my video sto...</td>\n",
       "    </tr>\n",
       "    <tr>\n",
       "      <th>1</th>\n",
       "      <td>neg</td>\n",
       "      <td>\"I Am Curious: Yellow\" is a risible and preten...</td>\n",
       "    </tr>\n",
       "    <tr>\n",
       "      <th>2</th>\n",
       "      <td>neg</td>\n",
       "      <td>If only to avoid making this type of film in t...</td>\n",
       "    </tr>\n",
       "    <tr>\n",
       "      <th>3</th>\n",
       "      <td>neg</td>\n",
       "      <td>This film was probably inspired by Godard's Ma...</td>\n",
       "    </tr>\n",
       "    <tr>\n",
       "      <th>4</th>\n",
       "      <td>neg</td>\n",
       "      <td>Oh, brother...after hearing about this ridicul...</td>\n",
       "    </tr>\n",
       "  </tbody>\n",
       "</table>\n",
       "</div>"
      ],
      "text/plain": [
       "  labels                                              texts\n",
       "0    neg  I rented I AM CURIOUS-YELLOW from my video sto...\n",
       "1    neg  \"I Am Curious: Yellow\" is a risible and preten...\n",
       "2    neg  If only to avoid making this type of film in t...\n",
       "3    neg  This film was probably inspired by Godard's Ma...\n",
       "4    neg  Oh, brother...after hearing about this ridicul..."
      ]
     },
     "execution_count": 7,
     "metadata": {},
     "output_type": "execute_result"
    }
   ],
   "source": [
    "df = pd.DataFrame(train_list+test_list, columns=['labels', 'texts'])\n",
    "df.head()"
   ]
  },
  {
   "cell_type": "code",
   "execution_count": 86,
   "id": "77567c3a-556a-45c3-aaa9-d8d28e2abe71",
   "metadata": {
    "tags": []
   },
   "outputs": [],
   "source": [
    "# Save full dataset\n",
    "df.to_csv(r'IMDB.csv', index=False)"
   ]
  },
  {
   "cell_type": "code",
   "execution_count": 8,
   "id": "c08ef0bb-726c-41a9-9624-17521abbba7d",
   "metadata": {
    "tags": []
   },
   "outputs": [
    {
     "data": {
      "text/plain": [
       "[('df', 71532560),\n",
       " ('test_list', 219064),\n",
       " ('train_list', 219064),\n",
       " ('IMDB', 136),\n",
       " ('to_map_style_dataset', 136),\n",
       " ('test_iter', 112),\n",
       " ('train_iter', 112),\n",
       " ('np', 72),\n",
       " ('pd', 72)]"
      ]
     },
     "execution_count": 8,
     "metadata": {},
     "output_type": "execute_result"
    }
   ],
   "source": [
    "# Checking the memory consuption\n",
    "import sys\n",
    "\n",
    "# These are the usual ipython objects\n",
    "ipython_vars = ['In', 'Out', 'exit', 'quit', 'get_ipython', 'ipython_vars']\n",
    "\n",
    "# Get a sorted list of the objects and their sizes\n",
    "sorted([(x, sys.getsizeof(globals().get(x))) for x in dir() if not x.startswith('_') and x not in sys.modules and x not in ipython_vars], key=lambda x: x[1], reverse=True)"
   ]
  },
  {
   "cell_type": "code",
   "execution_count": 7,
   "id": "25e19d11-2576-4fc9-b602-d881b912223a",
   "metadata": {
    "tags": []
   },
   "outputs": [],
   "source": [
    "del test_list, train_list"
   ]
  },
  {
   "cell_type": "code",
   "execution_count": 8,
   "id": "d0440f72-4e6f-417f-a863-7392c78a76ab",
   "metadata": {},
   "outputs": [
    {
     "data": {
      "text/html": [
       "<div>\n",
       "<style scoped>\n",
       "    .dataframe tbody tr th:only-of-type {\n",
       "        vertical-align: middle;\n",
       "    }\n",
       "\n",
       "    .dataframe tbody tr th {\n",
       "        vertical-align: top;\n",
       "    }\n",
       "\n",
       "    .dataframe thead th {\n",
       "        text-align: right;\n",
       "    }\n",
       "</style>\n",
       "<table border=\"1\" class=\"dataframe\">\n",
       "  <thead>\n",
       "    <tr style=\"text-align: right;\">\n",
       "      <th></th>\n",
       "      <th>labels</th>\n",
       "      <th>texts</th>\n",
       "    </tr>\n",
       "  </thead>\n",
       "  <tbody>\n",
       "    <tr>\n",
       "      <th>0</th>\n",
       "      <td>neg</td>\n",
       "      <td>I rented I AM CURIOUS-YELLOW from my video sto...</td>\n",
       "    </tr>\n",
       "    <tr>\n",
       "      <th>1</th>\n",
       "      <td>neg</td>\n",
       "      <td>\"I Am Curious: Yellow\" is a risible and preten...</td>\n",
       "    </tr>\n",
       "    <tr>\n",
       "      <th>2</th>\n",
       "      <td>neg</td>\n",
       "      <td>If only to avoid making this type of film in t...</td>\n",
       "    </tr>\n",
       "    <tr>\n",
       "      <th>3</th>\n",
       "      <td>neg</td>\n",
       "      <td>This film was probably inspired by Godard's Ma...</td>\n",
       "    </tr>\n",
       "    <tr>\n",
       "      <th>4</th>\n",
       "      <td>neg</td>\n",
       "      <td>Oh, brother...after hearing about this ridicul...</td>\n",
       "    </tr>\n",
       "  </tbody>\n",
       "</table>\n",
       "</div>"
      ],
      "text/plain": [
       "  labels                                              texts\n",
       "0    neg  I rented I AM CURIOUS-YELLOW from my video sto...\n",
       "1    neg  \"I Am Curious: Yellow\" is a risible and preten...\n",
       "2    neg  If only to avoid making this type of film in t...\n",
       "3    neg  This film was probably inspired by Godard's Ma...\n",
       "4    neg  Oh, brother...after hearing about this ridicul..."
      ]
     },
     "execution_count": 8,
     "metadata": {},
     "output_type": "execute_result"
    }
   ],
   "source": [
    "# Check is everything fine\n",
    "imdb_dataframe = pd.read_csv(r'IMDB.csv')\n",
    "imdb_dataframe.head()"
   ]
  },
  {
   "cell_type": "code",
   "execution_count": 12,
   "id": "f9fa691f-340e-4906-8fe2-d4f2412edec4",
   "metadata": {},
   "outputs": [
    {
     "data": {
      "text/plain": [
       "[('imdb_dataframe', 71532560),\n",
       " ('IMDB', 136),\n",
       " ('to_map_style_dataset', 136),\n",
       " ('test_iter', 112),\n",
       " ('train_iter', 112),\n",
       " ('np', 72),\n",
       " ('pd', 72)]"
      ]
     },
     "execution_count": 12,
     "metadata": {},
     "output_type": "execute_result"
    }
   ],
   "source": [
    "import sys\n",
    "ipython_vars = ['In', 'Out', 'exit', 'quit', 'get_ipython', 'ipython_vars']\n",
    "sorted([(x, sys.getsizeof(globals().get(x))) for x in dir() if not x.startswith('_') and x not in sys.modules and x not in ipython_vars], key=lambda x: x[1], reverse=True)"
   ]
  },
  {
   "cell_type": "code",
   "execution_count": 13,
   "id": "95d8c7ff-cee1-44b2-99b1-6225939f32a9",
   "metadata": {},
   "outputs": [
    {
     "data": {
      "text/html": [
       "<div>\n",
       "<style scoped>\n",
       "    .dataframe tbody tr th:only-of-type {\n",
       "        vertical-align: middle;\n",
       "    }\n",
       "\n",
       "    .dataframe tbody tr th {\n",
       "        vertical-align: top;\n",
       "    }\n",
       "\n",
       "    .dataframe thead th {\n",
       "        text-align: right;\n",
       "    }\n",
       "</style>\n",
       "<table border=\"1\" class=\"dataframe\">\n",
       "  <thead>\n",
       "    <tr style=\"text-align: right;\">\n",
       "      <th></th>\n",
       "      <th>labels</th>\n",
       "      <th>texts</th>\n",
       "    </tr>\n",
       "  </thead>\n",
       "  <tbody>\n",
       "    <tr>\n",
       "      <th>4415</th>\n",
       "      <td>0</td>\n",
       "      <td>A less-than-subtle poke at the beliefs and tea...</td>\n",
       "    </tr>\n",
       "    <tr>\n",
       "      <th>19571</th>\n",
       "      <td>1</td>\n",
       "      <td>I saw the movie before I read the Michelle Mag...</td>\n",
       "    </tr>\n",
       "    <tr>\n",
       "      <th>32477</th>\n",
       "      <td>0</td>\n",
       "      <td>Hello all--for what it's worth, I'm in a docto...</td>\n",
       "    </tr>\n",
       "  </tbody>\n",
       "</table>\n",
       "</div>"
      ],
      "text/plain": [
       "       labels                                              texts\n",
       "4415        0  A less-than-subtle poke at the beliefs and tea...\n",
       "19571       1  I saw the movie before I read the Michelle Mag...\n",
       "32477       0  Hello all--for what it's worth, I'm in a docto..."
      ]
     },
     "execution_count": 13,
     "metadata": {},
     "output_type": "execute_result"
    }
   ],
   "source": [
    "imdb_dataframe['labels'] = imdb_dataframe['labels'].map({'neg': 0, 'pos': 1})\n",
    "imdb_dataframe.sample(3)"
   ]
  },
  {
   "cell_type": "code",
   "execution_count": 14,
   "id": "48485305-c0b4-4d2c-9f62-edc3bf4f494f",
   "metadata": {},
   "outputs": [
    {
     "data": {
      "text/plain": [
       "0    12500\n",
       "1    12500\n",
       "Name: labels, dtype: int64"
      ]
     },
     "execution_count": 14,
     "metadata": {},
     "output_type": "execute_result"
    }
   ],
   "source": [
    "# View the class distribution\n",
    "imdb_dataframe['labels'].iloc[25000:].value_counts()"
   ]
  },
  {
   "cell_type": "code",
   "execution_count": 16,
   "id": "315d6d23-b2a3-4dd5-94f3-29cd3c99f4a6",
   "metadata": {},
   "outputs": [],
   "source": [
    "# Create map-style dataset\n",
    "from torch.utils.data import Dataset\n",
    "\n",
    "class CustomDataset(Dataset):\n",
    "    def __init__(self, csv_file, transform=None, target_transform=None):\n",
    "        self.csv_data = pd.read_csv(csv_file)\n",
    "        self.transform = transform\n",
    "        self.target_transform = target_transform\n",
    "\n",
    "    def __len__(self):\n",
    "        return len(self.csv_data)\n",
    "\n",
    "    def __getitem__(self, idx):\n",
    "        text = self.csv_data.iloc[idx, 1]\n",
    "        label = self.csv_data.iloc[idx, 0]\n",
    "        if self.transform:\n",
    "            text = torch.tensor(self.transform(text), dtype=torch.int64)\n",
    "        if self.target_transform:\n",
    "            label = self.target_transform(label)\n",
    "        return text, label"
   ]
  },
  {
   "cell_type": "code",
   "execution_count": 15,
   "id": "98d994e5-7b9b-4c24-8633-879d6623a1c1",
   "metadata": {},
   "outputs": [],
   "source": [
    "# Tokenize reviews\n",
    "from torchtext.data.utils import get_tokenizer\n",
    "tokenizer = get_tokenizer('basic_english')"
   ]
  },
  {
   "cell_type": "code",
   "execution_count": 17,
   "id": "829a3f14-4fcc-4ca9-ab87-d80c48713686",
   "metadata": {
    "tags": []
   },
   "outputs": [],
   "source": [
    "imdb_dataframe['tokenized'] = imdb_dataframe['texts'].map(tokenizer)"
   ]
  },
  {
   "cell_type": "code",
   "execution_count": 18,
   "id": "c04ef78e-3d45-4bd1-8f5a-014bed08ce2e",
   "metadata": {
    "tags": []
   },
   "outputs": [
    {
     "data": {
      "text/html": [
       "<div>\n",
       "<style scoped>\n",
       "    .dataframe tbody tr th:only-of-type {\n",
       "        vertical-align: middle;\n",
       "    }\n",
       "\n",
       "    .dataframe tbody tr th {\n",
       "        vertical-align: top;\n",
       "    }\n",
       "\n",
       "    .dataframe thead th {\n",
       "        text-align: right;\n",
       "    }\n",
       "</style>\n",
       "<table border=\"1\" class=\"dataframe\">\n",
       "  <thead>\n",
       "    <tr style=\"text-align: right;\">\n",
       "      <th></th>\n",
       "      <th>labels</th>\n",
       "      <th>texts</th>\n",
       "      <th>tokenized</th>\n",
       "    </tr>\n",
       "  </thead>\n",
       "  <tbody>\n",
       "    <tr>\n",
       "      <th>20047</th>\n",
       "      <td>1</td>\n",
       "      <td>I swear when I first saw this movie,I cried my...</td>\n",
       "      <td>[i, swear, when, i, first, saw, this, movie, ,...</td>\n",
       "    </tr>\n",
       "    <tr>\n",
       "      <th>11059</th>\n",
       "      <td>0</td>\n",
       "      <td>A very ordinary made-for-tv product, \"Tyson\" a...</td>\n",
       "      <td>[a, very, ordinary, made-for-tv, product, ,, t...</td>\n",
       "    </tr>\n",
       "    <tr>\n",
       "      <th>37295</th>\n",
       "      <td>0</td>\n",
       "      <td>As I sit back after watching Wong Kar-wai's 19...</td>\n",
       "      <td>[as, i, sit, back, after, watching, wong, kar-...</td>\n",
       "    </tr>\n",
       "    <tr>\n",
       "      <th>10627</th>\n",
       "      <td>0</td>\n",
       "      <td>Nothing to say but Wow! Has anyone actually ha...</td>\n",
       "      <td>[nothing, to, say, but, wow, !, has, anyone, a...</td>\n",
       "    </tr>\n",
       "    <tr>\n",
       "      <th>48953</th>\n",
       "      <td>1</td>\n",
       "      <td>This movie was great don't understand the disr...</td>\n",
       "      <td>[this, movie, was, great, don, ', t, understan...</td>\n",
       "    </tr>\n",
       "  </tbody>\n",
       "</table>\n",
       "</div>"
      ],
      "text/plain": [
       "       labels                                              texts  \\\n",
       "20047       1  I swear when I first saw this movie,I cried my...   \n",
       "11059       0  A very ordinary made-for-tv product, \"Tyson\" a...   \n",
       "37295       0  As I sit back after watching Wong Kar-wai's 19...   \n",
       "10627       0  Nothing to say but Wow! Has anyone actually ha...   \n",
       "48953       1  This movie was great don't understand the disr...   \n",
       "\n",
       "                                               tokenized  \n",
       "20047  [i, swear, when, i, first, saw, this, movie, ,...  \n",
       "11059  [a, very, ordinary, made-for-tv, product, ,, t...  \n",
       "37295  [as, i, sit, back, after, watching, wong, kar-...  \n",
       "10627  [nothing, to, say, but, wow, !, has, anyone, a...  \n",
       "48953  [this, movie, was, great, don, ', t, understan...  "
      ]
     },
     "execution_count": 18,
     "metadata": {},
     "output_type": "execute_result"
    }
   ],
   "source": [
    "imdb_dataframe.sample(5)"
   ]
  },
  {
   "cell_type": "code",
   "execution_count": 19,
   "id": "2fcf5125-d516-4003-b4d4-4ed91a449e6e",
   "metadata": {
    "tags": []
   },
   "outputs": [
    {
     "data": {
      "text/html": [
       "<div>\n",
       "<style scoped>\n",
       "    .dataframe tbody tr th:only-of-type {\n",
       "        vertical-align: middle;\n",
       "    }\n",
       "\n",
       "    .dataframe tbody tr th {\n",
       "        vertical-align: top;\n",
       "    }\n",
       "\n",
       "    .dataframe thead th {\n",
       "        text-align: right;\n",
       "    }\n",
       "</style>\n",
       "<table border=\"1\" class=\"dataframe\">\n",
       "  <thead>\n",
       "    <tr style=\"text-align: right;\">\n",
       "      <th></th>\n",
       "      <th>labels</th>\n",
       "      <th>texts</th>\n",
       "      <th>tokenized</th>\n",
       "      <th>texts_len</th>\n",
       "    </tr>\n",
       "  </thead>\n",
       "  <tbody>\n",
       "    <tr>\n",
       "      <th>19632</th>\n",
       "      <td>1</td>\n",
       "      <td>Time paradoxes are the devil's snare for under...</td>\n",
       "      <td>[time, paradoxes, are, the, devil, ', s, snare...</td>\n",
       "      <td>463</td>\n",
       "    </tr>\n",
       "    <tr>\n",
       "      <th>15420</th>\n",
       "      <td>1</td>\n",
       "      <td>I saw this movie at an advance screening and f...</td>\n",
       "      <td>[i, saw, this, movie, at, an, advance, screeni...</td>\n",
       "      <td>179</td>\n",
       "    </tr>\n",
       "    <tr>\n",
       "      <th>20531</th>\n",
       "      <td>1</td>\n",
       "      <td>I first saw this film when i was around 6 or 7...</td>\n",
       "      <td>[i, first, saw, this, film, when, i, was, arou...</td>\n",
       "      <td>408</td>\n",
       "    </tr>\n",
       "    <tr>\n",
       "      <th>36496</th>\n",
       "      <td>0</td>\n",
       "      <td>The key scene in Rodrigo Garcia's \"Nine Lives\"...</td>\n",
       "      <td>[the, key, scene, in, rodrigo, garcia, ', s, n...</td>\n",
       "      <td>485</td>\n",
       "    </tr>\n",
       "    <tr>\n",
       "      <th>44064</th>\n",
       "      <td>1</td>\n",
       "      <td>Back in the day, I was one of the RN's in the ...</td>\n",
       "      <td>[back, in, the, day, ,, i, was, one, of, the, ...</td>\n",
       "      <td>272</td>\n",
       "    </tr>\n",
       "  </tbody>\n",
       "</table>\n",
       "</div>"
      ],
      "text/plain": [
       "       labels                                              texts  \\\n",
       "19632       1  Time paradoxes are the devil's snare for under...   \n",
       "15420       1  I saw this movie at an advance screening and f...   \n",
       "20531       1  I first saw this film when i was around 6 or 7...   \n",
       "36496       0  The key scene in Rodrigo Garcia's \"Nine Lives\"...   \n",
       "44064       1  Back in the day, I was one of the RN's in the ...   \n",
       "\n",
       "                                               tokenized  texts_len  \n",
       "19632  [time, paradoxes, are, the, devil, ', s, snare...        463  \n",
       "15420  [i, saw, this, movie, at, an, advance, screeni...        179  \n",
       "20531  [i, first, saw, this, film, when, i, was, arou...        408  \n",
       "36496  [the, key, scene, in, rodrigo, garcia, ', s, n...        485  \n",
       "44064  [back, in, the, day, ,, i, was, one, of, the, ...        272  "
      ]
     },
     "execution_count": 19,
     "metadata": {},
     "output_type": "execute_result"
    }
   ],
   "source": [
    "imdb_dataframe['texts_len'] = imdb_dataframe['tokenized'].map(lambda x: len(x))\n",
    "imdb_dataframe.sample(5)"
   ]
  },
  {
   "cell_type": "code",
   "execution_count": 20,
   "id": "0ff5aa7c-b686-4b38-b158-8d3e9f5f09d7",
   "metadata": {
    "tags": []
   },
   "outputs": [
    {
     "data": {
      "image/png": "[encoded data removed]",
      "text/plain": [
       "<Figure size 432x288 with 1 Axes>"
      ]
     },
     "metadata": {
      "needs_background": "light"
     },
     "output_type": "display_data"
    }
   ],
   "source": [
    "# View text lenghts distribution\n",
    "imdb_dataframe['texts_len'].hist(bins=5);"
   ]
  },
  {
   "cell_type": "code",
   "execution_count": 21,
   "id": "c6232722-8cb3-481a-9e41-024bc8c500b3",
   "metadata": {
    "tags": []
   },
   "outputs": [
    {
     "data": {
      "text/plain": [
       "(array([45713,  3982,   293,     8,     4]),\n",
       " array([   8. ,  556.8, 1105.6, 1654.4, 2203.2, 2752. ]))"
      ]
     },
     "execution_count": 21,
     "metadata": {},
     "output_type": "execute_result"
    }
   ],
   "source": [
    "np.histogram(imdb_dataframe['texts_len'], bins=5)"
   ]
  },
  {
   "cell_type": "code",
   "execution_count": 22,
   "id": "6e045f97-f9c6-455b-b4a8-5dc20c453260",
   "metadata": {
    "tags": []
   },
   "outputs": [
    {
     "data": {
      "text/plain": [
       "0    17501\n",
       "1    17499\n",
       "Name: labels, dtype: int64"
      ]
     },
     "execution_count": 22,
     "metadata": {},
     "output_type": "execute_result"
    }
   ],
   "source": [
    "# Split dataframe and check class distribution\n",
    "imdb_dataframe_train = imdb_dataframe.sample(frac=0.7)\n",
    "imdb_dataframe_train['labels'].value_counts()"
   ]
  },
  {
   "cell_type": "code",
   "execution_count": 23,
   "id": "1874ede5-2cae-4e71-b9ff-e102778c3a40",
   "metadata": {
    "tags": []
   },
   "outputs": [
    {
     "data": {
      "text/plain": [
       "1    3753\n",
       "0    3747\n",
       "Name: labels, dtype: int64"
      ]
     },
     "execution_count": 23,
     "metadata": {},
     "output_type": "execute_result"
    }
   ],
   "source": [
    "imdb_dataframe_valid = (imdb_dataframe.drop(imdb_dataframe_train.index)\n",
    "                                      .sample(frac=0.5))\n",
    "imdb_dataframe_valid['labels'].value_counts()"
   ]
  },
  {
   "cell_type": "code",
   "execution_count": 24,
   "id": "d6745bd3-5714-4482-b38c-b5d75fd1223f",
   "metadata": {
    "tags": []
   },
   "outputs": [
    {
     "data": {
      "text/plain": [
       "0    3752\n",
       "1    3748\n",
       "Name: labels, dtype: int64"
      ]
     },
     "execution_count": 24,
     "metadata": {},
     "output_type": "execute_result"
    }
   ],
   "source": [
    "imdb_dataframe_test = imdb_dataframe.drop(index=np.concatenate([imdb_dataframe_train.index.values \n",
    "                                          ,imdb_dataframe_valid.index.values]))\n",
    "imdb_dataframe_test['labels'].value_counts()"
   ]
  },
  {
   "cell_type": "code",
   "execution_count": 25,
   "id": "8a109b1e-1c47-487a-a6c2-10b7c29c02f9",
   "metadata": {
    "tags": []
   },
   "outputs": [
    {
     "name": "stdout",
     "output_type": "stream",
     "text": [
      "0\n",
      "True\n"
     ]
    }
   ],
   "source": [
    "# Check are there same samples in splitted dataframes\n",
    "print(\n",
    "    np.array(\n",
    "        [idx in imdb_dataframe_valid.index.values for idx in imdb_dataframe_test.index.values]\n",
    "    ).sum()\n",
    ")\n",
    "print(imdb_dataframe_test.index.values in imdb_dataframe_test.index.values)"
   ]
  },
  {
   "cell_type": "code",
   "execution_count": 26,
   "id": "2893906b-e0f8-4be2-b5f9-559f28778efe",
   "metadata": {
    "tags": []
   },
   "outputs": [],
   "source": [
    "# Sort reviews by lenght\n",
    "imdb_dataframe_train.sort_values(by=['texts_len'], ascending=False, inplace=True)\n",
    "imdb_dataframe_valid.sort_values(by=['texts_len'], ascending=False, inplace=True)\n",
    "imdb_dataframe_test.sort_values(by=['texts_len'], ascending=False, inplace=True)"
   ]
  },
  {
   "cell_type": "code",
   "execution_count": 27,
   "id": "c13cb962-2b31-45d6-b51e-c6a234219160",
   "metadata": {},
   "outputs": [
    {
     "name": "stdout",
     "output_type": "stream",
     "text": [
      "[2752 2623 2467 2072 1901 1701 1665 1614 1599 1549]\n",
      "[1992 1722 1549 1299 1256 1206 1199 1199 1184 1182]\n",
      "[2474 2022 1923 1486 1334 1310 1244 1211 1210 1209]\n"
     ]
    }
   ],
   "source": [
    "print(imdb_dataframe_train['texts_len'].values[:10])\n",
    "print(imdb_dataframe_valid['texts_len'].values[:10])\n",
    "print(imdb_dataframe_test['texts_len'].values[:10])"
   ]
  },
  {
   "cell_type": "code",
   "execution_count": 28,
   "id": "c8f64c97-a2a8-49b1-9e16-21fd248e563e",
   "metadata": {},
   "outputs": [],
   "source": [
    "# imdb_dataframe_train.to_csv(r'IMDB_train.csv', columns=['labels', 'texts'], index=False)\n",
    "# imdb_dataframe_valid.to_csv(r'IMDB_valid.csv', columns=['labels', 'texts'], index=False)\n",
    "# imdb_dataframe_test.to_csv(r'IMDB_test.csv', columns=['labels', 'texts'], index=False)"
   ]
  },
  {
   "cell_type": "code",
   "execution_count": 29,
   "id": "7c89d804-e21d-493c-9953-504af684c541",
   "metadata": {},
   "outputs": [],
   "source": [
    "train_dataset = CustomDataset(csv_file=r'IMDB_train.csv')\n",
    "valid_dataset = CustomDataset(csv_file=r'IMDB_valid.csv')\n",
    "test_dataset = CustomDataset(csv_file=r'IMDB_test.csv')"
   ]
  },
  {
   "cell_type": "raw",
   "id": "f6cc78c0-3e70-414f-80d3-0d3062a9a31c",
   "metadata": {},
   "source": [
    "len(train_dataset), len(valid_dataset), len(test_dataset)"
   ]
  },
  {
   "cell_type": "code",
   "execution_count": 31,
   "id": "edd5a530-1ee0-4aca-b2c4-ea5e2173d2e9",
   "metadata": {},
   "outputs": [],
   "source": [
    "from torchtext.vocab import build_vocab_from_iterator\n",
    "vocab = build_vocab_from_iterator(imdb_dataframe_train['tokenized'], specials=['<pad>', '<unk>'])\n",
    "vocab.set_default_index(vocab['<unk>'])"
   ]
  },
  {
   "cell_type": "code",
   "execution_count": 32,
   "id": "d3015da4-b42f-464f-b5c9-26d80ce72ad5",
   "metadata": {},
   "outputs": [],
   "source": [
    "# Create dataloader from dataset and make batch preprocess\n",
    "from torch.utils.data import DataLoader\n",
    "from torch.nn.utils.rnn import pad_sequence\n",
    "\n",
    "device = torch.device(\"cuda\" if torch.cuda.is_available() else \"cpu\")\n",
    "\n",
    "def collate_batch(batch):\n",
    "    batch_text2id_seq = [torch.tensor(vocab(tokenizer(_text)), dtype=torch.int64) for _text, _ in batch]\n",
    "    batch_label_seq = torch.tensor([_label for _, _label in batch], dtype=torch.float)\n",
    "    batch_label_seq = batch_label_seq.unsqueeze(1)\n",
    "    batch_len_seq = [len(seq) for seq in batch_text2id_seq]\n",
    "    \n",
    "    batch_padded = pad_sequence(batch_text2id_seq, batch_first=True)\n",
    "    return batch_padded.to(device), batch_label_seq.to(device), batch_len_seq\n",
    "\n",
    "dataloader = DataLoader(train_dataset, batch_size=32, collate_fn=collate_batch)"
   ]
  },
  {
   "cell_type": "code",
   "execution_count": 33,
   "id": "c693af4d-89cf-40c3-90f7-4e9f10b2e235",
   "metadata": {},
   "outputs": [
    {
     "name": "stdout",
     "output_type": "stream",
     "text": [
      "torch.Size([32, 2752]) torch.Size([32, 1]) [2752, 2623, 2474, 2467, 2022, 1992, 1923, 1722, 1701, 1614, 1599, 1549, 1549, 1488, 1486, 1469, 1440, 1428, 1347, 1334, 1317, 1300, 1299, 1284, 1256, 1249, 1247, 1234, 1227, 1226, 1220, 1217]\n",
      "torch.Size([32, 1213]) torch.Size([32, 1]) [1213, 1212, 1211, 1210, 1210, 1209, 1206, 1206, 1206, 1205, 1203, 1202, 1202, 1199, 1197, 1193, 1190, 1189, 1188, 1187, 1186, 1184, 1184, 1183, 1183, 1182, 1178, 1177, 1175, 1175, 1174, 1173]\n",
      "torch.Size([32, 1173]) torch.Size([32, 1]) [1173, 1173, 1173, 1172, 1172, 1172, 1172, 1170, 1169, 1169, 1169, 1168, 1167, 1165, 1164, 1164, 1163, 1163, 1163, 1162, 1160, 1160, 1160, 1159, 1158, 1158, 1158, 1158, 1157, 1155, 1155, 1154]\n",
      "torch.Size([32, 1154]) torch.Size([32, 1]) [1154, 1153, 1153, 1153, 1152, 1152, 1152, 1152, 1151, 1150, 1150, 1149, 1149, 1149, 1149, 1149, 1148, 1147, 1146, 1144, 1144, 1144, 1143, 1143, 1143, 1143, 1143, 1143, 1142, 1142, 1142, 1141]\n",
      "torch.Size([32, 1141]) torch.Size([32, 1]) [1141, 1140, 1140, 1140, 1138, 1138, 1138, 1137, 1136, 1136, 1136, 1136, 1135, 1134, 1134, 1134, 1133, 1133, 1131, 1131, 1131, 1131, 1130, 1130, 1129, 1129, 1129, 1129, 1129, 1128, 1127, 1127]\n"
     ]
    }
   ],
   "source": [
    "# Check is everything fine\n",
    "k = 0\n",
    "for i, j, l in dataloader:\n",
    "    k+=1\n",
    "    print(i.shape, j.shape, l)\n",
    "    if k == 5:\n",
    "        break"
   ]
  },
  {
   "cell_type": "code",
   "execution_count": 34,
   "id": "86624995-dd48-45a6-b834-79baee9f0404",
   "metadata": {},
   "outputs": [],
   "source": [
    "import torch.nn as nn\n",
    "class RNNBaseline(nn.Module):\n",
    "    def __init__(self, \n",
    "                 vocab_size, \n",
    "                 embedding_dim, \n",
    "                 hidden_dim, \n",
    "                 n_layers, \n",
    "                 dropout=0,\n",
    "                 bidirectional=False, \n",
    "                 pad_idx=0, \n",
    "                 num_classes=1):\n",
    "        \n",
    "        super().__init__()\n",
    "        \n",
    "        self.bidirectional = bidirectional\n",
    "        \n",
    "        self.embedding = nn.Embedding(vocab_size, embedding_dim, padding_idx = pad_idx)\n",
    "        \n",
    "        self.rnn = nn.LSTM(input_size = embedding_dim,\n",
    "                           hidden_size = hidden_dim,\n",
    "                           num_layers = n_layers,\n",
    "                           bidirectional = bidirectional,\n",
    "                           dropout = dropout,\n",
    "                           batch_first=True)\n",
    "        if dropout:\n",
    "            self.dropout_l = nn.Dropout(p=dropout)\n",
    "        else:\n",
    "            self.dropout_l = None\n",
    "            \n",
    "        if bidirectional:\n",
    "             self.fc = nn.Linear(2*hidden_dim, num_classes)\n",
    "        else:\n",
    "             self.fc = nn.Linear(hidden_dim, num_classes)\n",
    "        \n",
    "    def forward(self, text, text_lengths):\n",
    "        \n",
    "        embedded = self.embedding(text)\n",
    "        \n",
    "        # pack sequence\n",
    "        packed_embedded = nn.utils.rnn.pack_padded_sequence(embedded, text_lengths, batch_first=True)\n",
    "        packed_output, (hidden, cell) = self.rnn(packed_embedded)\n",
    "        \n",
    "        # unpack sequence\n",
    "        output, output_lengths = nn.utils.rnn.pad_packed_sequence(packed_output, batch_first=True)  \n",
    "        \n",
    "        \"\"\"\n",
    "        output = [batch size, sent len padded , hid dim * num directions]\n",
    "        hidden = [batch size, num layers * num directions, hid dim]\n",
    "        concat the final forward (hidden[-2,:,:]) and backward (hidden[-1,:,:]) \n",
    "        hidden layers and apply dropout\n",
    "        \"\"\"\n",
    "    \n",
    "        if self.bidirectional:\n",
    "            hidden = torch.cat([hidden[-2,:,:], hidden[-1,:,:]], dim=-1)\n",
    "        else:\n",
    "            hidden = hidden[-1,:,:]\n",
    "        if self.dropout_l is not None:\n",
    "            hidden = self.dropout_l(hidden)\n",
    "            \n",
    "        return self.fc(hidden)"
   ]
  },
  {
   "cell_type": "code",
   "execution_count": 76,
   "id": "4ab28ccc-f1fe-4be2-8636-75403a3fac4a",
   "metadata": {},
   "outputs": [],
   "source": [
    "import time\n",
    "\n",
    "def train(dataloader):\n",
    "    model.train()\n",
    "    total_acc, total_count = 0, 0\n",
    "    log_interval = 100\n",
    "    start_time = time.time()\n",
    "    for idx, (text, label, length) in enumerate(dataloader):\n",
    "        opt.zero_grad()\n",
    "        predicted_label = model(text, length)\n",
    "        loss = loss_func(predicted_label, label)\n",
    "        loss.backward()\n",
    "        torch.nn.utils.clip_grad_norm_(model.parameters(), 0.1)\n",
    "        opt.step()\n",
    "        total_acc += ((torch.sigmoid(predicted_label) > 0.5) == label).sum().item()\n",
    "        total_count += label.size(0)\n",
    "        if idx % log_interval == 0 and idx > 0:\n",
    "            elapsed = time.time() - start_time\n",
    "            \n",
    "            print('| epoch {:3d} | {:5d}/{:5d} batches '\n",
    "                  '| accuracy {:8.3f} | lr: {:.0e}'.format(epoch, idx, len(dataloader),\n",
    "                                              total_acc/total_count, scheduler.get_last_lr()[0]))\n",
    "\n",
    "            total_acc, total_count = 0, 0\n",
    "            start_time = time.time()\n",
    "            \n",
    "def evaluate(dataloader):\n",
    "    model.eval()\n",
    "    total_acc, total_count = 0, 0\n",
    "    \n",
    "    with torch.no_grad():\n",
    "        for idx, (text, label, length) in enumerate(dataloader):\n",
    "            predicted_label = model(text, length)\n",
    "            total_acc += ((torch.sigmoid(predicted_label) > 0.5) == label).sum().item()\n",
    "            total_count += label.size(0)\n",
    "        return total_acc/total_count"
   ]
  },
  {
   "cell_type": "code",
   "execution_count": 77,
   "id": "c25c1a05-01ba-4b98-870c-eb195002f389",
   "metadata": {},
   "outputs": [],
   "source": [
    "vocab_size = len(vocab)\n",
    "emb_dim = 200\n",
    "hidden_dim = 512\n",
    "num_classes = 1\n",
    "n_layers = 2\n",
    "bidirectional = True\n",
    "dropout = 0.5\n",
    "PAD_IDX = vocab['<pad>']\n",
    "\n",
    "model = RNNBaseline(\n",
    "    vocab_size=vocab_size,\n",
    "    embedding_dim=emb_dim,\n",
    "    hidden_dim=hidden_dim,\n",
    "    num_classes=num_classes,\n",
    "    n_layers=n_layers,\n",
    "    bidirectional=bidirectional,\n",
    "    dropout=dropout,\n",
    "    pad_idx=PAD_IDX\n",
    ")\n",
    "\n",
    "model = model.to(device)\n",
    "\n",
    "opt = torch.optim.Adam(model.parameters())\n",
    "loss_func = nn.BCEWithLogitsLoss()\n",
    "scheduler = torch.optim.lr_scheduler.StepLR(opt, 1.0, gamma=0.1)\n",
    "\n",
    "BATCH_SIZE = 32\n",
    "max_epochs = 10\n",
    "\n",
    "train_dataloader = DataLoader(train_dataset, batch_size=BATCH_SIZE,\n",
    "                              shuffle=False, collate_fn=collate_batch)\n",
    "valid_dataloader = DataLoader(valid_dataset, batch_size=BATCH_SIZE,\n",
    "                              shuffle=False, collate_fn=collate_batch)\n",
    "test_dataloader = DataLoader(test_dataset, batch_size=BATCH_SIZE,\n",
    "                             shuffle=False, collate_fn=collate_batch)"
   ]
  },
  {
   "cell_type": "code",
   "execution_count": 78,
   "id": "b43fc307-84e9-4c82-b65a-a184b6cdf0e8",
   "metadata": {},
   "outputs": [
    {
     "name": "stdout",
     "output_type": "stream",
     "text": [
      "| epoch   1 |   100/ 1094 batches | accuracy    0.580 | lr: 1e-03\n",
      "| epoch   1 |   200/ 1094 batches | accuracy    0.586 | lr: 1e-03\n",
      "| epoch   1 |   300/ 1094 batches | accuracy    0.552 | lr: 1e-03\n",
      "| epoch   1 |   400/ 1094 batches | accuracy    0.573 | lr: 1e-03\n",
      "| epoch   1 |   500/ 1094 batches | accuracy    0.612 | lr: 1e-03\n",
      "| epoch   1 |   600/ 1094 batches | accuracy    0.583 | lr: 1e-03\n",
      "| epoch   1 |   700/ 1094 batches | accuracy    0.654 | lr: 1e-03\n",
      "| epoch   1 |   800/ 1094 batches | accuracy    0.675 | lr: 1e-03\n",
      "| epoch   1 |   900/ 1094 batches | accuracy    0.713 | lr: 1e-03\n",
      "| epoch   1 |  1000/ 1094 batches | accuracy    0.777 | lr: 1e-03\n",
      "-----------------------------------------------------------\n",
      "| end of epoch   1 | time: 132.59s | valid accuracy    0.783 \n",
      "-----------------------------------------------------------\n",
      "| epoch   2 |   100/ 1094 batches | accuracy    0.793 | lr: 1e-03\n",
      "| epoch   2 |   200/ 1094 batches | accuracy    0.816 | lr: 1e-03\n",
      "| epoch   2 |   300/ 1094 batches | accuracy    0.855 | lr: 1e-03\n",
      "| epoch   2 |   400/ 1094 batches | accuracy    0.860 | lr: 1e-03\n",
      "| epoch   2 |   500/ 1094 batches | accuracy    0.872 | lr: 1e-03\n",
      "| epoch   2 |   600/ 1094 batches | accuracy    0.868 | lr: 1e-03\n",
      "| epoch   2 |   700/ 1094 batches | accuracy    0.874 | lr: 1e-03\n",
      "| epoch   2 |   800/ 1094 batches | accuracy    0.893 | lr: 1e-03\n",
      "| epoch   2 |   900/ 1094 batches | accuracy    0.907 | lr: 1e-03\n",
      "| epoch   2 |  1000/ 1094 batches | accuracy    0.921 | lr: 1e-03\n",
      "-----------------------------------------------------------\n",
      "| end of epoch   2 | time: 133.18s | valid accuracy    0.892 \n",
      "-----------------------------------------------------------\n",
      "| epoch   3 |   100/ 1094 batches | accuracy    0.912 | lr: 1e-03\n",
      "| epoch   3 |   200/ 1094 batches | accuracy    0.914 | lr: 1e-03\n",
      "| epoch   3 |   300/ 1094 batches | accuracy    0.916 | lr: 1e-03\n",
      "| epoch   3 |   400/ 1094 batches | accuracy    0.930 | lr: 1e-03\n",
      "| epoch   3 |   500/ 1094 batches | accuracy    0.927 | lr: 1e-03\n",
      "| epoch   3 |   600/ 1094 batches | accuracy    0.921 | lr: 1e-03\n",
      "| epoch   3 |   700/ 1094 batches | accuracy    0.932 | lr: 1e-03\n",
      "| epoch   3 |   800/ 1094 batches | accuracy    0.940 | lr: 1e-03\n",
      "| epoch   3 |   900/ 1094 batches | accuracy    0.949 | lr: 1e-03\n",
      "| epoch   3 |  1000/ 1094 batches | accuracy    0.952 | lr: 1e-03\n",
      "-----------------------------------------------------------\n",
      "| end of epoch   3 | time: 132.85s | valid accuracy    0.905 \n",
      "-----------------------------------------------------------\n",
      "| epoch   4 |   100/ 1094 batches | accuracy    0.956 | lr: 1e-03\n",
      "| epoch   4 |   200/ 1094 batches | accuracy    0.949 | lr: 1e-03\n",
      "| epoch   4 |   300/ 1094 batches | accuracy    0.955 | lr: 1e-03\n",
      "| epoch   4 |   400/ 1094 batches | accuracy    0.958 | lr: 1e-03\n",
      "| epoch   4 |   500/ 1094 batches | accuracy    0.954 | lr: 1e-03\n",
      "| epoch   4 |   600/ 1094 batches | accuracy    0.954 | lr: 1e-03\n",
      "| epoch   4 |   700/ 1094 batches | accuracy    0.968 | lr: 1e-03\n",
      "| epoch   4 |   800/ 1094 batches | accuracy    0.964 | lr: 1e-03\n",
      "| epoch   4 |   900/ 1094 batches | accuracy    0.972 | lr: 1e-03\n",
      "| epoch   4 |  1000/ 1094 batches | accuracy    0.973 | lr: 1e-03\n",
      "-----------------------------------------------------------\n",
      "| end of epoch   4 | time: 132.72s | valid accuracy    0.906 \n",
      "-----------------------------------------------------------\n",
      "| epoch   5 |   100/ 1094 batches | accuracy    0.979 | lr: 1e-03\n",
      "| epoch   5 |   200/ 1094 batches | accuracy    0.977 | lr: 1e-03\n",
      "| epoch   5 |   300/ 1094 batches | accuracy    0.972 | lr: 1e-03\n",
      "| epoch   5 |   400/ 1094 batches | accuracy    0.983 | lr: 1e-03\n",
      "| epoch   5 |   500/ 1094 batches | accuracy    0.979 | lr: 1e-03\n",
      "| epoch   5 |   600/ 1094 batches | accuracy    0.975 | lr: 1e-03\n",
      "| epoch   5 |   700/ 1094 batches | accuracy    0.984 | lr: 1e-03\n",
      "| epoch   5 |   800/ 1094 batches | accuracy    0.982 | lr: 1e-03\n",
      "| epoch   5 |   900/ 1094 batches | accuracy    0.985 | lr: 1e-03\n",
      "| epoch   5 |  1000/ 1094 batches | accuracy    0.988 | lr: 1e-03\n",
      "-----------------------------------------------------------\n",
      "| end of epoch   5 | time: 133.48s | valid accuracy    0.907 \n",
      "-----------------------------------------------------------\n",
      "| epoch   6 |   100/ 1094 batches | accuracy    0.988 | lr: 1e-03\n",
      "| epoch   6 |   200/ 1094 batches | accuracy    0.988 | lr: 1e-03\n",
      "| epoch   6 |   300/ 1094 batches | accuracy    0.987 | lr: 1e-03\n",
      "| epoch   6 |   400/ 1094 batches | accuracy    0.989 | lr: 1e-03\n",
      "| epoch   6 |   500/ 1094 batches | accuracy    0.987 | lr: 1e-03\n",
      "| epoch   6 |   600/ 1094 batches | accuracy    0.987 | lr: 1e-03\n",
      "| epoch   6 |   700/ 1094 batches | accuracy    0.993 | lr: 1e-03\n",
      "| epoch   6 |   800/ 1094 batches | accuracy    0.994 | lr: 1e-03\n",
      "| epoch   6 |   900/ 1094 batches | accuracy    0.992 | lr: 1e-03\n",
      "| epoch   6 |  1000/ 1094 batches | accuracy    0.991 | lr: 1e-03\n",
      "-----------------------------------------------------------\n",
      "| end of epoch   6 | time: 133.50s | valid accuracy    0.909 \n",
      "-----------------------------------------------------------\n",
      "| epoch   7 |   100/ 1094 batches | accuracy    0.992 | lr: 1e-03\n",
      "| epoch   7 |   200/ 1094 batches | accuracy    0.993 | lr: 1e-03\n",
      "| epoch   7 |   300/ 1094 batches | accuracy    0.989 | lr: 1e-03\n",
      "| epoch   7 |   400/ 1094 batches | accuracy    0.993 | lr: 1e-03\n",
      "| epoch   7 |   500/ 1094 batches | accuracy    0.993 | lr: 1e-03\n",
      "| epoch   7 |   600/ 1094 batches | accuracy    0.992 | lr: 1e-03\n",
      "| epoch   7 |   700/ 1094 batches | accuracy    0.992 | lr: 1e-03\n",
      "| epoch   7 |   800/ 1094 batches | accuracy    0.994 | lr: 1e-03\n",
      "| epoch   7 |   900/ 1094 batches | accuracy    0.993 | lr: 1e-03\n",
      "| epoch   7 |  1000/ 1094 batches | accuracy    0.994 | lr: 1e-03\n",
      "-----------------------------------------------------------\n",
      "| end of epoch   7 | time: 133.50s | valid accuracy    0.908 \n",
      "-----------------------------------------------------------\n",
      "| epoch   8 |   100/ 1094 batches | accuracy    0.998 | lr: 1e-04\n",
      "| epoch   8 |   200/ 1094 batches | accuracy    0.997 | lr: 1e-04\n",
      "| epoch   8 |   300/ 1094 batches | accuracy    0.999 | lr: 1e-04\n",
      "| epoch   8 |   400/ 1094 batches | accuracy    0.997 | lr: 1e-04\n",
      "| epoch   8 |   500/ 1094 batches | accuracy    0.997 | lr: 1e-04\n",
      "| epoch   8 |   600/ 1094 batches | accuracy    0.998 | lr: 1e-04\n",
      "| epoch   8 |   700/ 1094 batches | accuracy    0.998 | lr: 1e-04\n",
      "| epoch   8 |   800/ 1094 batches | accuracy    0.998 | lr: 1e-04\n",
      "| epoch   8 |   900/ 1094 batches | accuracy    0.999 | lr: 1e-04\n",
      "| epoch   8 |  1000/ 1094 batches | accuracy    0.998 | lr: 1e-04\n",
      "-----------------------------------------------------------\n",
      "| end of epoch   8 | time: 133.72s | valid accuracy    0.915 \n",
      "-----------------------------------------------------------\n",
      "| epoch   9 |   100/ 1094 batches | accuracy    1.000 | lr: 1e-04\n",
      "| epoch   9 |   200/ 1094 batches | accuracy    1.000 | lr: 1e-04\n",
      "| epoch   9 |   300/ 1094 batches | accuracy    1.000 | lr: 1e-04\n",
      "| epoch   9 |   400/ 1094 batches | accuracy    1.000 | lr: 1e-04\n",
      "| epoch   9 |   500/ 1094 batches | accuracy    0.999 | lr: 1e-04\n",
      "| epoch   9 |   600/ 1094 batches | accuracy    0.999 | lr: 1e-04\n",
      "| epoch   9 |   700/ 1094 batches | accuracy    0.999 | lr: 1e-04\n",
      "| epoch   9 |   800/ 1094 batches | accuracy    0.999 | lr: 1e-04\n",
      "| epoch   9 |   900/ 1094 batches | accuracy    1.000 | lr: 1e-04\n",
      "| epoch   9 |  1000/ 1094 batches | accuracy    0.998 | lr: 1e-04\n",
      "-----------------------------------------------------------\n",
      "| end of epoch   9 | time: 134.05s | valid accuracy    0.916 \n",
      "-----------------------------------------------------------\n",
      "| epoch  10 |   100/ 1094 batches | accuracy    1.000 | lr: 1e-04\n",
      "| epoch  10 |   200/ 1094 batches | accuracy    1.000 | lr: 1e-04\n",
      "| epoch  10 |   300/ 1094 batches | accuracy    1.000 | lr: 1e-04\n",
      "| epoch  10 |   400/ 1094 batches | accuracy    1.000 | lr: 1e-04\n",
      "| epoch  10 |   500/ 1094 batches | accuracy    1.000 | lr: 1e-04\n",
      "| epoch  10 |   600/ 1094 batches | accuracy    0.999 | lr: 1e-04\n",
      "| epoch  10 |   700/ 1094 batches | accuracy    0.999 | lr: 1e-04\n",
      "| epoch  10 |   800/ 1094 batches | accuracy    0.999 | lr: 1e-04\n",
      "| epoch  10 |   900/ 1094 batches | accuracy    1.000 | lr: 1e-04\n",
      "| epoch  10 |  1000/ 1094 batches | accuracy    0.999 | lr: 1e-04\n",
      "-----------------------------------------------------------\n",
      "| end of epoch  10 | time: 133.77s | valid accuracy    0.915 \n",
      "-----------------------------------------------------------\n"
     ]
    }
   ],
   "source": [
    "total_accu = None\n",
    "\n",
    "for epoch in range(1, max_epochs + 1):\n",
    "    epoch_start_time = time.time()\n",
    "    train(train_dataloader)\n",
    "    accu_val = evaluate(valid_dataloader)\n",
    "    if total_accu is not None and total_accu > accu_val:\n",
    "      scheduler.step()\n",
    "    else:\n",
    "       total_accu = accu_val\n",
    "   \n",
    "    print('-' * 59)\n",
    "    print('| end of epoch {:3d} | time: {:5.2f}s | '\n",
    "          'valid accuracy {:8.3f} '.format(epoch,\n",
    "                                           time.time() - epoch_start_time,\n",
    "                                           accu_val))\n",
    "    print('-' * 59)"
   ]
  },
  {
   "cell_type": "code",
   "execution_count": 79,
   "id": "f0a17137-4954-48f2-bd0c-b0a39e1ecc18",
   "metadata": {},
   "outputs": [
    {
     "data": {
      "text/plain": [
       "0.9082666666666667"
      ]
     },
     "execution_count": 79,
     "metadata": {},
     "output_type": "execute_result"
    }
   ],
   "source": [
    "evaluate(test_dataloader)"
   ]
  },
  {
   "cell_type": "code",
   "execution_count": 80,
   "id": "e889951a-a4dc-416c-9750-67646c9ca406",
   "metadata": {},
   "outputs": [],
   "source": [
    "torch.save(model.state_dict(), r'LSTM_BI_2L.pt')"
   ]
  },
  {
   "cell_type": "code",
   "execution_count": 81,
   "id": "01b52869-a2eb-4d3e-bca5-f4f266efea9b",
   "metadata": {},
   "outputs": [
    {
     "data": {
      "text/plain": [
       "<All keys matched successfully>"
      ]
     },
     "execution_count": 81,
     "metadata": {},
     "output_type": "execute_result"
    }
   ],
   "source": [
    "model_saved = RNNBaseline(\n",
    "    vocab_size=vocab_size,\n",
    "    embedding_dim=emb_dim,\n",
    "    hidden_dim=hidden_dim,\n",
    "    num_classes=num_classes,\n",
    "    n_layers=n_layers,\n",
    "    bidirectional=bidirectional,\n",
    "    dropout=dropout,\n",
    "    pad_idx=PAD_IDX\n",
    ")\n",
    "model_saved.load_state_dict(torch.load(r'LSTM_BI_2L.pt'))"
   ]
  },
  {
   "cell_type": "code",
   "execution_count": 83,
   "id": "f89ab047-b65e-4861-9689-892fe479a3bf",
   "metadata": {},
   "outputs": [
    {
     "name": "stdout",
     "output_type": "stream",
     "text": [
      "0.9082666666666667\n"
     ]
    }
   ],
   "source": [
    "model_saved.to(device)\n",
    "model_saved.eval()\n",
    "total_acc, total_count = 0, 0\n",
    "\n",
    "with torch.no_grad():\n",
    "    # pbar = tqdm(enumerate(test_dataloader), total=len(test_dataloader), leave=False, position=0)\n",
    "    # pbar.set_description(f\"Epoch {epoch}(valid)\")\n",
    "    for idx, (text, label, length) in enumerate(test_dataloader):\n",
    "        predicted_label = model_saved(text, length)\n",
    "        total_acc += ((torch.sigmoid(predicted_label) > 0.5) == label).sum().item()\n",
    "        total_count += label.size(0)\n",
    "print(total_acc/total_count)"
   ]
  },
  {
   "cell_type": "code",
   "execution_count": 146,
   "id": "44de46a5-72c4-484c-a3c9-6cb5b8d1095a",
   "metadata": {},
   "outputs": [
    {
     "data": {
      "text/plain": [
       "0.9988327622413635"
      ]
     },
     "execution_count": 146,
     "metadata": {},
     "output_type": "execute_result"
    }
   ],
   "source": [
    "def ev(sen):\n",
    "    model.eval()\n",
    "    with torch.no_grad():\n",
    "        tokenized = tokenizer(sen)\n",
    "        inp = torch.tensor(vocab(tokenized)).unsqueeze(0).to(device)\n",
    "        length = torch.tensor(inp.size(1)).unsqueeze(0).to('cpu')\n",
    "        pred = torch.sigmoid(model(inp, length))\n",
    "    return pred.item()\n",
    "ev('It was a fantastic performance !')"
   ]
  },
  {
   "cell_type": "code",
   "execution_count": 149,
   "id": "3ee340c2-d7a2-48fa-b0ba-2465b1cdca63",
   "metadata": {},
   "outputs": [
    {
     "name": "stdout",
     "output_type": "stream",
     "text": [
      "0.9999808073043823\n",
      "0.9999887943267822\n",
      "5.189242074266076e-06\n",
      "0.00045184246846474707\n",
      "7.519365681218915e-06\n",
      "1.030789604783422e-07\n"
     ]
    }
   ],
   "source": [
    "# Evaluate model on new phrases\n",
    "sentences = ['Best film ever', \n",
    "             'Such a great show!', \n",
    "             'It was a horrible movie', \n",
    "             'I\\'ve never watched something as bad', \n",
    "             'It is a disgusting movie!', \n",
    "             'So-so. I\\'d watched something better you know']\n",
    "for sen in sentences:\n",
    "    print(ev(sen))"
   ]
  }
 ],
 "metadata": {
  "kernelspec": {
   "display_name": "Python 3",
   "language": "python",
   "name": "python3"
  },
  "language_info": {
   "codemirror_mode": {
    "name": "ipython",
    "version": 3
   },
   "file_extension": ".py",
   "mimetype": "text/x-python",
   "name": "python",
   "nbconvert_exporter": "python",
   "pygments_lexer": "ipython3",
   "version": "3.9.12"
  }
 },
 "nbformat": 4,
 "nbformat_minor": 5
}
