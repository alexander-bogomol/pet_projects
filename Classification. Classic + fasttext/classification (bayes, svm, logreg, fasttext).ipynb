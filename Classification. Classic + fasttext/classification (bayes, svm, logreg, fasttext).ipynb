{
 "cells": [
  {
   "cell_type": "code",
   "execution_count": 1,
   "id": "2ef6f9d3-5fc8-419d-aaf5-784c2e53ff99",
   "metadata": {},
   "outputs": [
    {
     "data": {
      "text/html": [
       "<div>\n",
       "<style scoped>\n",
       "    .dataframe tbody tr th:only-of-type {\n",
       "        vertical-align: middle;\n",
       "    }\n",
       "\n",
       "    .dataframe tbody tr th {\n",
       "        vertical-align: top;\n",
       "    }\n",
       "\n",
       "    .dataframe thead th {\n",
       "        text-align: right;\n",
       "    }\n",
       "</style>\n",
       "<table border=\"1\" class=\"dataframe\">\n",
       "  <thead>\n",
       "    <tr style=\"text-align: right;\">\n",
       "      <th></th>\n",
       "      <th>_unit_id</th>\n",
       "      <th>_golden</th>\n",
       "      <th>_unit_state</th>\n",
       "      <th>_trusted_judgments</th>\n",
       "      <th>_last_judgment_at</th>\n",
       "      <th>positivity</th>\n",
       "      <th>positivity:confidence</th>\n",
       "      <th>relevance</th>\n",
       "      <th>relevance:confidence</th>\n",
       "      <th>articleid</th>\n",
       "      <th>date</th>\n",
       "      <th>headline</th>\n",
       "      <th>positivity_gold</th>\n",
       "      <th>relevance_gold</th>\n",
       "      <th>text</th>\n",
       "    </tr>\n",
       "  </thead>\n",
       "  <tbody>\n",
       "    <tr>\n",
       "      <th>2323</th>\n",
       "      <td>842615784</td>\n",
       "      <td>False</td>\n",
       "      <td>finalized</td>\n",
       "      <td>3</td>\n",
       "      <td>12/5/15 1:57</td>\n",
       "      <td>NaN</td>\n",
       "      <td>NaN</td>\n",
       "      <td>no</td>\n",
       "      <td>1.0000</td>\n",
       "      <td>wsj_926853429</td>\n",
       "      <td>3/9/12</td>\n",
       "      <td>Slowing Gives Beijing Room to Loosen Policy</td>\n",
       "      <td>NaN</td>\n",
       "      <td>NaN</td>\n",
       "      <td>BEIJING--A raft of economic data released on F...</td>\n",
       "    </tr>\n",
       "    <tr>\n",
       "      <th>6443</th>\n",
       "      <td>830984074</td>\n",
       "      <td>False</td>\n",
       "      <td>finalized</td>\n",
       "      <td>3</td>\n",
       "      <td>11/17/15 20:56</td>\n",
       "      <td>NaN</td>\n",
       "      <td>NaN</td>\n",
       "      <td>no</td>\n",
       "      <td>1.0000</td>\n",
       "      <td>wapo_138585809</td>\n",
       "      <td>6/21/85</td>\n",
       "      <td>AT&amp;T, Quotron Launch Financial Data System</td>\n",
       "      <td>NaN</td>\n",
       "      <td>NaN</td>\n",
       "      <td>ÐÊ\\tAmerican Telephone &amp; Telegraph Co. and Qu...</td>\n",
       "    </tr>\n",
       "    <tr>\n",
       "      <th>2732</th>\n",
       "      <td>842616193</td>\n",
       "      <td>False</td>\n",
       "      <td>finalized</td>\n",
       "      <td>3</td>\n",
       "      <td>12/5/15 12:32</td>\n",
       "      <td>3.0</td>\n",
       "      <td>0.3554</td>\n",
       "      <td>yes</td>\n",
       "      <td>0.6446</td>\n",
       "      <td>wsj_1543603523</td>\n",
       "      <td>7/9/14</td>\n",
       "      <td>Ahead of the Tape</td>\n",
       "      <td>NaN</td>\n",
       "      <td>NaN</td>\n",
       "      <td>Uncertainty Abounds Around Rate Rise&lt;/br&gt;&lt;/br&gt;...</td>\n",
       "    </tr>\n",
       "  </tbody>\n",
       "</table>\n",
       "</div>"
      ],
      "text/plain": [
       "       _unit_id  _golden _unit_state  _trusted_judgments _last_judgment_at  \\\n",
       "2323  842615784    False   finalized                   3      12/5/15 1:57   \n",
       "6443  830984074    False   finalized                   3    11/17/15 20:56   \n",
       "2732  842616193    False   finalized                   3     12/5/15 12:32   \n",
       "\n",
       "      positivity  positivity:confidence relevance  relevance:confidence  \\\n",
       "2323         NaN                    NaN        no                1.0000   \n",
       "6443         NaN                    NaN        no                1.0000   \n",
       "2732         3.0                 0.3554       yes                0.6446   \n",
       "\n",
       "           articleid     date                                     headline  \\\n",
       "2323   wsj_926853429   3/9/12  Slowing Gives Beijing Room to Loosen Policy   \n",
       "6443  wapo_138585809  6/21/85   AT&T, Quotron Launch Financial Data System   \n",
       "2732  wsj_1543603523   7/9/14                            Ahead of the Tape   \n",
       "\n",
       "      positivity_gold  relevance_gold  \\\n",
       "2323              NaN             NaN   \n",
       "6443              NaN             NaN   \n",
       "2732              NaN             NaN   \n",
       "\n",
       "                                                   text  \n",
       "2323  BEIJING--A raft of economic data released on F...  \n",
       "6443  ÐÊ\\tAmerican Telephone & Telegraph Co. and Qu...  \n",
       "2732  Uncertainty Abounds Around Rate Rise</br></br>...  "
      ]
     },
     "execution_count": 1,
     "metadata": {},
     "output_type": "execute_result"
    }
   ],
   "source": [
    "import pandas as pd\n",
    "economic_news_df = pd.read_csv('Full-Economic-News-DFE-839861.csv', encoding=\"ISO-8859-15\")\n",
    "economic_news_df.sample(3)"
   ]
  },
  {
   "cell_type": "code",
   "execution_count": 2,
   "id": "9ed1e5a6-20e0-4c84-ba11-4def2cd8537b",
   "metadata": {},
   "outputs": [
    {
     "data": {
      "text/plain": [
       "(0, 0)"
      ]
     },
     "execution_count": 2,
     "metadata": {},
     "output_type": "execute_result"
    }
   ],
   "source": [
    "economic_news_df.relevance.isna().sum(), economic_news_df.text.isna().sum()"
   ]
  },
  {
   "cell_type": "code",
   "execution_count": 3,
   "id": "e5b5e076-8126-4721-b91d-8c6139f3d3b5",
   "metadata": {},
   "outputs": [
    {
     "data": {
      "text/plain": [
       "(7991, 15)"
      ]
     },
     "execution_count": 3,
     "metadata": {},
     "output_type": "execute_result"
    }
   ],
   "source": [
    "# Drop rows with 'not sure' labels\n",
    "drop_index = economic_news_df[economic_news_df.relevance == 'not sure'].index\n",
    "economic_news_df.drop(index=drop_index, inplace=True)\n",
    "economic_news_df.shape"
   ]
  },
  {
   "cell_type": "code",
   "execution_count": 4,
   "id": "0b89d483-53d7-4e72-bbf4-d34da29c3071",
   "metadata": {},
   "outputs": [],
   "source": [
    "economic_news_df = economic_news_df[['text', 'relevance']]"
   ]
  },
  {
   "cell_type": "code",
   "execution_count": 5,
   "id": "7508ca35-5784-4c20-9a75-b84d8658e9ed",
   "metadata": {},
   "outputs": [
    {
     "data": {
      "text/html": [
       "<div>\n",
       "<style scoped>\n",
       "    .dataframe tbody tr th:only-of-type {\n",
       "        vertical-align: middle;\n",
       "    }\n",
       "\n",
       "    .dataframe tbody tr th {\n",
       "        vertical-align: top;\n",
       "    }\n",
       "\n",
       "    .dataframe thead th {\n",
       "        text-align: right;\n",
       "    }\n",
       "</style>\n",
       "<table border=\"1\" class=\"dataframe\">\n",
       "  <thead>\n",
       "    <tr style=\"text-align: right;\">\n",
       "      <th></th>\n",
       "      <th>text</th>\n",
       "      <th>relevance</th>\n",
       "    </tr>\n",
       "  </thead>\n",
       "  <tbody>\n",
       "    <tr>\n",
       "      <th>5905</th>\n",
       "      <td>NEW YORK, March 22-The stock market sustained ...</td>\n",
       "      <td>yes</td>\n",
       "    </tr>\n",
       "    <tr>\n",
       "      <th>2872</th>\n",
       "      <td>Frustrated over the low returns on safe invest...</td>\n",
       "      <td>no</td>\n",
       "    </tr>\n",
       "    <tr>\n",
       "      <th>571</th>\n",
       "      <td>Dow Jones Newswires&lt;/br&gt;&lt;/br&gt;WASHINGTON -- A b...</td>\n",
       "      <td>yes</td>\n",
       "    </tr>\n",
       "  </tbody>\n",
       "</table>\n",
       "</div>"
      ],
      "text/plain": [
       "                                                   text relevance\n",
       "5905  NEW YORK, March 22-The stock market sustained ...       yes\n",
       "2872  Frustrated over the low returns on safe invest...        no\n",
       "571   Dow Jones Newswires</br></br>WASHINGTON -- A b...       yes"
      ]
     },
     "execution_count": 5,
     "metadata": {},
     "output_type": "execute_result"
    }
   ],
   "source": [
    "economic_news_df.sample(3)"
   ]
  },
  {
   "cell_type": "code",
   "execution_count": 6,
   "id": "98cf04c3-ca52-42b8-89c5-b875f466d72b",
   "metadata": {},
   "outputs": [
    {
     "data": {
      "text/html": [
       "<div>\n",
       "<style scoped>\n",
       "    .dataframe tbody tr th:only-of-type {\n",
       "        vertical-align: middle;\n",
       "    }\n",
       "\n",
       "    .dataframe tbody tr th {\n",
       "        vertical-align: top;\n",
       "    }\n",
       "\n",
       "    .dataframe thead th {\n",
       "        text-align: right;\n",
       "    }\n",
       "</style>\n",
       "<table border=\"1\" class=\"dataframe\">\n",
       "  <thead>\n",
       "    <tr style=\"text-align: right;\">\n",
       "      <th></th>\n",
       "      <th>text</th>\n",
       "      <th>relevance</th>\n",
       "    </tr>\n",
       "  </thead>\n",
       "  <tbody>\n",
       "    <tr>\n",
       "      <th>0</th>\n",
       "      <td>NEW YORK -- Yields on most certificates of dep...</td>\n",
       "      <td>1</td>\n",
       "    </tr>\n",
       "    <tr>\n",
       "      <th>1</th>\n",
       "      <td>The Wall Street Journal Online&lt;/br&gt;&lt;/br&gt;The Mo...</td>\n",
       "      <td>0</td>\n",
       "    </tr>\n",
       "    <tr>\n",
       "      <th>2</th>\n",
       "      <td>WASHINGTON -- In an effort to achieve banking ...</td>\n",
       "      <td>0</td>\n",
       "    </tr>\n",
       "    <tr>\n",
       "      <th>3</th>\n",
       "      <td>The statistics on the enormous costs of employ...</td>\n",
       "      <td>0</td>\n",
       "    </tr>\n",
       "    <tr>\n",
       "      <th>4</th>\n",
       "      <td>NEW YORK -- Indecision marked the dollar's ton...</td>\n",
       "      <td>1</td>\n",
       "    </tr>\n",
       "  </tbody>\n",
       "</table>\n",
       "</div>"
      ],
      "text/plain": [
       "                                                text  relevance\n",
       "0  NEW YORK -- Yields on most certificates of dep...          1\n",
       "1  The Wall Street Journal Online</br></br>The Mo...          0\n",
       "2  WASHINGTON -- In an effort to achieve banking ...          0\n",
       "3  The statistics on the enormous costs of employ...          0\n",
       "4  NEW YORK -- Indecision marked the dollar's ton...          1"
      ]
     },
     "execution_count": 6,
     "metadata": {},
     "output_type": "execute_result"
    }
   ],
   "source": [
    "relevance = economic_news_df['relevance'].map({'no': 0, 'yes': 1})\n",
    "economic_news_df.loc[:, 'relevance'] = relevance\n",
    "economic_news_df.head()"
   ]
  },
  {
   "cell_type": "code",
   "execution_count": 7,
   "id": "072c1529-c4e6-411f-8a04-68ca5a4b2d1b",
   "metadata": {},
   "outputs": [],
   "source": [
    "import re\n",
    "import spacy\n",
    "spacy_nlp = spacy.load('en_core_web_sm')\n",
    "STOPWORDS = spacy_nlp.Defaults.stop_words"
   ]
  },
  {
   "cell_type": "code",
   "execution_count": 8,
   "id": "d091d65f-fbc4-496e-8876-4fcafa289041",
   "metadata": {},
   "outputs": [],
   "source": [
    "# Clean <br> tags\n",
    "def clean_br(doc):\n",
    "    doc = re.sub(r'</*br>', ' ', doc)\n",
    "    return doc\n",
    "\n",
    "cleaned_text = economic_news_df['text'].map(clean_br)"
   ]
  },
  {
   "cell_type": "code",
   "execution_count": 9,
   "id": "050d92af-e8d5-41d8-9fe0-a4dd230fe6e6",
   "metadata": {},
   "outputs": [],
   "source": [
    "text_filter = list(STOPWORDS) + [ '!', '\"', '#', '&', '(', ')', '*', '+', '-', '.', '/',  '\\\\', ':', ';', '<', '=', '>',\n",
    "           '?', '@', '[', ']', '^', '_', '`', '{', '|', '}', '\\t','\\n',\"'\",\",\",'~' , '—']"
   ]
  },
  {
   "cell_type": "code",
   "execution_count": 10,
   "id": "24cd2eef-0262-4316-9a5a-94080a8c04d0",
   "metadata": {},
   "outputs": [
    {
     "data": {
      "text/plain": [
       "False"
      ]
     },
     "execution_count": 10,
     "metadata": {},
     "output_type": "execute_result"
    }
   ],
   "source": [
    "# $ and % sign maybe usefull in such case\n",
    "'$' in text_filter"
   ]
  },
  {
   "cell_type": "code",
   "execution_count": 11,
   "id": "f28f37b9-7f08-4d17-8c99-6e99b2e1858b",
   "metadata": {},
   "outputs": [
    {
     "data": {
      "text/plain": [
       "['NEW YORK -- yield certificate deposit offer major bank drop tenth percentage point late week reflect overall decline short term interest rate   small denomination consumer cd sell directly bank average yield month deposit fall 5.49 % 5.62 % week end yesterday accord 18 bank survey Banxquote Money Markets Wilmington Del. information service   month consumer deposit average yield sink 5.29 % 5.42 % week accord Banxquote bank Banxquote survey Citibank New York CoreStates Pennsylvania pay 5 % threemonth small denomination cd   Declines somewhat small year consumer cd ease 7.37 % 7.45 % Banxquote   yield month month Treasury bill sell Monday auction plummet fifth percentage point previous week 5.46 % 5.63 % respectively',\n",
       " 'Wall Street Journal Online   Morning Brief look day big news email subscriber 7 a.m. business day sign e mail   Friday evening Congress town summer recess Americans head mid August weekend Bush administration send message state federal government tough national child insurance program cover offspring middle income family   State Children Health Insurance Program create 1997 help child family afford insurance qualify Medicaid administration official tell New York Times change aim return program low- income focus assure replacement private insurance administration point man Dennis Smith write state official new restriction District Columbia 18 state -- include California New York -- extend plan extend coverage child family 250 % federal poverty level family 250 % $ 42,900 family $ 51,625 new limit child family spend year uninsured qualifying state want extend coverage assure Washington 95 % child eligible SCHIP Medicaid enrol program Associated Press report state currently assurance   Rachel Klein deputy director health policy advocacy group Families USA tell AP family 250 % threshold afford private insurance effect policy uninsured kid Ann Clemency Kohler deputy commissioner human service New Jersey tell Times change cause havoc program jeopardize coverage thousand child state impose waiting period step prevent parent child private insurance SCHIP currently serve 6.6 million child Washington Post note administration new restriction come program expire end month Congress reauthorize subject large political fight pit White House Democrats Republicans Congress state capital',\n",
       " 'WASHINGTON -- effort achieve banking reform Senate negotiator Bush administration agree drop effort allow bank expand far security business   compromise Senate Banking Committee pursue remove obstacle banking bill face Senate start vote measure today late version House banking bill drop administration proposal broaden bank entry security business   night House begin second attempt pass banking bill fail week disagreement allow bank security business House adopt voice vote provision replenish bank deposit insurance fund tighten bank regulation trim scope deposit insurance restrict Federal Reserve Board ability sick bank alive loan   House delay today vote amendment allow bank branch nationwide final passage banking bill House leadership administration time drum support bill   House Speaker Thomas Foley D. Wash. work hard win passage bill face significant opposition Rep. John Dingell D. Mich. believe bill include provision impose stiff regulation bank security business']"
      ]
     },
     "execution_count": 11,
     "metadata": {},
     "output_type": "execute_result"
    }
   ],
   "source": [
    "# lemmatize text with spacy\n",
    "docs = spacy_nlp.pipe(cleaned_text, disable=['ner'], n_process=-1)\n",
    "lemmatized_text = []\n",
    "for doc in docs:\n",
    "    lemmatized_text.append(' '.join([token.lemma_ for token in doc if token.lemma_ not in text_filter]))\n",
    "    \n",
    "lemmatized_text[:3]"
   ]
  },
  {
   "cell_type": "code",
   "execution_count": 12,
   "id": "93bb223f-0f47-4b33-bbb3-6d2a7ae66176",
   "metadata": {},
   "outputs": [],
   "source": [
    "economic_news_df['lemmatized_text'] = lemmatized_text"
   ]
  },
  {
   "cell_type": "code",
   "execution_count": 13,
   "id": "af80e950-ed9b-42a5-973d-4da7d6f337d5",
   "metadata": {},
   "outputs": [
    {
     "data": {
      "text/plain": [
       "(5993, 1998, 343)"
      ]
     },
     "execution_count": 13,
     "metadata": {},
     "output_type": "execute_result"
    }
   ],
   "source": [
    "from sklearn.model_selection import train_test_split\n",
    "text_train, text_test, relevance_train, relevance_test = train_test_split(economic_news_df['lemmatized_text'], economic_news_df['relevance'])\n",
    "len(text_train), len(relevance_test), relevance_test.sum()"
   ]
  },
  {
   "cell_type": "code",
   "execution_count": 14,
   "id": "01268911-ce57-4094-9c8a-d27afee8e7cf",
   "metadata": {},
   "outputs": [
    {
     "data": {
      "text/plain": [
       "(0.17769991240145164, 0.17167167167167166)"
      ]
     },
     "execution_count": 14,
     "metadata": {},
     "output_type": "execute_result"
    }
   ],
   "source": [
    "# Check class distribution\n",
    "economic_news_df['relevance'].sum()/economic_news_df.shape[0], relevance_test.sum() / len(relevance_test)"
   ]
  },
  {
   "cell_type": "code",
   "execution_count": 15,
   "id": "aa1faa29-ccdf-4339-af69-cab7e9a12096",
   "metadata": {},
   "outputs": [],
   "source": [
    "from sklearn.feature_extraction.text import TfidfVectorizer, CountVectorizer\n",
    "from nltk.tokenize import word_tokenize"
   ]
  },
  {
   "cell_type": "code",
   "execution_count": 16,
   "id": "468565bc-77b7-4d13-b375-f6d6424dd072",
   "metadata": {},
   "outputs": [
    {
     "data": {
      "text/plain": [
       "((5993, 42823), (1998, 42823))"
      ]
     },
     "execution_count": 16,
     "metadata": {},
     "output_type": "execute_result"
    }
   ],
   "source": [
    "sklearn_tf_vectorizer = TfidfVectorizer(tokenizer=word_tokenize)\n",
    "text_train_tf = sklearn_tf_vectorizer.fit_transform(text_train)\n",
    "text_test_tf = sklearn_tf_vectorizer.transform(text_test)\n",
    "\n",
    "sklearn_ct_vectorizer = CountVectorizer(tokenizer=word_tokenize)\n",
    "text_train_ct = sklearn_ct_vectorizer.fit_transform(text_train)\n",
    "text_test_ct = sklearn_ct_vectorizer.transform(text_test)\n",
    "\n",
    "text_train_tf.shape, text_test_tf.shape"
   ]
  },
  {
   "cell_type": "code",
   "execution_count": 17,
   "id": "394c1587-eb07-4e49-9fae-89077d356881",
   "metadata": {},
   "outputs": [
    {
     "data": {
      "text/plain": [
       "True"
      ]
     },
     "execution_count": 17,
     "metadata": {},
     "output_type": "execute_result"
    }
   ],
   "source": [
    "'$' in sklearn_tf_vectorizer.vocabulary_.keys()"
   ]
  },
  {
   "cell_type": "code",
   "execution_count": 18,
   "id": "f011e66f-330b-4d88-a272-30e344c3e103",
   "metadata": {},
   "outputs": [
    {
     "name": "stdout",
     "output_type": "stream",
     "text": [
      "Accuracy:  0.8033033033033034\n",
      "AUC:  0.5380523724379697\n",
      "F1-score:  0.18969072164948456\n"
     ]
    }
   ],
   "source": [
    "from sklearn.metrics import accuracy_score, roc_auc_score, f1_score\n",
    "from sklearn.naive_bayes import GaussianNB\n",
    "\n",
    "nb = GaussianNB()\n",
    "nb.fit(text_train_tf.toarray(), relevance_train)\n",
    "\n",
    "y_pred_class = nb.predict(text_test_tf.toarray())\n",
    "y_pred_prob = nb.predict_proba(text_test_tf.toarray())[:, 1]\n",
    "\n",
    "print('Accuracy: ', accuracy_score(relevance_test, y_pred_class))\n",
    "print('AUC: ', roc_auc_score(relevance_test, y_pred_prob))\n",
    "print('F1-score: ', f1_score(relevance_test, y_pred_class))"
   ]
  },
  {
   "cell_type": "code",
   "execution_count": 19,
   "id": "9d923e80-ad6f-474e-88b3-069e85a37bde",
   "metadata": {},
   "outputs": [
    {
     "data": {
      "image/png": "[encoded data removed]",
      "text/plain": [
       "<Figure size 432x288 with 2 Axes>"
      ]
     },
     "metadata": {
      "needs_background": "light"
     },
     "output_type": "display_data"
    }
   ],
   "source": [
    "from sklearn.metrics import confusion_matrix, ConfusionMatrixDisplay\n",
    "cm = confusion_matrix(relevance_test, y_pred_class, labels=nb.classes_)\n",
    "disp = ConfusionMatrixDisplay(confusion_matrix=cm,\n",
    "                              display_labels=nb.classes_)\n",
    "disp.plot();"
   ]
  },
  {
   "cell_type": "code",
   "execution_count": 20,
   "id": "5b8b5494-be75-45b2-8470-3cbfcb3c7b76",
   "metadata": {},
   "outputs": [
    {
     "name": "stdout",
     "output_type": "stream",
     "text": [
      "Accuracy:  0.7887887887887888\n",
      "AUC:  0.7504487681995544\n",
      "F1-score:  0.41873278236914596\n"
     ]
    }
   ],
   "source": [
    "from sklearn.naive_bayes import MultinomialNB\n",
    "nb_m = MultinomialNB()\n",
    "nb_m.fit(text_train_ct.toarray(), relevance_train)\n",
    "\n",
    "ct_pred_class = nb_m.predict(text_test_ct.toarray())\n",
    "ct_pred_prob = nb_m.predict_proba(text_test_ct.toarray())[:, 1]\n",
    "\n",
    "print('Accuracy: ', accuracy_score(relevance_test, ct_pred_class))\n",
    "print('AUC: ', roc_auc_score(relevance_test, ct_pred_prob))\n",
    "print('F1-score: ', f1_score(relevance_test, ct_pred_class))"
   ]
  },
  {
   "cell_type": "code",
   "execution_count": 21,
   "id": "0f4e5578-2722-40fb-9b02-33d30320374f",
   "metadata": {},
   "outputs": [
    {
     "data": {
      "text/plain": [
       "array([0, 0, 0, ..., 0, 0, 0])"
      ]
     },
     "execution_count": 21,
     "metadata": {},
     "output_type": "execute_result"
    }
   ],
   "source": [
    "ct_pred_class"
   ]
  },
  {
   "cell_type": "code",
   "execution_count": 22,
   "id": "5c447762-c922-40ab-9243-92c46bd3032b",
   "metadata": {},
   "outputs": [
    {
     "data": {
      "image/png": "[encoded data removed]",
      "text/plain": [
       "<Figure size 432x288 with 2 Axes>"
      ]
     },
     "metadata": {
      "needs_background": "light"
     },
     "output_type": "display_data"
    }
   ],
   "source": [
    "cm_m = confusion_matrix(relevance_test, ct_pred_class, labels=nb_m.classes_, normalize=None)\n",
    "disp_m = ConfusionMatrixDisplay(confusion_matrix=cm_m,\n",
    "                              display_labels=nb_m.classes_)\n",
    "disp_m.plot();"
   ]
  },
  {
   "cell_type": "code",
   "execution_count": 23,
   "id": "a6ea6003-1876-4b8f-b2e4-b0cb147cc110",
   "metadata": {},
   "outputs": [
    {
     "data": {
      "text/plain": [
       "(5993, 42823)"
      ]
     },
     "execution_count": 23,
     "metadata": {},
     "output_type": "execute_result"
    }
   ],
   "source": [
    "text_train_ct.toarray().shape"
   ]
  },
  {
   "cell_type": "code",
   "execution_count": 24,
   "id": "5d7f90f4-b3c9-4034-a1d9-952eee42dd57",
   "metadata": {},
   "outputs": [
    {
     "name": "stdout",
     "output_type": "stream",
     "text": [
      "Accuracy:  0.7582582582582582\n",
      "AUC:  0.6869720697946853\n",
      "F1-score:  0.32258064516129037\n"
     ]
    }
   ],
   "source": [
    "from sklearn.linear_model import LogisticRegression\n",
    "\n",
    "logreg = LogisticRegression(class_weight='balanced', max_iter=1000)\n",
    "logreg.fit(text_train_ct.toarray(), relevance_train)\n",
    "\n",
    "log_pred_class = logreg.predict(text_test_ct.toarray())\n",
    "log_pred_proba = logreg.predict_proba(text_test_ct.toarray())[:, 1]\n",
    "\n",
    "print('Accuracy: ', accuracy_score(relevance_test, log_pred_class))\n",
    "print('AUC: ', roc_auc_score(relevance_test, log_pred_proba))\n",
    "print('F1-score: ', f1_score(relevance_test, log_pred_class))"
   ]
  },
  {
   "cell_type": "code",
   "execution_count": 25,
   "id": "c78127a3-c1a1-4a93-b598-d7facfd997da",
   "metadata": {},
   "outputs": [
    {
     "data": {
      "image/png": "[encoded data removed]",
      "text/plain": [
       "<Figure size 432x288 with 2 Axes>"
      ]
     },
     "metadata": {
      "needs_background": "light"
     },
     "output_type": "display_data"
    }
   ],
   "source": [
    "cm_log = confusion_matrix(relevance_test, log_pred_class, labels=logreg.classes_)\n",
    "disp_log = ConfusionMatrixDisplay(confusion_matrix=cm_log,\n",
    "                              display_labels=logreg.classes_)\n",
    "disp_log.plot();"
   ]
  },
  {
   "cell_type": "code",
   "execution_count": 26,
   "id": "4229fe88-a243-4a9c-bf65-4f56c0065a0d",
   "metadata": {},
   "outputs": [],
   "source": [
    "from sklearn.metrics import plot_roc_curve\n",
    "from sklearn.metrics import confusion_matrix, ConfusionMatrixDisplay\n",
    "\n",
    "def custom_vectorizer(vectorizer, text_train, text_test):\n",
    "    train_vector = vectorizer.fit_transform(text_train)\n",
    "    test_vector = vectorizer.transform(text_test)\n",
    "    return train_vector, test_vector\n",
    "\n",
    "def train_and_evaluate(model, vectorizer, text_train, text_test, relevance_train, relevance_test):\n",
    "    # exception flag\n",
    "    exc = None\n",
    "\n",
    "    if vectorizer != None:\n",
    "        train_vector, test_vector = custom_vectorizer(vectorizer, text_train, text_test)\n",
    "        train_vector, test_vector = train_vector.toarray(), test_vector.toarray()\n",
    "    else:\n",
    "        train_vector, test_vector = text_train, text_test\n",
    "    \n",
    "    model.fit(train_vector, relevance_train)\n",
    "\n",
    "    y_pred_class = model.predict(test_vector)\n",
    "    try:\n",
    "        y_pred_prob = model.predict_proba(test_vector)[:, 1]\n",
    "        print('AUC: ', roc_auc_score(relevance_test, y_pred_prob))\n",
    "    except Exception as exception:\n",
    "        print(exception)\n",
    "        exc = exception\n",
    "    \n",
    "    print('Accuracy: ', accuracy_score(relevance_test, y_pred_class))\n",
    "    print('F1-score: ', f1_score(relevance_test, y_pred_class))\n",
    "\n",
    "    cm = confusion_matrix(relevance_test, y_pred_class, labels=model.classes_)\n",
    "    disp = ConfusionMatrixDisplay(confusion_matrix=cm,\n",
    "                                  display_labels=model.classes_)\n",
    "    disp.plot();\n",
    "    \n",
    "    if exc is None :\n",
    "        plot_roc_curve(model, test_vector, relevance_test)        "
   ]
  },
  {
   "cell_type": "code",
   "execution_count": 27,
   "id": "90ccdeb3-5f44-4f01-b61a-6d95083fdbef",
   "metadata": {},
   "outputs": [
    {
     "name": "stdout",
     "output_type": "stream",
     "text": [
      "'LinearSVC' object has no attribute 'predict_proba'\n",
      "Accuracy:  0.7112112112112112\n",
      "F1-score:  0.32984901277584205\n"
     ]
    },
    {
     "name": "stderr",
     "output_type": "stream",
     "text": [
      "/home/sandro/miniconda3/lib/python3.9/site-packages/sklearn/svm/_base.py:1206: ConvergenceWarning: Liblinear failed to converge, increase the number of iterations.\n",
      "  warnings.warn(\n"
     ]
    },
    {
     "data": {
      "image/png": "[encoded data removed]",
      "text/plain": [
       "<Figure size 432x288 with 2 Axes>"
      ]
     },
     "metadata": {
      "needs_background": "light"
     },
     "output_type": "display_data"
    }
   ],
   "source": [
    "from sklearn.svm import LinearSVC\n",
    "vectorizer = CountVectorizer(tokenizer=word_tokenize, max_features=2000)\n",
    "classifier = LinearSVC(class_weight='balanced', max_iter=5000)\n",
    "\n",
    "train_and_evaluate(model=classifier, vectorizer=vectorizer, text_train=text_train, \n",
    "                   text_test=text_test, relevance_train=relevance_train, relevance_test=relevance_test)"
   ]
  },
  {
   "cell_type": "code",
   "execution_count": 28,
   "id": "6712154b-df6e-486f-b7c3-de62f7d6dc42",
   "metadata": {},
   "outputs": [
    {
     "name": "stdout",
     "output_type": "stream",
     "text": [
      "'LinearSVC' object has no attribute 'predict_proba'\n",
      "Accuracy:  0.7027027027027027\n",
      "F1-score:  0.40480961923847697\n"
     ]
    },
    {
     "data": {
      "image/png": "[encoded data removed]",
      "text/plain": [
       "<Figure size 432x288 with 2 Axes>"
      ]
     },
     "metadata": {
      "needs_background": "light"
     },
     "output_type": "display_data"
    }
   ],
   "source": [
    "vectorizer = TfidfVectorizer(tokenizer=word_tokenize, max_features=1000)\n",
    "classifier = LinearSVC(class_weight='balanced', max_iter=5000)\n",
    "\n",
    "train_and_evaluate(model=classifier, vectorizer=vectorizer, text_train=text_train, \n",
    "                   text_test=text_test, relevance_train=relevance_train, relevance_test=relevance_test)\n"
   ]
  },
  {
   "cell_type": "code",
   "execution_count": 29,
   "id": "383086ad-379e-408a-8890-360334e8da6e",
   "metadata": {},
   "outputs": [
    {
     "name": "stdout",
     "output_type": "stream",
     "text": [
      "AUC:  0.7526287511120114\n",
      "Accuracy:  0.8358358358358359\n",
      "F1-score:  0.2743362831858407\n"
     ]
    },
    {
     "name": "stderr",
     "output_type": "stream",
     "text": [
      "/home/sandro/miniconda3/lib/python3.9/site-packages/sklearn/utils/deprecation.py:87: FutureWarning: Function plot_roc_curve is deprecated; Function :func:`plot_roc_curve` is deprecated in 1.0 and will be removed in 1.2. Use one of the class methods: :meth:`sklearn.metric.RocCurveDisplay.from_predictions` or :meth:`sklearn.metric.RocCurveDisplay.from_estimator`.\n",
      "  warnings.warn(msg, category=FutureWarning)\n"
     ]
    },
    {
     "data": {
      "image/png": "[encoded data removed]",
      "text/plain": [
       "<Figure size 432x288 with 2 Axes>"
      ]
     },
     "metadata": {
      "needs_background": "light"
     },
     "output_type": "display_data"
    },
    {
     "data": {
      "image/png": "[encoded data removed]",
      "text/plain": [
       "<Figure size 432x288 with 1 Axes>"
      ]
     },
     "metadata": {
      "needs_background": "light"
     },
     "output_type": "display_data"
    }
   ],
   "source": [
    "vectorizer = TfidfVectorizer(tokenizer=word_tokenize, max_features=1000)\n",
    "classifier = MultinomialNB()\n",
    "\n",
    "train_and_evaluate(model=classifier, vectorizer=vectorizer, text_train=text_train, \n",
    "                   text_test=text_test, relevance_train=relevance_train, relevance_test=relevance_test)\n"
   ]
  },
  {
   "cell_type": "markdown",
   "id": "d1330a70-bcd4-4dac-a1c2-ebf7698f4a37",
   "metadata": {},
   "source": [
    "Conclusion:\n",
    "\n",
    "Class distribution is not equal, thats why there is the big gap between accurracy score and f1 scores. All classifiers show poor f1-score, but we made the baseline. We should find a better solution."
   ]
  },
  {
   "cell_type": "markdown",
   "id": "8bb80552-c422-4611-99e9-5c5b8086cd82",
   "metadata": {},
   "source": [
    "Let's try embeddings!"
   ]
  },
  {
   "cell_type": "code",
   "execution_count": 30,
   "id": "1255e0c7-ce11-4cab-965b-9977e11d7e89",
   "metadata": {},
   "outputs": [],
   "source": [
    "import gensim.downloader as api\n",
    "word_vectors = api.load('word2vec-google-news-300')"
   ]
  },
  {
   "cell_type": "code",
   "execution_count": 31,
   "id": "b947e352-8fae-4fad-9006-eb47492d1c6d",
   "metadata": {
    "collapsed": true,
    "jupyter": {
     "outputs_hidden": true
    },
    "tags": []
   },
   "outputs": [
    {
     "name": "stdout",
     "output_type": "stream",
     "text": [
      "('</s>', 0)\n",
      "('in', 1)\n",
      "('for', 2)\n",
      "('that', 3)\n",
      "('is', 4)\n",
      "('on', 5)\n",
      "('##', 6)\n",
      "('The', 7)\n",
      "('with', 8)\n",
      "('said', 9)\n"
     ]
    }
   ],
   "source": [
    "i = 0\n",
    "for k in word_vectors.key_to_index.items():\n",
    "    if i < 10:\n",
    "        print(k)\n",
    "        i += 1\n",
    "    else: break"
   ]
  },
  {
   "cell_type": "code",
   "execution_count": 32,
   "id": "9abdbdc3-8cdb-47b6-8e00-7308ce9b4676",
   "metadata": {},
   "outputs": [
    {
     "data": {
      "text/plain": [
       "(300,)"
      ]
     },
     "execution_count": 32,
     "metadata": {},
     "output_type": "execute_result"
    }
   ],
   "source": [
    "word_vectors['queen'].shape"
   ]
  },
  {
   "cell_type": "code",
   "execution_count": 33,
   "id": "863af15e-78df-4250-9b67-ab51fbfeaaf8",
   "metadata": {
    "collapsed": true,
    "jupyter": {
     "outputs_hidden": true
    },
    "tags": []
   },
   "outputs": [
    {
     "data": {
      "text/plain": [
       "['NEW',\n",
       " 'YORK',\n",
       " '--',\n",
       " 'yield',\n",
       " 'on',\n",
       " 'most',\n",
       " 'certificate',\n",
       " 'of',\n",
       " 'deposit',\n",
       " 'offer']"
      ]
     },
     "execution_count": 33,
     "metadata": {},
     "output_type": "execute_result"
    }
   ],
   "source": [
    "docs = spacy_nlp.pipe(cleaned_text, disable=['ner'], n_process=-1)\n",
    "lemmatized_list = [[word.lemma_ for word in doc] for doc in docs]\n",
    "lemmatized_list[0][:10]"
   ]
  },
  {
   "cell_type": "code",
   "execution_count": 34,
   "id": "752b3575-b9f6-4634-8fdd-a53b1db19961",
   "metadata": {},
   "outputs": [
    {
     "data": {
      "text/plain": [
       "7991"
      ]
     },
     "execution_count": 34,
     "metadata": {},
     "output_type": "execute_result"
    }
   ],
   "source": [
    "len(lemmatized_list)"
   ]
  },
  {
   "cell_type": "code",
   "execution_count": 35,
   "id": "ab6b700f",
   "metadata": {},
   "outputs": [],
   "source": [
    "import numpy as np"
   ]
  },
  {
   "cell_type": "code",
   "execution_count": 36,
   "id": "10729208-fc66-4df6-aecf-688cb499c912",
   "metadata": {},
   "outputs": [
    {
     "name": "stdout",
     "output_type": "stream",
     "text": [
      "CPU times: user 4.03 s, sys: 657 ms, total: 4.69 s\n",
      "Wall time: 4.72 s\n"
     ]
    },
    {
     "name": "stderr",
     "output_type": "stream",
     "text": [
      "<timed exec>:1: VisibleDeprecationWarning: Creating an ndarray from ragged nested sequences (which is a list-or-tuple of lists-or-tuples-or ndarrays with different lengths or shapes) is deprecated. If you meant to do this, you must specify 'dtype=object' when creating the ndarray.\n"
     ]
    },
    {
     "data": {
      "text/plain": [
       "(7991,)"
      ]
     },
     "execution_count": 36,
     "metadata": {},
     "output_type": "execute_result"
    }
   ],
   "source": [
    "%%time\n",
    "vectorized_list = np.array([np.array([word_vectors[word] for word in doc if word in word_vectors], dtype='float32') \n",
    "                            for doc in lemmatized_list])\n",
    "vectorized_list.shape"
   ]
  },
  {
   "cell_type": "code",
   "execution_count": 37,
   "id": "89ee9534-9961-42da-8363-e99cd348c9ec",
   "metadata": {},
   "outputs": [
    {
     "data": {
      "text/plain": [
       "((7991,), (300,))"
      ]
     },
     "execution_count": 37,
     "metadata": {},
     "output_type": "execute_result"
    }
   ],
   "source": [
    "vectorized_list.shape, vectorized_list[0][0].shape"
   ]
  },
  {
   "cell_type": "code",
   "execution_count": 38,
   "id": "86331c86-5e7f-40a7-80b2-4c78863b43a9",
   "metadata": {
    "collapsed": true,
    "jupyter": {
     "outputs_hidden": true
    },
    "tags": []
   },
   "outputs": [],
   "source": [
    "vectorized_list = pd.Series(vectorized_list)"
   ]
  },
  {
   "cell_type": "code",
   "execution_count": 39,
   "id": "8203a613-1e60-4169-ada0-d2a471e7eeae",
   "metadata": {},
   "outputs": [
    {
     "data": {
      "text/plain": [
       "(7991,)"
      ]
     },
     "execution_count": 39,
     "metadata": {},
     "output_type": "execute_result"
    }
   ],
   "source": [
    "vectorized_list.map(lambda doc: doc.mean(axis=0)).shape"
   ]
  },
  {
   "cell_type": "code",
   "execution_count": 40,
   "id": "3b29901b-e4a4-403e-887f-2d9deeaf5be0",
   "metadata": {},
   "outputs": [
    {
     "data": {
      "text/plain": [
       "(300,)"
      ]
     },
     "execution_count": 40,
     "metadata": {},
     "output_type": "execute_result"
    }
   ],
   "source": [
    "vectorized_list_mean = vectorized_list.map(lambda doc: doc.mean(axis=0))\n",
    "vectorized_list_mean[0].shape"
   ]
  },
  {
   "cell_type": "code",
   "execution_count": 41,
   "id": "1dd25ded",
   "metadata": {},
   "outputs": [],
   "source": [
    "vectorized_list_mean = np.stack(vectorized_list_mean)"
   ]
  },
  {
   "cell_type": "code",
   "execution_count": 42,
   "id": "58e54a7e-f1af-46bd-87ed-90288fb539e0",
   "metadata": {},
   "outputs": [],
   "source": [
    "relevance = relevance.reset_index(drop=True)"
   ]
  },
  {
   "cell_type": "code",
   "execution_count": 43,
   "id": "5b349d53-c403-42fa-9e33-b28d3bc8ba90",
   "metadata": {},
   "outputs": [
    {
     "name": "stdout",
     "output_type": "stream",
     "text": [
      "AUC:  0.7659711822418788\n",
      "Accuracy:  0.6876876876876877\n",
      "F1-score:  0.4526315789473684\n"
     ]
    },
    {
     "name": "stderr",
     "output_type": "stream",
     "text": [
      "/home/sandro/miniconda3/lib/python3.9/site-packages/sklearn/utils/deprecation.py:87: FutureWarning: Function plot_roc_curve is deprecated; Function :func:`plot_roc_curve` is deprecated in 1.0 and will be removed in 1.2. Use one of the class methods: :meth:`sklearn.metric.RocCurveDisplay.from_predictions` or :meth:`sklearn.metric.RocCurveDisplay.from_estimator`.\n",
      "  warnings.warn(msg, category=FutureWarning)\n"
     ]
    },
    {
     "data": {
      "image/png": "[encoded data removed]",
      "text/plain": [
       "<Figure size 432x288 with 2 Axes>"
      ]
     },
     "metadata": {
      "needs_background": "light"
     },
     "output_type": "display_data"
    },
    {
     "data": {
      "image/png": "[encoded data removed]",
      "text/plain": [
       "<Figure size 432x288 with 1 Axes>"
      ]
     },
     "metadata": {
      "needs_background": "light"
     },
     "output_type": "display_data"
    }
   ],
   "source": [
    "vectors_train, vectors_test, vec_relevance_train, vec_relevance_test = train_test_split(vectorized_list_mean, relevance)\n",
    "\n",
    "logreg_vec = LogisticRegression(class_weight='balanced', max_iter=2000)\n",
    "\n",
    "train_and_evaluate(model=logreg_vec, vectorizer=None, text_train=vectors_train, \n",
    "                   text_test=vectors_test, relevance_train=vec_relevance_train, relevance_test=vec_relevance_test)"
   ]
  },
  {
   "cell_type": "code",
   "execution_count": 44,
   "id": "92d57e06-123d-479b-b80e-485d41c7c730",
   "metadata": {},
   "outputs": [
    {
     "name": "stdout",
     "output_type": "stream",
     "text": [
      "AUC:  0.6270880278240423\n",
      "Accuracy:  0.7777777777777778\n",
      "F1-score:  0.2721311475409836\n"
     ]
    },
    {
     "name": "stderr",
     "output_type": "stream",
     "text": [
      "/home/sandro/miniconda3/lib/python3.9/site-packages/sklearn/utils/deprecation.py:87: FutureWarning: Function plot_roc_curve is deprecated; Function :func:`plot_roc_curve` is deprecated in 1.0 and will be removed in 1.2. Use one of the class methods: :meth:`sklearn.metric.RocCurveDisplay.from_predictions` or :meth:`sklearn.metric.RocCurveDisplay.from_estimator`.\n",
      "  warnings.warn(msg, category=FutureWarning)\n"
     ]
    },
    {
     "data": {
      "image/png": "[encoded data removed]",
      "text/plain": [
       "<Figure size 432x288 with 2 Axes>"
      ]
     },
     "metadata": {
      "needs_background": "light"
     },
     "output_type": "display_data"
    },
    {
     "data": {
      "image/png": "[encoded data removed]",
      "text/plain": [
       "<Figure size 432x288 with 1 Axes>"
      ]
     },
     "metadata": {
      "needs_background": "light"
     },
     "output_type": "display_data"
    }
   ],
   "source": [
    "from sklearn.neighbors import KNeighborsClassifier\n",
    "neigh = KNeighborsClassifier(n_neighbors=3)\n",
    "\n",
    "train_and_evaluate(model=neigh, vectorizer=None, text_train=vectors_train, \n",
    "                   text_test=vectors_test, relevance_train=vec_relevance_train, relevance_test=vec_relevance_test)\n"
   ]
  },
  {
   "cell_type": "code",
   "execution_count": 45,
   "id": "0c6e5a6d-aca5-45b3-ae54-2b80b9edf8fd",
   "metadata": {},
   "outputs": [
    {
     "name": "stdout",
     "output_type": "stream",
     "text": [
      "'LinearSVC' object has no attribute 'predict_proba'\n",
      "Accuracy:  0.6926926926926927\n",
      "F1-score:  0.4537366548042705\n"
     ]
    },
    {
     "data": {
      "image/png": "[encoded data removed]",
      "text/plain": [
       "<Figure size 432x288 with 2 Axes>"
      ]
     },
     "metadata": {
      "needs_background": "light"
     },
     "output_type": "display_data"
    }
   ],
   "source": [
    "from sklearn.svm import LinearSVC\n",
    "\n",
    "svc_classifier = LinearSVC(class_weight='balanced', max_iter=3000)\n",
    "\n",
    "train_and_evaluate(model=svc_classifier, vectorizer=None, text_train=vectors_train, \n",
    "                   text_test=vectors_test, relevance_train=vec_relevance_train, relevance_test=vec_relevance_test)"
   ]
  },
  {
   "cell_type": "markdown",
   "id": "40d4be85-d802-478a-a9e1-f416b4969d76",
   "metadata": {},
   "source": [
    "Let's try Fasttext"
   ]
  },
  {
   "cell_type": "code",
   "execution_count": 46,
   "id": "164db9dc-069e-42f6-9eb3-8a0064bbdf24",
   "metadata": {},
   "outputs": [],
   "source": [
    "import fasttext\n",
    "economic_news_df['labels'] = '__label__' + economic_news_df['relevance'].astype(str)"
   ]
  },
  {
   "cell_type": "code",
   "execution_count": 47,
   "id": "e73d75a6-46b4-4fa5-ad80-f29f1caf88d9",
   "metadata": {},
   "outputs": [
    {
     "data": {
      "text/plain": [
       "2206    NEW YORK -- dissent vote year Federal Reserve ...\n",
       "7610    NEW YORK Jan. 6ûóthe stock market push rally ...\n",
       "3694    Conde Nast Publications Inc. absorb nearly dec...\n",
       "985     MAY STORES propose acquire Associated Dry Good...\n",
       "5874    steel industry hit massive layoff plant closin...\n",
       "5783    NEW YORK March 30 ap)ûóthe stock market post ...\n",
       "2869    dutch supermarket group Ahold NV acquire remai...\n",
       "7063    .View yojfk. Fcl 26 apiûóthe stock market slu...\n",
       "2564    smart analyst warn year fall surging bond mark...\n",
       "4823    number worker injure zero number dead zero fac...\n",
       "Name: lemmatized_text, dtype: object"
      ]
     },
     "execution_count": 47,
     "metadata": {},
     "output_type": "execute_result"
    }
   ],
   "source": [
    "fastt_train, fastt_test, fastt_label_train, fastt_label_test = train_test_split(economic_news_df['lemmatized_text'], economic_news_df['labels'])\n",
    "fastt_train[:10]"
   ]
  },
  {
   "cell_type": "code",
   "execution_count": 48,
   "id": "2823b6b6-ec7c-4175-8d73-baa05328823b",
   "metadata": {},
   "outputs": [
    {
     "data": {
      "text/plain": [
       "2206    __label__0 NEW YORK -- dissent vote year Feder...\n",
       "7610    __label__0 NEW YORK Jan. 6ûóthe stock market ...\n",
       "3694    __label__0 Conde Nast Publications Inc. absorb...\n",
       "985     __label__1 MAY STORES propose acquire Associat...\n",
       "5874    __label__1 steel industry hit massive layoff p...\n",
       "5783    __label__1 NEW YORK March 30 ap)ûóthe stock m...\n",
       "2869    __label__0 dutch supermarket group Ahold NV ac...\n",
       "7063    __label__0 .View yojfk. Fcl 26 apiûóthe stock...\n",
       "2564    __label__0 smart analyst warn year fall surgin...\n",
       "4823    __label__0 number worker injure zero number de...\n",
       "dtype: object"
      ]
     },
     "execution_count": 48,
     "metadata": {},
     "output_type": "execute_result"
    }
   ],
   "source": [
    "train_df_temp = fastt_label_train + ' ' + fastt_train\n",
    "train_df_temp[:10]"
   ]
  },
  {
   "cell_type": "code",
   "execution_count": 49,
   "id": "24c47794-1206-4ab1-9bfa-5b65a4715d7d",
   "metadata": {},
   "outputs": [
    {
     "data": {
      "text/plain": [
       "2367    __label__0 author Robert Guy Matthews   impact...\n",
       "4880    __label__0 head respective antitrust agency es...\n",
       "3055    __label__0 job debate heat week White House ex...\n",
       "4360    __label__0 rise energy price push U.S. consume...\n",
       "3696    __label__0 stock price climb modestly despite ...\n",
       "4063    __label__0 average interest rate 30 year fix r...\n",
       "6848    __label__1 NEW YORK June 18 ap)ûómotor active...\n",
       "7432    __label__0 consumer price continue rise 6 cent...\n",
       "4182    __label__0 nationÛªs bank regulator involve c...\n",
       "4815    __label__0 manufacturing sector strong month m...\n",
       "dtype: object"
      ]
     },
     "execution_count": 49,
     "metadata": {},
     "output_type": "execute_result"
    }
   ],
   "source": [
    "test_df_temp = fastt_label_test + ' ' + fastt_test\n",
    "test_df_temp[:10]"
   ]
  },
  {
   "cell_type": "code",
   "execution_count": 50,
   "id": "c44da840-b58d-4d41-8af3-be52f560684e",
   "metadata": {},
   "outputs": [],
   "source": [
    "with open('fastt_test_data', mode='a') as f:\n",
    "    [f.write(f'{line}\\n') for line in test_df_temp]"
   ]
  },
  {
   "cell_type": "code",
   "execution_count": 2,
   "id": "9c038131-cfae-4d41-be70-e68dd4be9e78",
   "metadata": {
    "collapsed": true,
    "jupyter": {
     "outputs_hidden": true,
     "source_hidden": true
    },
    "tags": []
   },
   "outputs": [],
   "source": [
    "# import csv\n",
    "# test_df_temp.to_csv('fastt_test_data', header=None, index=None, sep=' ', mode='a', quoting=csv.QUOTE_NONE)"
   ]
  },
  {
   "cell_type": "code",
   "execution_count": 51,
   "id": "6394abf7-3115-4704-bc29-2d979d72b311",
   "metadata": {},
   "outputs": [],
   "source": [
    "with open('fastt_train_data', mode='a') as f:\n",
    "    [f.write(f'{line}\\n') for line in train_df_temp]"
   ]
  },
  {
   "cell_type": "code",
   "execution_count": 52,
   "id": "3ebd5917-e202-450e-b207-923f01653a13",
   "metadata": {},
   "outputs": [
    {
     "name": "stderr",
     "output_type": "stream",
     "text": [
      "Read 0M words\n",
      "Number of words:  47546\n",
      "Number of labels: 2\n",
      "Progress: 100.0% words/sec/thread:  342225 lr:  0.000000 avg.loss:  0.028096 ETA:   0h 0m 0s  0h 1m 8s 6s 0.902067 ETA:   0h 1m 5s  2.7% words/sec/thread:  436680 lr:  0.973073 avg.loss:  0.794146 ETA:   0h 1m 5s  6.9% words/sec/thread:  439469 lr:  0.930739 avg.loss:  0.372849 ETA:   0h 1m 1s  8.6% words/sec/thread:  440331 lr:  0.914011 avg.loss:  0.304420 ETA:   0h 1m 0s 10.3% words/sec/thread:  440825 lr:  0.897296 avg.loss:  0.256854 ETA:   0h 0m59s 11.0% words/sec/thread:  440676 lr:  0.889783 avg.loss:  0.239784 ETA:   0h 0m59s 11.8% words/sec/thread:  440720 lr:  0.882226 avg.loss:  0.225506 ETA:   0h 0m58s 440728 lr:  0.874677 avg.loss:  0.212429 ETA:   0h 0m58s 13.3% words/sec/thread:  440563 lr:  0.867178 avg.loss:  0.200621 ETA:   0h 0m57s 14.0% words/sec/thread:  440626 lr:  0.859618 avg.loss:  0.190165 ETA:   0h 0m57s 14.8% words/sec/thread:  440613 lr:  0.852069 avg.loss:  0.180893 ETA:   0h 0m56s 15.6% words/sec/thread:  440783 lr:  0.844461 avg.loss:  0.172334 ETA:   0h 0m56s avg.loss:  0.164433 ETA:   0h 0m55s 17.1% words/sec/thread:  440896 lr:  0.829319 avg.loss:  0.157312 ETA:   0h 0m54s 17.8% words/sec/thread:  441054 lr:  0.821703 avg.loss:  0.150776 ETA:   0h 0m54s 18.6% words/sec/thread:  440988 lr:  0.814177 avg.loss:  0.144765 ETA:   0h 0m53sm53s 20.1% words/sec/thread:  441151 lr:  0.798994 avg.loss:  0.134115 ETA:   0h 0m52s 20.8% words/sec/thread:  440901 lr:  0.791553 avg.loss:  0.129515 ETA:   0h 0m52s 21.6% words/sec/thread:  440253 lr:  0.784312 avg.loss:  0.125272 ETA:   0h 0m52s 22.8% words/sec/thread:  440199 lr:  0.772278 avg.loss:  0.118787 ETA:   0h 0m51s 23.5% words/sec/thread:  440223 lr:  0.764723 avg.loss:  0.115121 ETA:   0h 0m50s 0.752548 avg.loss:  0.109557 ETA:   0h 0m49s 25.5% words/sec/thread:  440473 lr:  0.744971 avg.loss:  0.106381 ETA:   0h 0m49s 26.7% words/sec/thread:  440652 lr:  0.732791 avg.loss:  0.101651 ETA:   0h 0m48s 27.9% words/sec/thread:  440738 lr:  0.720661 avg.loss:  0.097317 ETA:   0h 0m47s 28.7% words/sec/thread:  440627 lr:  0.713188 avg.loss:  0.094871 ETA:   0h 0m47s 29.4% words/sec/thread:  440382 lr:  0.705804 avg.loss:  0.092508 ETA:   0h 0m46s 30.2% words/sec/thread:  440329 lr:  0.698297 avg.loss:  0.090257 ETA:   0h 0m46s 30.9% words/sec/thread:  440379 lr:  0.690720 avg.loss:  0.088088 ETA:   0h 0m45s 31.7% words/sec/thread:  440217 lr:  0.683288 avg.loss:  0.086093 ETA:   0h 0m45s 32.4% words/sec/thread:  439637 lr:  0.676175 avg.loss:  0.084174 ETA:   0h 0m44s 33.9% words/sec/thread:  439679 lr:  0.661078 avg.loss:  0.080532 ETA:   0h 0m43s 34.6% words/sec/thread:  439654 lr:  0.653570 avg.loss:  0.078825 ETA:   0h 0m43s 35.4% words/sec/thread:  439226 lr:  0.646382 avg.loss:  0.077237 ETA:   0h 0m43s 39.4% words/sec/thread:  435274 lr:  0.606323 avg.loss:  0.069639 ETA:   0h 0m40s 40.1% words/sec/thread:  435026 lr:  0.599098 avg.loss:  0.068416 ETA:   0h 0m40s 40.8% words/sec/thread:  434963 lr:  0.591708 avg.loss:  0.067173 ETA:   0h 0m39s 0.065981 ETA:   0h 0m39s lr:  0.576585 avg.loss:  0.064828 ETA:   0h 0m38s 43.1% words/sec/thread:  435407 lr:  0.568916 avg.loss:  0.063671 ETA:   0h 0m38ss 435766 lr:  0.553630 avg.loss:  0.061519 ETA:   0h 0m37s 45.4% words/sec/thread:  435954 lr:  0.545969 avg.loss:  0.060515 ETA:   0h 0m36s 46.2% words/sec/thread:  436075 lr:  0.538372 avg.loss:  0.059537 ETA:   0h 0m36s 0.056611 ETA:   0h 0m34s 49.4% words/sec/thread:  436831 lr:  0.506144 avg.loss:  0.055748 ETA:   0h 0m33s 50.2% words/sec/thread:  437051 lr:  0.498409 avg.loss:  0.054922 ETA:   0h 0m33s 51.3% words/sec/thread:  436526 lr:  0.487051 avg.loss:  0.053734 ETA:   0h 0m32s 52.1% words/sec/thread:  433613 lr:  0.478592 avg.loss:  0.052864 ETA:   0h 0m32s 52.9% words/sec/thread:  433854 lr:  0.470870 avg.loss:  0.052127 ETA:   0h 0m31s 53.5% words/sec/thread:  432214 lr:  0.465472 avg.loss:  0.051607 ETA:   0h 0m31s 53.9% words/sec/thread:  430104 lr:  0.460712 avg.loss:  0.051157 ETA:   0h 0m31s 54.4% words/sec/thread:  428006 lr:  0.456012 avg.loss:  0.050723 ETA:   0h 0m31s 54.9% words/sec/thread:  425992 lr:  0.451277 avg.loss:  0.050293 ETA:   0h 0m30s 55.3% words/sec/thread:  424004 lr:  0.446577 avg.loss:  0.049879 ETA:   0h 0m30s 55.8% words/sec/thread:  421975 lr:  0.441999 avg.loss:  0.049485 ETA:   0h 0m30s 56.3% words/sec/thread:  419981 lr:  0.437445 avg.loss:  0.049086 ETA:   0h 0m30s 57.0% words/sec/thread:  416954 lr:  0.430078 avg.loss:  0.048459 ETA:   0h 0m30s 57.5% words/sec/thread:  415157 lr:  0.425428 avg.loss:  0.048080 ETA:   0h 0m29s 58.2% words/sec/thread:  412369 lr:  0.417990 avg.loss:  0.047484 ETA:   0h 0m29ss 0.045053 ETA:   0h 0m28s 61.9% words/sec/thread:  400518 lr:  0.381222 avg.loss:  0.044717 ETA:   0h 0m27s 62.8% words/sec/thread:  397766 lr:  0.371846 avg.loss:  0.044064 ETA:   0h 0m27s 0.367164 avg.loss:  0.043750 ETA:   0h 0m27s 64.2% words/sec/thread:  393670 lr:  0.358079 avg.loss:  0.043145 ETA:   0h 0m26s 64.9% words/sec/thread:  391522 lr:  0.350855 avg.loss:  0.042671 ETA:   0h 0m26s 65.4% words/sec/thread:  390341 lr:  0.346128 avg.loss:  0.042374 ETA:   0h 0m25s 65.8% words/sec/thread:  389034 lr:  0.341655 avg.loss:  0.042094 ETA:   0h 0m25s 66.3% words/sec/thread:  387946 lr:  0.336855 avg.loss:  0.041803 ETA:   0h 0m25s 67.0% words/sec/thread:  387880 lr:  0.330323 avg.loss:  0.041400 ETA:   0h 0m24s 67.4% words/sec/thread:  386740 lr:  0.325668 avg.loss:  0.041119 ETA:   0h 0m24s 67.9% words/sec/thread:  385708 lr:  0.320855 avg.loss:  0.040834 ETA:   0h 0m24s 68.4% words/sec/thread:  384649 lr:  0.316131 avg.loss:  0.040561 ETA:   0h 0m24s 68.9% words/sec/thread:  383576 lr:  0.311467 avg.loss:  0.040300 ETA:   0h 0m23s 69.3% words/sec/thread:  382517 lr:  0.306815 avg.loss:  0.040035 ETA:   0h 0m23s 69.8% words/sec/thread:  381472 lr:  0.302172 avg.loss:  0.039772 ETA:   0h 0m23s 70.2% words/sec/thread:  380354 lr:  0.297703 avg.loss:  0.039524 ETA:   0h 0m22s 0.293023 avg.loss:  0.039271 ETA:   0h 0m22s 71.2% words/sec/thread:  378412 lr:  0.288327 avg.loss:  0.039021 ETA:   0h 0m22s 71.9% words/sec/thread:  376957 lr:  0.280733 avg.loss:  0.038624 ETA:   0h 0m21s 72.4% words/sec/thread:  376033 lr:  0.276062 avg.loss:  0.038378 ETA:   0h 0m21s 0.038135 ETA:   0h 0m21s 73.3% words/sec/thread:  374260 lr:  0.266648 avg.loss:  0.037898 ETA:   0h 0m20s 73.8% words/sec/thread:  373387 lr:  0.261966 avg.loss:  0.037666 ETA:   0h 0m20s 0.257262 avg.loss:  0.037440 ETA:   0h 0m20s 75.0% words/sec/thread:  371197 lr:  0.249771 avg.loss:  0.037072 ETA:   0h 0m19s 75.5% words/sec/thread:  370371 lr:  0.245099 avg.loss:  0.036846 ETA:   0h 0m19s 76.0% words/sec/thread:  369572 lr:  0.240399 avg.loss:  0.036626 ETA:   0h 0m19s 76.4% words/sec/thread:  368786 lr:  0.235700 avg.loss:  0.036409 ETA:   0h 0m18s 76.9% words/sec/thread:  367998 lr:  0.231033 avg.loss:  0.036199 ETA:   0h 0m18s 77.4% words/sec/thread:  367234 lr:  0.226338 avg.loss:  0.035984 ETA:   0h 0m18s 77.8% words/sec/thread:  366474 lr:  0.221662 avg.loss:  0.035771 ETA:   0h 0m17s 78.3% words/sec/thread:  365741 lr:  0.216956 avg.loss:  0.035562 ETA:   0h 0m17s 79.1% words/sec/thread:  364582 lr:  0.209443 avg.loss:  0.035235 ETA:   0h 0m16s 0.204756 avg.loss:  0.035039 ETA:   0h 0m16s 80.0% words/sec/thread:  363163 lr:  0.200074 avg.loss:  0.034840 ETA:   0h 0m16s 80.5% words/sec/thread:  362474 lr:  0.195383 avg.loss:  0.034639 ETA:   0h 0m15s 80.9% words/sec/thread:  361797 lr:  0.190689 avg.loss:  0.034444 ETA:   0h 0m15s 81.4% words/sec/thread:  361132 lr:  0.185991 avg.loss:  0.034254 ETA:   0h 0m15s 81.9% words/sec/thread:  360471 lr:  0.181307 avg.loss:  0.034065 ETA:   0h 0m14s 82.3% words/sec/thread:  359819 lr:  0.176624 avg.loss:  0.033881 ETA:   0h 0m14s ETA:   0h 0m13s 83.9% words/sec/thread:  359686 lr:  0.160912 avg.loss:  0.033261 ETA:   0h 0m13s 84.4% words/sec/thread:  359054 lr:  0.156236 avg.loss:  0.033085 ETA:   0h 0m12s 0.033016 ETA:   0h 0m12s 0.149722 avg.loss:  0.032845 ETA:   0h 0m12s 85.2% words/sec/thread:  357932 lr:  0.147834 avg.loss:  0.032773 ETA:   0h 0m12s 85.7% words/sec/thread:  357325 lr:  0.143156 avg.loss:  0.032598 ETA:   0h 0m11s 86.2% words/sec/thread:  356946 lr:  0.137950 avg.loss:  0.032406 ETA:   0h 0m11s 86.7% words/sec/thread:  356349 lr:  0.133286 avg.loss:  0.032238 ETA:   0h 0m10s 87.1% words/sec/thread:  355765 lr:  0.128612 avg.loss:  0.032073 ETA:   0h 0m10s 87.6% words/sec/thread:  355193 lr:  0.123929 avg.loss:  0.031911 ETA:   0h 0m10s 87.8% words/sec/thread:  354974 lr:  0.122035 avg.loss:  0.031845 ETA:   0h 0m10s 88.3% words/sec/thread:  354435 lr:  0.117298 avg.loss:  0.031677 ETA:   0h 0m 9s 88.7% words/sec/thread:  353871 lr:  0.112637 avg.loss:  0.031514 ETA:   0h 0m 9s 88.9% words/sec/thread:  353656 lr:  0.110751 avg.loss:  0.031449 ETA:   0h 0m 9s 0.031293 ETA:   0h 0m 8s 89.9% words/sec/thread:  352571 lr:  0.101395 avg.loss:  0.031136 ETA:   0h 0m 8s 90.3% words/sec/thread:  352040 lr:  0.096720 avg.loss:  0.030984 ETA:   0h 0m 8s 90.8% words/sec/thread:  351519 lr:  0.092037 avg.loss:  0.030827 ETA:   0h 0m 7s 91.7% words/sec/thread:  350502 lr:  0.082654 avg.loss:  0.030522 ETA:   0h 0m 6s 92.2% words/sec/thread:  349993 lr:  0.077995 avg.loss:  0.030374 ETA:   0h 0m 6s 92.7% words/sec/thread:  349490 lr:  0.073336 avg.loss:  0.030229 ETA:   0h 0m 6s 93.1% words/sec/thread:  348996 lr:  0.068672 avg.loss:  0.030086 ETA:   0h 0m 5s 93.9% words/sec/thread:  348222 lr:  0.061199 avg.loss:  0.029851 ETA:   0h 0m 5s 94.4% words/sec/thread:  347782 lr:  0.056428 avg.loss:  0.029706 ETA:   0h 0m 4s avg.loss:  0.029565 ETA:   0h 0m 4s 0.029292 ETA:   0h 0m 3s 345937 lr:  0.037733 avg.loss:  0.029153 ETA:   0h 0m 3s 97.2% words/sec/thread:  344906 lr:  0.027606 avg.loss:  0.028859 ETA:   0h 0m 2s 97.4% words/sec/thread:  344723 lr:  0.025758 avg.loss:  0.028809 ETA:   0h 0m 2s 97.9% words/sec/thread:  344310 lr:  0.021029 avg.loss:  0.028676 ETA:   0h 0m 1s 98.4% words/sec/thread:  343880 lr:  0.016359 avg.loss:  0.028548 ETA:   0h 0m 1s 98.8% words/sec/thread:  343437 lr:  0.011744 avg.loss:  0.028417 ETA:   0h 0m 0s 0m 0s100.0% words/sec/thread:  342225 lr: -0.000004 avg.loss:  0.028096 ETA:   0h 0m 0s\n"
     ]
    }
   ],
   "source": [
    "fast_model = fasttext.train_supervised(\n",
    "    input=\"fastt_train_data\", \n",
    "    label=\"__label__\", \n",
    "    lr=1.0, \n",
    "    epoch=75, \n",
    "    loss='ova', \n",
    "    wordNgrams=3, \n",
    "    dim=300, \n",
    "    thread=2, \n",
    "    verbose=100)"
   ]
  },
  {
   "cell_type": "code",
   "execution_count": 59,
   "id": "5f411732-53fb-4b5b-a34a-1a5e5f71835a",
   "metadata": {},
   "outputs": [
    {
     "data": {
      "text/plain": [
       "'__label__1 volatility Wall Street phenomenon hit Main Street   far incoming September economic report surprisingly firm auto sale rebound high level April chain store sale post year year growth 5.5 % economy add 103,000 job manufacturing sentiment improve bit Friday Commerce Department figure expect strong 0.8 % monthly increase retail food service sale consumer sentiment brightening attitude   feel like 180 degree turn August basically thing special case broad turning point jerky swing norm consider happen far year real gross domestic product shrink January February accord track firm Macroeconomic Advisers surge 1 % March contract May June -- jump 1 % July   typical 1992 monthly gdp fall time economy recession year assume small gain August monthly gdp fall half time common gdp growth 1 % month usually happen year half 2011 happen twice   surprise stock swinge wildly sink shy bear market territory S&P 500 jump nearly 8 % trading session Thursday rally predicate figure U.S. likely avoid recession rest year traditional term RBC Capital Markets economist Tom Porcelli caution economy remain vulnerable growth scare flash recession'"
      ]
     },
     "execution_count": 59,
     "metadata": {},
     "output_type": "execute_result"
    }
   ],
   "source": [
    "test_df_temp[3990]"
   ]
  },
  {
   "cell_type": "code",
   "execution_count": 60,
   "id": "735ac2d4-8f78-4aaf-990f-150284b5fc5c",
   "metadata": {},
   "outputs": [
    {
     "data": {
      "text/plain": [
       "(('__label__0', '__label__1'), array([0.9603712 , 0.03847619]))"
      ]
     },
     "execution_count": 60,
     "metadata": {},
     "output_type": "execute_result"
    }
   ],
   "source": [
    "fast_model.predict(test_df_temp[3990], k=2)"
   ]
  },
  {
   "cell_type": "code",
   "execution_count": 61,
   "id": "87faea6c-41eb-4aac-b0c5-7e297590b52a",
   "metadata": {},
   "outputs": [
    {
     "name": "stdout",
     "output_type": "stream",
     "text": [
      "Test Samples: 1998 Precision@1 : 80.8809 Recall@1 : 80.8809\n",
      "Test Samples: 1998 Precision@2 : 50.0000 Recall@2 : 100.0000\n"
     ]
    }
   ],
   "source": [
    "for k in range(1,3):\n",
    "    results = fast_model.test(\"fastt_test_data\",k=k)\n",
    "    print(f\"Test Samples: {results[0]} Precision@{k} : {results[1]*100:2.4f} Recall@{k} : {results[2]*100:2.4f}\")"
   ]
  },
  {
   "cell_type": "code",
   "execution_count": 66,
   "id": "8f6cef44-2c19-4aed-b29e-9a916534ffa6",
   "metadata": {
    "tags": []
   },
   "outputs": [
    {
     "data": {
      "text/plain": [
       "0     NEW YORK -- Yields on most certificates of dep...\n",
       "4     NEW YORK -- Indecision marked the dollar's ton...\n",
       "5     Stocks declined, as investors weighed slower-t...\n",
       "9     The U.S. dollar declined against most major fo...\n",
       "12    Author: James B. Stewart</br></br>The dreaded ...\n",
       "17    NEW YORK -- The dollar sagged yesterday, as ne...\n",
       "20    The technology industry, an engine of innovati...\n",
       "21    WASHINGTON -- While acknowledging that the pac...\n",
       "27    WASHINGTON -- In a sign that inflation remains...\n",
       "30    WASHINGTON -- Consumer credit in July continue...\n",
       "Name: text, dtype: object"
      ]
     },
     "execution_count": 66,
     "metadata": {},
     "output_type": "execute_result"
    }
   ],
   "source": [
    "economic_news_df[economic_news_df['relevance'] == 1].text[:10]"
   ]
  },
  {
   "cell_type": "code",
   "execution_count": 71,
   "id": "667aae0c-730b-4ee0-8184-ea07bd7b74f7",
   "metadata": {},
   "outputs": [
    {
     "data": {
      "text/plain": [
       "0.3"
      ]
     },
     "execution_count": 71,
     "metadata": {},
     "output_type": "execute_result"
    }
   ],
   "source": [
    "# fasttext show better performance but does it?\n",
    "conf_yes = [int(fast_model.predict(doc)[0][0][-1]) for doc in economic_news_df[economic_news_df['relevance'] == 1].text]\n",
    "conf_yes = pd.Series(conf_yes)\n",
    "conf_yes.mean()"
   ]
  },
  {
   "cell_type": "code",
   "execution_count": 72,
   "id": "d3459b80-7dca-4012-b07d-8ce514dd32dd",
   "metadata": {},
   "outputs": [
    {
     "data": {
      "text/plain": [
       "0.01765332521686197"
      ]
     },
     "execution_count": 72,
     "metadata": {},
     "output_type": "execute_result"
    }
   ],
   "source": [
    "conf_no = [int(fast_model.predict(doc)[0][0][-1]) for doc in economic_news_df[economic_news_df['relevance'] == 0].text]\n",
    "conf_no = pd.Series(conf_no)\n",
    "conf_no.mean()"
   ]
  }
 ],
 "metadata": {
  "kernelspec": {
   "display_name": "Python 3.9.7 ('base')",
   "language": "python",
   "name": "python3"
  },
  "language_info": {
   "codemirror_mode": {
    "name": "ipython",
    "version": 3
   },
   "file_extension": ".py",
   "mimetype": "text/x-python",
   "name": "python",
   "nbconvert_exporter": "python",
   "pygments_lexer": "ipython3",
   "version": "3.9.7"
  },
  "vscode": {
   "interpreter": {
    "hash": "74c7431f4435830a057422cf59695882c87dc0edd1b77534c7869fc1258ccd33"
   }
  }
 },
 "nbformat": 4,
 "nbformat_minor": 5
}
