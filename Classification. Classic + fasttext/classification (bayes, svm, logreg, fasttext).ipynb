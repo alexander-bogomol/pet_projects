{
 "cells": [
  {
   "cell_type": "code",
   "execution_count": 618,
   "id": "2ef6f9d3-5fc8-419d-aaf5-784c2e53ff99",
   "metadata": {},
   "outputs": [],
   "source": [
    "import pandas as pd"
   ]
  },
  {
   "cell_type": "code",
   "execution_count": 619,
   "id": "5b3f5747-4891-48a6-96b7-d8059d07d4fe",
   "metadata": {},
   "outputs": [
    {
     "data": {
      "text/html": [
       "<div>\n",
       "<style scoped>\n",
       "    .dataframe tbody tr th:only-of-type {\n",
       "        vertical-align: middle;\n",
       "    }\n",
       "\n",
       "    .dataframe tbody tr th {\n",
       "        vertical-align: top;\n",
       "    }\n",
       "\n",
       "    .dataframe thead th {\n",
       "        text-align: right;\n",
       "    }\n",
       "</style>\n",
       "<table border=\"1\" class=\"dataframe\">\n",
       "  <thead>\n",
       "    <tr style=\"text-align: right;\">\n",
       "      <th></th>\n",
       "      <th>_unit_id</th>\n",
       "      <th>_golden</th>\n",
       "      <th>_unit_state</th>\n",
       "      <th>_trusted_judgments</th>\n",
       "      <th>_last_judgment_at</th>\n",
       "      <th>positivity</th>\n",
       "      <th>positivity:confidence</th>\n",
       "      <th>relevance</th>\n",
       "      <th>relevance:confidence</th>\n",
       "      <th>articleid</th>\n",
       "      <th>date</th>\n",
       "      <th>headline</th>\n",
       "      <th>positivity_gold</th>\n",
       "      <th>relevance_gold</th>\n",
       "      <th>text</th>\n",
       "    </tr>\n",
       "  </thead>\n",
       "  <tbody>\n",
       "    <tr>\n",
       "      <th>6699</th>\n",
       "      <td>830984331</td>\n",
       "      <td>False</td>\n",
       "      <td>finalized</td>\n",
       "      <td>3</td>\n",
       "      <td>11/18/15 10:28</td>\n",
       "      <td>NaN</td>\n",
       "      <td>0.0</td>\n",
       "      <td>no</td>\n",
       "      <td>0.6639</td>\n",
       "      <td>wapo_148984591</td>\n",
       "      <td>10/30/58</td>\n",
       "      <td>Fiscal YearÛªs Tax Receipts Near Record</td>\n",
       "      <td>NaN</td>\n",
       "      <td>NaN</td>\n",
       "      <td>Federal tax collections in the year ended last...</td>\n",
       "    </tr>\n",
       "    <tr>\n",
       "      <th>4783</th>\n",
       "      <td>830982413</td>\n",
       "      <td>False</td>\n",
       "      <td>finalized</td>\n",
       "      <td>3</td>\n",
       "      <td>11/18/15 2:27</td>\n",
       "      <td>NaN</td>\n",
       "      <td>0.0</td>\n",
       "      <td>no</td>\n",
       "      <td>0.6691</td>\n",
       "      <td>wapo_148219889</td>\n",
       "      <td>3/16/72</td>\n",
       "      <td>Price Unit To Slow Increases: Price Boosts to ...</td>\n",
       "      <td>NaN</td>\n",
       "      <td>NaN</td>\n",
       "      <td>The Price Commission, somewhat fearful that it...</td>\n",
       "    </tr>\n",
       "    <tr>\n",
       "      <th>2206</th>\n",
       "      <td>842615667</td>\n",
       "      <td>False</td>\n",
       "      <td>finalized</td>\n",
       "      <td>3</td>\n",
       "      <td>12/5/15 11:49</td>\n",
       "      <td>NaN</td>\n",
       "      <td>NaN</td>\n",
       "      <td>no</td>\n",
       "      <td>1.0000</td>\n",
       "      <td>wsj_399084323</td>\n",
       "      <td>1/28/10</td>\n",
       "      <td>Fed Vote Kills Treasurys Rally</td>\n",
       "      <td>NaN</td>\n",
       "      <td>NaN</td>\n",
       "      <td>NEW YORK -- The first dissent vote in a year o...</td>\n",
       "    </tr>\n",
       "  </tbody>\n",
       "</table>\n",
       "</div>"
      ],
      "text/plain": [
       "       _unit_id  _golden _unit_state  _trusted_judgments _last_judgment_at  \\\n",
       "6699  830984331    False   finalized                   3    11/18/15 10:28   \n",
       "4783  830982413    False   finalized                   3     11/18/15 2:27   \n",
       "2206  842615667    False   finalized                   3     12/5/15 11:49   \n",
       "\n",
       "      positivity  positivity:confidence relevance  relevance:confidence  \\\n",
       "6699         NaN                    0.0        no                0.6639   \n",
       "4783         NaN                    0.0        no                0.6691   \n",
       "2206         NaN                    NaN        no                1.0000   \n",
       "\n",
       "           articleid      date  \\\n",
       "6699  wapo_148984591  10/30/58   \n",
       "4783  wapo_148219889   3/16/72   \n",
       "2206   wsj_399084323   1/28/10   \n",
       "\n",
       "                                               headline  positivity_gold  \\\n",
       "6699           Fiscal YearÛªs Tax Receipts Near Record              NaN   \n",
       "4783  Price Unit To Slow Increases: Price Boosts to ...              NaN   \n",
       "2206                     Fed Vote Kills Treasurys Rally              NaN   \n",
       "\n",
       "      relevance_gold                                               text  \n",
       "6699             NaN  Federal tax collections in the year ended last...  \n",
       "4783             NaN  The Price Commission, somewhat fearful that it...  \n",
       "2206             NaN  NEW YORK -- The first dissent vote in a year o...  "
      ]
     },
     "execution_count": 619,
     "metadata": {},
     "output_type": "execute_result"
    }
   ],
   "source": [
    "economic_news_df = pd.read_csv('Full-Economic-News-DFE-839861.csv', encoding=\"ISO-8859-15\")\n",
    "economic_news_df.sample(3)"
   ]
  },
  {
   "cell_type": "code",
   "execution_count": 275,
   "id": "9ed1e5a6-20e0-4c84-ba11-4def2cd8537b",
   "metadata": {},
   "outputs": [
    {
     "data": {
      "text/plain": [
       "(0, 0)"
      ]
     },
     "execution_count": 275,
     "metadata": {},
     "output_type": "execute_result"
    }
   ],
   "source": [
    "economic_news_df.relevance.isna().sum(), economic_news_df.text.isna().sum()"
   ]
  },
  {
   "cell_type": "code",
   "execution_count": 274,
   "id": "e5b5e076-8126-4721-b91d-8c6139f3d3b5",
   "metadata": {},
   "outputs": [
    {
     "data": {
      "text/plain": [
       "(7991, 15)"
      ]
     },
     "execution_count": 274,
     "metadata": {},
     "output_type": "execute_result"
    }
   ],
   "source": [
    "# Drop rows with 'not sure' labels\n",
    "drop_index = economic_news_df[economic_news_df.relevance == 'not sure'].index\n",
    "economic_news_df.drop(index=drop_index, inplace=True)\n",
    "economic_news_df.shape"
   ]
  },
  {
   "cell_type": "code",
   "execution_count": 276,
   "id": "0b89d483-53d7-4e72-bbf4-d34da29c3071",
   "metadata": {},
   "outputs": [],
   "source": [
    "economic_news_df = economic_news_df[['text', 'relevance']]"
   ]
  },
  {
   "cell_type": "code",
   "execution_count": 277,
   "id": "7508ca35-5784-4c20-9a75-b84d8658e9ed",
   "metadata": {},
   "outputs": [
    {
     "data": {
      "text/html": [
       "<div>\n",
       "<style scoped>\n",
       "    .dataframe tbody tr th:only-of-type {\n",
       "        vertical-align: middle;\n",
       "    }\n",
       "\n",
       "    .dataframe tbody tr th {\n",
       "        vertical-align: top;\n",
       "    }\n",
       "\n",
       "    .dataframe thead th {\n",
       "        text-align: right;\n",
       "    }\n",
       "</style>\n",
       "<table border=\"1\" class=\"dataframe\">\n",
       "  <thead>\n",
       "    <tr style=\"text-align: right;\">\n",
       "      <th></th>\n",
       "      <th>text</th>\n",
       "      <th>relevance</th>\n",
       "    </tr>\n",
       "  </thead>\n",
       "  <tbody>\n",
       "    <tr>\n",
       "      <th>2813</th>\n",
       "      <td>Author: Ruth Simon&lt;/br&gt;&lt;/br&gt;When a borrower he...</td>\n",
       "      <td>no</td>\n",
       "    </tr>\n",
       "    <tr>\n",
       "      <th>6437</th>\n",
       "      <td>The Federal ReserveÛªs light-money policy is ...</td>\n",
       "      <td>no</td>\n",
       "    </tr>\n",
       "    <tr>\n",
       "      <th>2487</th>\n",
       "      <td>Author: Justin Lahart&lt;/br&gt;&lt;/br&gt;A sustained and...</td>\n",
       "      <td>yes</td>\n",
       "    </tr>\n",
       "  </tbody>\n",
       "</table>\n",
       "</div>"
      ],
      "text/plain": [
       "                                                   text relevance\n",
       "2813  Author: Ruth Simon</br></br>When a borrower he...        no\n",
       "6437  The Federal ReserveÛªs light-money policy is ...        no\n",
       "2487  Author: Justin Lahart</br></br>A sustained and...       yes"
      ]
     },
     "execution_count": 277,
     "metadata": {},
     "output_type": "execute_result"
    }
   ],
   "source": [
    "economic_news_df.sample(3)"
   ]
  },
  {
   "cell_type": "code",
   "execution_count": 278,
   "id": "98cf04c3-ca52-42b8-89c5-b875f466d72b",
   "metadata": {},
   "outputs": [
    {
     "name": "stderr",
     "output_type": "stream",
     "text": [
      "/tmp/ipykernel_6701/4231271555.py:2: SettingWithCopyWarning: \n",
      "A value is trying to be set on a copy of a slice from a DataFrame.\n",
      "Try using .loc[row_indexer,col_indexer] = value instead\n",
      "\n",
      "See the caveats in the documentation: https://pandas.pydata.org/pandas-docs/stable/user_guide/indexing.html#returning-a-view-versus-a-copy\n",
      "  economic_news_df['relevance'] = relevance\n"
     ]
    },
    {
     "data": {
      "text/html": [
       "<div>\n",
       "<style scoped>\n",
       "    .dataframe tbody tr th:only-of-type {\n",
       "        vertical-align: middle;\n",
       "    }\n",
       "\n",
       "    .dataframe tbody tr th {\n",
       "        vertical-align: top;\n",
       "    }\n",
       "\n",
       "    .dataframe thead th {\n",
       "        text-align: right;\n",
       "    }\n",
       "</style>\n",
       "<table border=\"1\" class=\"dataframe\">\n",
       "  <thead>\n",
       "    <tr style=\"text-align: right;\">\n",
       "      <th></th>\n",
       "      <th>text</th>\n",
       "      <th>relevance</th>\n",
       "    </tr>\n",
       "  </thead>\n",
       "  <tbody>\n",
       "    <tr>\n",
       "      <th>0</th>\n",
       "      <td>NEW YORK -- Yields on most certificates of dep...</td>\n",
       "      <td>1</td>\n",
       "    </tr>\n",
       "    <tr>\n",
       "      <th>1</th>\n",
       "      <td>The Wall Street Journal Online&lt;/br&gt;&lt;/br&gt;The Mo...</td>\n",
       "      <td>0</td>\n",
       "    </tr>\n",
       "    <tr>\n",
       "      <th>2</th>\n",
       "      <td>WASHINGTON -- In an effort to achieve banking ...</td>\n",
       "      <td>0</td>\n",
       "    </tr>\n",
       "    <tr>\n",
       "      <th>3</th>\n",
       "      <td>The statistics on the enormous costs of employ...</td>\n",
       "      <td>0</td>\n",
       "    </tr>\n",
       "    <tr>\n",
       "      <th>4</th>\n",
       "      <td>NEW YORK -- Indecision marked the dollar's ton...</td>\n",
       "      <td>1</td>\n",
       "    </tr>\n",
       "  </tbody>\n",
       "</table>\n",
       "</div>"
      ],
      "text/plain": [
       "                                                text  relevance\n",
       "0  NEW YORK -- Yields on most certificates of dep...          1\n",
       "1  The Wall Street Journal Online</br></br>The Mo...          0\n",
       "2  WASHINGTON -- In an effort to achieve banking ...          0\n",
       "3  The statistics on the enormous costs of employ...          0\n",
       "4  NEW YORK -- Indecision marked the dollar's ton...          1"
      ]
     },
     "execution_count": 278,
     "metadata": {},
     "output_type": "execute_result"
    }
   ],
   "source": [
    "relevance = economic_news_df['relevance'].map({'no': 0, 'yes': 1})\n",
    "economic_news_df['relevance'] = relevance\n",
    "economic_news_df.head()"
   ]
  },
  {
   "cell_type": "code",
   "execution_count": 279,
   "id": "072c1529-c4e6-411f-8a04-68ca5a4b2d1b",
   "metadata": {},
   "outputs": [],
   "source": [
    "import re\n",
    "import spacy\n",
    "spacy_nlp = spacy.load('en_core_web_sm')\n",
    "STOPWORDS = spacy_nlp.Defaults.stop_words"
   ]
  },
  {
   "cell_type": "code",
   "execution_count": 280,
   "id": "d091d65f-fbc4-496e-8876-4fcafa289041",
   "metadata": {},
   "outputs": [],
   "source": [
    "# Clean <br> tags\n",
    "def clean_br(doc):\n",
    "    doc = re.sub(r'</*br>', ' ', doc)\n",
    "    return doc\n",
    "\n",
    "cleaned_text = economic_news_df['text'].map(clean_br)"
   ]
  },
  {
   "cell_type": "code",
   "execution_count": 281,
   "id": "050d92af-e8d5-41d8-9fe0-a4dd230fe6e6",
   "metadata": {},
   "outputs": [],
   "source": [
    "text_filter = list(STOPWORDS) + [ '!', '\"', '#', '&', '(', ')', '*', '+', '-', '.', '/',  '\\\\', ':', ';', '<', '=', '>',\n",
    "           '?', '@', '[', ']', '^', '_', '`', '{', '|', '}', '\\t','\\n',\"'\",\",\",'~' , '—']"
   ]
  },
  {
   "cell_type": "code",
   "execution_count": 282,
   "id": "24cd2eef-0262-4316-9a5a-94080a8c04d0",
   "metadata": {},
   "outputs": [
    {
     "data": {
      "text/plain": [
       "False"
      ]
     },
     "execution_count": 282,
     "metadata": {},
     "output_type": "execute_result"
    }
   ],
   "source": [
    "# $ and % sign maybe usefull in such case\n",
    "'$' in text_filter"
   ]
  },
  {
   "cell_type": "code",
   "execution_count": 283,
   "id": "f28f37b9-7f08-4d17-8c99-6e99b2e1858b",
   "metadata": {},
   "outputs": [
    {
     "data": {
      "text/plain": [
       "['NEW YORK -- yield certificate deposit offer major bank drop tenth percentage point late week reflect overall decline short term interest rate   small denomination consumer cd sell directly bank average yield month deposit fall 5.49 % 5.62 % week end yesterday accord 18 bank survey Banxquote Money Markets Wilmington Del. information service   month consumer deposit average yield sink 5.29 % 5.42 % week accord Banxquote bank Banxquote survey Citibank New York CoreStates Pennsylvania pay 5 % threemonth small denomination cd   Declines somewhat small year consumer cd ease 7.37 % 7.45 % Banxquote   yield month month Treasury bill sell Monday auction plummet fifth percentage point previous week 5.46 % 5.63 % respectively',\n",
       " 'Wall Street Journal Online   Morning Brief look day big news email subscriber 7 a.m. business day sign e mail   Friday evening Congress town summer recess Americans head mid August weekend Bush administration send message state federal government tough national child insurance program cover offspring middle income family   State Children Health Insurance Program create 1997 help child family afford insurance qualify Medicaid administration official tell New York Times change aim return program low- income focus assure replacement private insurance administration point man Dennis Smith write state official new restriction District Columbia 18 state -- include California New York -- extend plan extend coverage child family 250 % federal poverty level family 250 % $ 42,900 family $ 51,625 new limit child family spend year uninsured qualifying state want extend coverage assure Washington 95 % child eligible SCHIP Medicaid enrol program Associated Press report state currently assurance   Rachel Klein deputy director health policy advocacy group Families USA tell AP family 250 % threshold afford private insurance effect policy uninsured kid Ann Clemency Kohler deputy commissioner human service New Jersey tell Times change cause havoc program jeopardize coverage thousand child state impose waiting period step prevent parent child private insurance SCHIP currently serve 6.6 million child Washington Post note administration new restriction come program expire end month Congress reauthorize subject large political fight pit White House Democrats Republicans Congress state capital',\n",
       " 'WASHINGTON -- effort achieve banking reform Senate negotiator Bush administration agree drop effort allow bank expand far security business   compromise Senate Banking Committee pursue remove obstacle banking bill face Senate start vote measure today late version House banking bill drop administration proposal broaden bank entry security business   night House begin second attempt pass banking bill fail week disagreement allow bank security business House adopt voice vote provision replenish bank deposit insurance fund tighten bank regulation trim scope deposit insurance restrict Federal Reserve Board ability sick bank alive loan   House delay today vote amendment allow bank branch nationwide final passage banking bill House leadership administration time drum support bill   House Speaker Thomas Foley D. Wash. work hard win passage bill face significant opposition Rep. John Dingell D. Mich. believe bill include provision impose stiff regulation bank security business']"
      ]
     },
     "execution_count": 283,
     "metadata": {},
     "output_type": "execute_result"
    }
   ],
   "source": [
    "# lemmatize text with spacy\n",
    "docs = spacy_nlp.pipe(cleaned_text, disable=['ner'], n_process=-1)\n",
    "lemmatized_text = []\n",
    "for doc in docs:\n",
    "    lemmatized_text.append(' '.join([token.lemma_ for token in doc if token.lemma_ not in text_filter]))\n",
    "    \n",
    "lemmatized_text[:3]"
   ]
  },
  {
   "cell_type": "code",
   "execution_count": 287,
   "id": "93bb223f-0f47-4b33-bbb3-6d2a7ae66176",
   "metadata": {},
   "outputs": [],
   "source": [
    "economic_news_df['lemmatized_text'] = lemmatized_text"
   ]
  },
  {
   "cell_type": "code",
   "execution_count": 288,
   "id": "af80e950-ed9b-42a5-973d-4da7d6f337d5",
   "metadata": {},
   "outputs": [
    {
     "data": {
      "text/plain": [
       "(5993, 1998, 351)"
      ]
     },
     "execution_count": 288,
     "metadata": {},
     "output_type": "execute_result"
    }
   ],
   "source": [
    "from sklearn.model_selection import train_test_split\n",
    "text_train, text_test, relevance_train, relevance_test = train_test_split(economic_news_df['lemmatized_text'], economic_news_df['relevance'])\n",
    "len(text_train), len(relevance_test), relevance_test.sum()"
   ]
  },
  {
   "cell_type": "code",
   "execution_count": 289,
   "id": "01268911-ce57-4094-9c8a-d27afee8e7cf",
   "metadata": {},
   "outputs": [
    {
     "data": {
      "text/plain": [
       "(0.17769991240145164, 0.17567567567567569)"
      ]
     },
     "execution_count": 289,
     "metadata": {},
     "output_type": "execute_result"
    }
   ],
   "source": [
    "# Check class distribution\n",
    "economic_news_df['relevance'].sum()/economic_news_df.shape[0], relevance_test.sum() / len(relevance_test)"
   ]
  },
  {
   "cell_type": "code",
   "execution_count": 336,
   "id": "aa1faa29-ccdf-4339-af69-cab7e9a12096",
   "metadata": {},
   "outputs": [],
   "source": [
    "from sklearn.feature_extraction.text import TfidfVectorizer, CountVectorizer\n",
    "from nltk.tokenize import word_tokenize"
   ]
  },
  {
   "cell_type": "code",
   "execution_count": 337,
   "id": "9741e227-1b9d-4aec-a023-32acabfc7498",
   "metadata": {},
   "outputs": [],
   "source": [
    "sklearn_tf_vectorizer = TfidfVectorizer(tokenizer=word_tokenize)\n",
    "text_train_tf = sklearn_tf_vectorizer.fit_transform(text_train)\n",
    "text_test_tf = sklearn_tf_vectorizer.transform(text_test)\n",
    "\n",
    "sklearn_ct_vectorizer = CountVectorizer(tokenizer=word_tokenize)\n",
    "text_train_ct = sklearn_ct_vectorizer.fit_transform(text_train)\n",
    "text_test_ct = sklearn_ct_vectorizer.transform(text_test)"
   ]
  },
  {
   "cell_type": "code",
   "execution_count": 292,
   "id": "468565bc-77b7-4d13-b375-f6d6424dd072",
   "metadata": {},
   "outputs": [
    {
     "data": {
      "text/plain": [
       "((5993, 43121), (1998, 43121))"
      ]
     },
     "execution_count": 292,
     "metadata": {},
     "output_type": "execute_result"
    }
   ],
   "source": [
    "text_train_tf.shape, text_test_tf.shape"
   ]
  },
  {
   "cell_type": "code",
   "execution_count": 293,
   "id": "394c1587-eb07-4e49-9fae-89077d356881",
   "metadata": {},
   "outputs": [
    {
     "data": {
      "text/plain": [
       "True"
      ]
     },
     "execution_count": 293,
     "metadata": {},
     "output_type": "execute_result"
    }
   ],
   "source": [
    "'$' in sklearn_tf_vectorizer.vocabulary_.keys()"
   ]
  },
  {
   "cell_type": "code",
   "execution_count": 332,
   "id": "fa244c9d-5fd6-4c80-823f-1da79435f20f",
   "metadata": {},
   "outputs": [],
   "source": [
    "from sklearn.metrics import accuracy_score, roc_auc_score, f1_score"
   ]
  },
  {
   "cell_type": "code",
   "execution_count": 325,
   "id": "09cfc667-47c2-4738-9146-35559a095207",
   "metadata": {},
   "outputs": [],
   "source": [
    "from sklearn.naive_bayes import GaussianNB\n",
    "nb = GaussianNB()\n",
    "nb.fit(text_train_tf.toarray(), relevance_train)\n",
    "\n",
    "y_pred_class = nb.predict(text_test_tf.toarray())\n",
    "y_pred_prob = nb.predict_proba(text_test_tf.toarray())[:, 1]"
   ]
  },
  {
   "cell_type": "code",
   "execution_count": 333,
   "id": "f011e66f-330b-4d88-a272-30e344c3e103",
   "metadata": {},
   "outputs": [
    {
     "name": "stdout",
     "output_type": "stream",
     "text": [
      "Accuracy:  0.8018018018018018\n",
      "AUC:  0.552473027882864\n",
      "F1-score:  0.22957198443579765\n"
     ]
    }
   ],
   "source": [
    "print('Accuracy: ', accuracy_score(relevance_test, y_pred_class))\n",
    "print('AUC: ', roc_auc_score(relevance_test, y_pred_prob))\n",
    "print('F1-score: ', f1_score(relevance_test, y_pred_class))"
   ]
  },
  {
   "cell_type": "code",
   "execution_count": 350,
   "id": "9d923e80-ad6f-474e-88b3-069e85a37bde",
   "metadata": {},
   "outputs": [
    {
     "data": {
      "image/png": "[encoded data removed]",
      "text/plain": [
       "<Figure size 432x288 with 2 Axes>"
      ]
     },
     "metadata": {
      "needs_background": "light"
     },
     "output_type": "display_data"
    }
   ],
   "source": [
    "from sklearn.metrics import confusion_matrix, ConfusionMatrixDisplay\n",
    "cm = confusion_matrix(relevance_test, y_pred_class, labels=nb.classes_)\n",
    "disp = ConfusionMatrixDisplay(confusion_matrix=cm,\n",
    "                              display_labels=nb.classes_)\n",
    "disp.plot();"
   ]
  },
  {
   "cell_type": "code",
   "execution_count": 339,
   "id": "5b8b5494-be75-45b2-8470-3cbfcb3c7b76",
   "metadata": {},
   "outputs": [],
   "source": [
    "from sklearn.naive_bayes import MultinomialNB\n",
    "nb_m = MultinomialNB()\n",
    "nb_m.fit(text_train_ct.toarray(), relevance_train)\n",
    "\n",
    "ct_pred_class = nb_m.predict(text_test_ct.toarray())\n",
    "ct_pred_prob = nb_m.predict_proba(text_test_ct.toarray())[:, 1]"
   ]
  },
  {
   "cell_type": "code",
   "execution_count": 340,
   "id": "69403ee9-aca0-47d5-95ff-0653ed2b2a64",
   "metadata": {},
   "outputs": [
    {
     "name": "stdout",
     "output_type": "stream",
     "text": [
      "Accuracy:  0.7637637637637638\n",
      "AUC:  0.7438673786579071\n",
      "F1-score:  0.40554156171284633\n"
     ]
    }
   ],
   "source": [
    "print('Accuracy: ', accuracy_score(relevance_test, ct_pred_class))\n",
    "print('AUC: ', roc_auc_score(relevance_test, ct_pred_prob))\n",
    "print('F1-score: ', f1_score(relevance_test, ct_pred_class))"
   ]
  },
  {
   "cell_type": "code",
   "execution_count": 347,
   "id": "0f4e5578-2722-40fb-9b02-33d30320374f",
   "metadata": {},
   "outputs": [
    {
     "data": {
      "text/plain": [
       "array([0, 0, 0, ..., 0, 0, 0])"
      ]
     },
     "execution_count": 347,
     "metadata": {},
     "output_type": "execute_result"
    }
   ],
   "source": [
    "ct_pred_class"
   ]
  },
  {
   "cell_type": "code",
   "execution_count": 348,
   "id": "5c447762-c922-40ab-9243-92c46bd3032b",
   "metadata": {},
   "outputs": [
    {
     "data": {
      "image/png": "[encoded data removed]",
      "text/plain": [
       "<Figure size 432x288 with 2 Axes>"
      ]
     },
     "metadata": {
      "needs_background": "light"
     },
     "output_type": "display_data"
    }
   ],
   "source": [
    "cm_m = confusion_matrix(relevance_test, ct_pred_class, labels=nb_m.classes_, normalize=None)\n",
    "disp_m = ConfusionMatrixDisplay(confusion_matrix=cm_m,\n",
    "                              display_labels=nb_m.classes_)\n",
    "disp_m.plot();"
   ]
  },
  {
   "cell_type": "code",
   "execution_count": 543,
   "id": "a6ea6003-1876-4b8f-b2e4-b0cb147cc110",
   "metadata": {},
   "outputs": [
    {
     "data": {
      "text/plain": [
       "(5993, 43121)"
      ]
     },
     "execution_count": 543,
     "metadata": {},
     "output_type": "execute_result"
    }
   ],
   "source": [
    "text_train_ct.toarray().shape"
   ]
  },
  {
   "cell_type": "code",
   "execution_count": 544,
   "id": "5d7f90f4-b3c9-4034-a1d9-952eee42dd57",
   "metadata": {},
   "outputs": [],
   "source": [
    "from sklearn.linear_model import LogisticRegression\n",
    "\n",
    "logreg = LogisticRegression(class_weight='balanced', max_iter=1000)\n",
    "logreg.fit(text_train_ct.toarray(), relevance_train)\n",
    "\n",
    "log_pred_class = logreg.predict(text_test_ct.toarray())\n",
    "log_pred_proba = logreg.predict_proba(text_test_ct.toarray())[:, 1]"
   ]
  },
  {
   "cell_type": "code",
   "execution_count": 545,
   "id": "1fd0cea0-cdb9-464e-a163-49718c0f9ea1",
   "metadata": {},
   "outputs": [
    {
     "name": "stdout",
     "output_type": "stream",
     "text": [
      "Accuracy:  0.7522522522522522\n",
      "AUC:  0.6815793889260798\n",
      "F1-score:  0.35124508519003933\n"
     ]
    }
   ],
   "source": [
    "print('Accuracy: ', accuracy_score(relevance_test, log_pred_class))\n",
    "print('AUC: ', roc_auc_score(relevance_test, log_pred_proba))\n",
    "print('F1-score: ', f1_score(relevance_test, log_pred_class))"
   ]
  },
  {
   "cell_type": "code",
   "execution_count": 546,
   "id": "c78127a3-c1a1-4a93-b598-d7facfd997da",
   "metadata": {},
   "outputs": [
    {
     "data": {
      "image/png": "[encoded data removed]",
      "text/plain": [
       "<Figure size 432x288 with 2 Axes>"
      ]
     },
     "metadata": {
      "needs_background": "light"
     },
     "output_type": "display_data"
    }
   ],
   "source": [
    "cm_log = confusion_matrix(relevance_test, log_pred_class, labels=logreg.classes_)\n",
    "disp_log = ConfusionMatrixDisplay(confusion_matrix=cm_log,\n",
    "                              display_labels=logreg.classes_)\n",
    "disp_log.plot();"
   ]
  },
  {
   "cell_type": "code",
   "execution_count": 483,
   "id": "4229fe88-a243-4a9c-bf65-4f56c0065a0d",
   "metadata": {},
   "outputs": [],
   "source": [
    "from sklearn.metrics import plot_roc_curve\n",
    "def custom_vectorizer(vectorizer, text_train, text_test):\n",
    "    train_vector = vectorizer.fit_transform(text_train)\n",
    "    test_vector = vectorizer.transform(text_test)\n",
    "    return train_vector, test_vector\n",
    "\n",
    "def train_and_evaluate(model, vectorizer, text_train, text_test, relevance_train, relevance_test, **kwargs):\n",
    "    exc = None\n",
    "    if vectorizer != None:\n",
    "        train_vector, test_vector = custom_vectorizer(vectorizer, text_train, text_test)\n",
    "        train_vector, test_vector = train_vector.toarray(), test_vector.toarray()\n",
    "    else:\n",
    "        train_vector, test_vector = text_train, text_test\n",
    "    \n",
    "    model.fit(train_vector, relevance_train)\n",
    "\n",
    "    y_pred_class = model.predict(test_vector)\n",
    "    try:\n",
    "        y_pred_prob = model.predict_proba(test_vector)[:, 1]\n",
    "        print('AUC: ', roc_auc_score(relevance_test, y_pred_prob))\n",
    "    except Exception as exc:\n",
    "        print(exc)\n",
    "\n",
    "    print('Accuracy: ', accuracy_score(relevance_test, y_pred_class))\n",
    "    print('F1-score: ', f1_score(relevance_test, y_pred_class))\n",
    "\n",
    "    from sklearn.metrics import confusion_matrix, ConfusionMatrixDisplay\n",
    "    cm = confusion_matrix(relevance_test, y_pred_class, labels=model.classes_)\n",
    "    disp = ConfusionMatrixDisplay(confusion_matrix=cm,\n",
    "                                  display_labels=model.classes_)\n",
    "    disp.plot();\n",
    "    if exc is None :\n",
    "        plot_roc_curve(model, test_vector, relevance_test)        "
   ]
  },
  {
   "cell_type": "code",
   "execution_count": 370,
   "id": "90ccdeb3-5f44-4f01-b61a-6d95083fdbef",
   "metadata": {},
   "outputs": [
    {
     "name": "stdout",
     "output_type": "stream",
     "text": [
      "'LinearSVC' object has no attribute 'predict_proba'\n",
      "Accuracy:  0.7062062062062062\n",
      "F1-score:  0.3213872832369942\n"
     ]
    },
    {
     "name": "stderr",
     "output_type": "stream",
     "text": [
      "/home/sandro/miniconda3/lib/python3.9/site-packages/sklearn/svm/_base.py:1206: ConvergenceWarning: Liblinear failed to converge, increase the number of iterations.\n",
      "  warnings.warn(\n"
     ]
    },
    {
     "data": {
      "image/png": "[encoded data removed]",
      "text/plain": [
       "<Figure size 432x288 with 2 Axes>"
      ]
     },
     "metadata": {
      "needs_background": "light"
     },
     "output_type": "display_data"
    }
   ],
   "source": [
    "from sklearn.svm import LinearSVC\n",
    "vectorizer = CountVectorizer(tokenizer=word_tokenize, max_features=2000)\n",
    "classifier = LinearSVC(class_weight='balanced', max_iter=3000)\n",
    "\n",
    "train_and_evaluate(model=classifier, vectorizer=vectorizer, text_train=text_train, \n",
    "                   text_test=text_test, relevance_train=relevance_train, relevance_test=relevance_test)\n"
   ]
  },
  {
   "cell_type": "code",
   "execution_count": 374,
   "id": "6712154b-df6e-486f-b7c3-de62f7d6dc42",
   "metadata": {},
   "outputs": [
    {
     "name": "stdout",
     "output_type": "stream",
     "text": [
      "'LinearSVC' object has no attribute 'predict_proba'\n",
      "Accuracy:  0.6976976976976977\n",
      "F1-score:  0.4158607350096712\n"
     ]
    },
    {
     "data": {
      "image/png": "[encoded data removed]",
      "text/plain": [
       "<Figure size 432x288 with 2 Axes>"
      ]
     },
     "metadata": {
      "needs_background": "light"
     },
     "output_type": "display_data"
    }
   ],
   "source": [
    "vectorizer = TfidfVectorizer(tokenizer=word_tokenize, max_features=1000)\n",
    "classifier = LinearSVC(class_weight='balanced', max_iter=5000)\n",
    "\n",
    "train_and_evaluate(model=classifier, vectorizer=vectorizer, text_train=text_train, \n",
    "                   text_test=text_test, relevance_train=relevance_train, relevance_test=relevance_test)\n"
   ]
  },
  {
   "cell_type": "code",
   "execution_count": 391,
   "id": "383086ad-379e-408a-8890-360334e8da6e",
   "metadata": {},
   "outputs": [
    {
     "name": "stdout",
     "output_type": "stream",
     "text": [
      "AUC:  0.7474333892063096\n",
      "Accuracy:  0.8248248248248248\n",
      "F1-score:  0.24892703862660945\n"
     ]
    },
    {
     "name": "stderr",
     "output_type": "stream",
     "text": [
      "/home/sandro/miniconda3/lib/python3.9/site-packages/sklearn/utils/deprecation.py:87: FutureWarning: Function plot_roc_curve is deprecated; Function :func:`plot_roc_curve` is deprecated in 1.0 and will be removed in 1.2. Use one of the class methods: :meth:`sklearn.metric.RocCurveDisplay.from_predictions` or :meth:`sklearn.metric.RocCurveDisplay.from_estimator`.\n",
      "  warnings.warn(msg, category=FutureWarning)\n"
     ]
    },
    {
     "data": {
      "image/png": "[encoded data removed]",
      "text/plain": [
       "<Figure size 432x288 with 2 Axes>"
      ]
     },
     "metadata": {
      "needs_background": "light"
     },
     "output_type": "display_data"
    },
    {
     "data": {
      "image/png": "[encoded data removed]",
      "text/plain": [
       "<Figure size 432x288 with 1 Axes>"
      ]
     },
     "metadata": {
      "needs_background": "light"
     },
     "output_type": "display_data"
    }
   ],
   "source": [
    "vectorizer = TfidfVectorizer(tokenizer=word_tokenize, max_features=1000)\n",
    "classifier = MultinomialNB()\n",
    "\n",
    "train_and_evaluate(model=classifier, vectorizer=vectorizer, text_train=text_train, \n",
    "                   text_test=text_test, relevance_train=relevance_train, relevance_test=relevance_test)\n"
   ]
  },
  {
   "cell_type": "markdown",
   "id": "d1330a70-bcd4-4dac-a1c2-ebf7698f4a37",
   "metadata": {},
   "source": [
    "Conclusion:\n",
    "\n",
    "Class distribution is not equal, thats why there is the big gap between accurracy score and f1 scores. All classifiers show poor f1-score, but we made the baseline. We should find a better solution."
   ]
  },
  {
   "cell_type": "markdown",
   "id": "8bb80552-c422-4611-99e9-5c5b8086cd82",
   "metadata": {},
   "source": [
    "Let's try embeddings!"
   ]
  },
  {
   "cell_type": "code",
   "execution_count": 404,
   "id": "cf5c084a-0a15-465d-b7bd-09fcde0d800e",
   "metadata": {
    "collapsed": true,
    "jupyter": {
     "outputs_hidden": true
    },
    "tags": []
   },
   "outputs": [
    {
     "data": {
      "text/plain": [
       "{'corpora': {'semeval-2016-2017-task3-subtaskBC': {'num_records': -1,\n",
       "   'record_format': 'dict',\n",
       "   'file_size': 6344358,\n",
       "   'reader_code': 'https://github.com/RaRe-Technologies/gensim-data/releases/download/semeval-2016-2017-task3-subtaskB-eng/__init__.py',\n",
       "   'license': 'All files released for the task are free for general research use',\n",
       "   'fields': {'2016-train': ['...'],\n",
       "    '2016-dev': ['...'],\n",
       "    '2017-test': ['...'],\n",
       "    '2016-test': ['...']},\n",
       "   'description': 'SemEval 2016 / 2017 Task 3 Subtask B and C datasets contain train+development (317 original questions, 3,169 related questions, and 31,690 comments), and test datasets in English. The description of the tasks and the collected data is given in sections 3 and 4.1 of the task paper http://alt.qcri.org/semeval2016/task3/data/uploads/semeval2016-task3-report.pdf linked in section “Papers” of https://github.com/RaRe-Technologies/gensim-data/issues/18.',\n",
       "   'checksum': '701ea67acd82e75f95e1d8e62fb0ad29',\n",
       "   'file_name': 'semeval-2016-2017-task3-subtaskBC.gz',\n",
       "   'read_more': ['http://alt.qcri.org/semeval2017/task3/',\n",
       "    'http://alt.qcri.org/semeval2017/task3/data/uploads/semeval2017-task3.pdf',\n",
       "    'https://github.com/RaRe-Technologies/gensim-data/issues/18',\n",
       "    'https://github.com/Witiko/semeval-2016_2017-task3-subtaskB-english'],\n",
       "   'parts': 1},\n",
       "  'semeval-2016-2017-task3-subtaskA-unannotated': {'num_records': 189941,\n",
       "   'record_format': 'dict',\n",
       "   'file_size': 234373151,\n",
       "   'reader_code': 'https://github.com/RaRe-Technologies/gensim-data/releases/download/semeval-2016-2017-task3-subtaskA-unannotated-eng/__init__.py',\n",
       "   'license': 'These datasets are free for general research use.',\n",
       "   'fields': {'THREAD_SEQUENCE': '',\n",
       "    'RelQuestion': {'RELQ_CATEGORY': 'question category, according to the Qatar Living taxonomy',\n",
       "     'RELQ_DATE': 'date of posting',\n",
       "     'RELQ_ID': 'question indentifier',\n",
       "     'RELQ_USERID': 'identifier of the user asking the question',\n",
       "     'RELQ_USERNAME': 'name of the user asking the question',\n",
       "     'RelQBody': 'body of question',\n",
       "     'RelQSubject': 'subject of question'},\n",
       "    'RelComments': [{'RelCText': 'text of answer',\n",
       "      'RELC_USERID': 'identifier of the user posting the comment',\n",
       "      'RELC_ID': 'comment identifier',\n",
       "      'RELC_USERNAME': 'name of the user posting the comment',\n",
       "      'RELC_DATE': 'date of posting'}]},\n",
       "   'description': 'SemEval 2016 / 2017 Task 3 Subtask A unannotated dataset contains 189,941 questions and 1,894,456 comments in English collected from the Community Question Answering (CQA) web forum of Qatar Living. These can be used as a corpus for language modelling.',\n",
       "   'checksum': '2de0e2f2c4f91c66ae4fcf58d50ba816',\n",
       "   'file_name': 'semeval-2016-2017-task3-subtaskA-unannotated.gz',\n",
       "   'read_more': ['http://alt.qcri.org/semeval2016/task3/',\n",
       "    'http://alt.qcri.org/semeval2016/task3/data/uploads/semeval2016-task3-report.pdf',\n",
       "    'https://github.com/RaRe-Technologies/gensim-data/issues/18',\n",
       "    'https://github.com/Witiko/semeval-2016_2017-task3-subtaskA-unannotated-english'],\n",
       "   'parts': 1},\n",
       "  'patent-2017': {'num_records': 353197,\n",
       "   'record_format': 'dict',\n",
       "   'file_size': 3087262469,\n",
       "   'reader_code': 'https://github.com/RaRe-Technologies/gensim-data/releases/download/patent-2017/__init__.py',\n",
       "   'license': 'not found',\n",
       "   'description': \"Patent Grant Full Text. Contains the full text including tables, sequence data and 'in-line' mathematical expressions of each patent grant issued in 2017.\",\n",
       "   'checksum-0': '818501f0b9af62d3b88294d86d509f8f',\n",
       "   'checksum-1': '66c05635c1d3c7a19b4a335829d09ffa',\n",
       "   'file_name': 'patent-2017.gz',\n",
       "   'read_more': ['http://patents.reedtech.com/pgrbft.php'],\n",
       "   'parts': 2},\n",
       "  'quora-duplicate-questions': {'num_records': 404290,\n",
       "   'record_format': 'dict',\n",
       "   'file_size': 21684784,\n",
       "   'reader_code': 'https://github.com/RaRe-Technologies/gensim-data/releases/download/quora-duplicate-questions/__init__.py',\n",
       "   'license': 'probably https://www.quora.com/about/tos',\n",
       "   'fields': {'question1': 'the full text of each question',\n",
       "    'question2': 'the full text of each question',\n",
       "    'qid1': 'unique ids of each question',\n",
       "    'qid2': 'unique ids of each question',\n",
       "    'id': 'the id of a training set question pair',\n",
       "    'is_duplicate': 'the target variable, set to 1 if question1 and question2 have essentially the same meaning, and 0 otherwise'},\n",
       "   'description': 'Over 400,000 lines of potential question duplicate pairs. Each line contains IDs for each question in the pair, the full text for each question, and a binary value that indicates whether the line contains a duplicate pair or not.',\n",
       "   'checksum': 'd7cfa7fbc6e2ec71ab74c495586c6365',\n",
       "   'file_name': 'quora-duplicate-questions.gz',\n",
       "   'read_more': ['https://data.quora.com/First-Quora-Dataset-Release-Question-Pairs'],\n",
       "   'parts': 1},\n",
       "  'wiki-english-20171001': {'num_records': 4924894,\n",
       "   'record_format': 'dict',\n",
       "   'file_size': 6516051717,\n",
       "   'reader_code': 'https://github.com/RaRe-Technologies/gensim-data/releases/download/wiki-english-20171001/__init__.py',\n",
       "   'license': 'https://dumps.wikimedia.org/legal.html',\n",
       "   'fields': {'section_texts': 'list of body of sections',\n",
       "    'section_titles': 'list of titles of sections',\n",
       "    'title': 'Title of wiki article'},\n",
       "   'description': 'Extracted Wikipedia dump from October 2017. Produced by `python -m gensim.scripts.segment_wiki -f enwiki-20171001-pages-articles.xml.bz2 -o wiki-en.gz`',\n",
       "   'checksum-0': 'a7d7d7fd41ea7e2d7fa32ec1bb640d71',\n",
       "   'checksum-1': 'b2683e3356ffbca3b6c2dca6e9801f9f',\n",
       "   'checksum-2': 'c5cde2a9ae77b3c4ebce804f6df542c2',\n",
       "   'checksum-3': '00b71144ed5e3aeeb885de84f7452b81',\n",
       "   'file_name': 'wiki-english-20171001.gz',\n",
       "   'read_more': ['https://dumps.wikimedia.org/enwiki/20171001/'],\n",
       "   'parts': 4},\n",
       "  'text8': {'num_records': 1701,\n",
       "   'record_format': 'list of str (tokens)',\n",
       "   'file_size': 33182058,\n",
       "   'reader_code': 'https://github.com/RaRe-Technologies/gensim-data/releases/download/text8/__init__.py',\n",
       "   'license': 'not found',\n",
       "   'description': 'First 100,000,000 bytes of plain text from Wikipedia. Used for testing purposes; see wiki-english-* for proper full Wikipedia datasets.',\n",
       "   'checksum': '68799af40b6bda07dfa47a32612e5364',\n",
       "   'file_name': 'text8.gz',\n",
       "   'read_more': ['http://mattmahoney.net/dc/textdata.html'],\n",
       "   'parts': 1},\n",
       "  'fake-news': {'num_records': 12999,\n",
       "   'record_format': 'dict',\n",
       "   'file_size': 20102776,\n",
       "   'reader_code': 'https://github.com/RaRe-Technologies/gensim-data/releases/download/fake-news/__init__.py',\n",
       "   'license': 'https://creativecommons.org/publicdomain/zero/1.0/',\n",
       "   'fields': {'crawled': 'date the story was archived',\n",
       "    'ord_in_thread': '',\n",
       "    'published': 'date published',\n",
       "    'participants_count': 'number of participants',\n",
       "    'shares': 'number of Facebook shares',\n",
       "    'replies_count': 'number of replies',\n",
       "    'main_img_url': 'image from story',\n",
       "    'spam_score': 'data from webhose.io',\n",
       "    'uuid': 'unique identifier',\n",
       "    'language': 'data from webhose.io',\n",
       "    'title': 'title of story',\n",
       "    'country': 'data from webhose.io',\n",
       "    'domain_rank': 'data from webhose.io',\n",
       "    'author': 'author of story',\n",
       "    'comments': 'number of Facebook comments',\n",
       "    'site_url': 'site URL from BS detector',\n",
       "    'text': 'text of story',\n",
       "    'thread_title': '',\n",
       "    'type': 'type of website (label from BS detector)',\n",
       "    'likes': 'number of Facebook likes'},\n",
       "   'description': \"News dataset, contains text and metadata from 244 websites and represents 12,999 posts in total from a specific window of 30 days. The data was pulled using the webhose.io API, and because it's coming from their crawler, not all websites identified by their BS Detector are present in this dataset. Data sources that were missing a label were simply assigned a label of 'bs'. There are (ostensibly) no genuine, reliable, or trustworthy news sources represented in this dataset (so far), so don't trust anything you read.\",\n",
       "   'checksum': '5e64e942df13219465927f92dcefd5fe',\n",
       "   'file_name': 'fake-news.gz',\n",
       "   'read_more': ['https://www.kaggle.com/mrisdal/fake-news'],\n",
       "   'parts': 1},\n",
       "  '20-newsgroups': {'num_records': 18846,\n",
       "   'record_format': 'dict',\n",
       "   'file_size': 14483581,\n",
       "   'reader_code': 'https://github.com/RaRe-Technologies/gensim-data/releases/download/20-newsgroups/__init__.py',\n",
       "   'license': 'not found',\n",
       "   'fields': {'topic': 'name of topic (20 variant of possible values)',\n",
       "    'set': \"marker of original split (possible values 'train' and 'test')\",\n",
       "    'data': '',\n",
       "    'id': 'original id inferred from folder name'},\n",
       "   'description': 'The notorious collection of approximately 20,000 newsgroup posts, partitioned (nearly) evenly across 20 different newsgroups.',\n",
       "   'checksum': 'c92fd4f6640a86d5ba89eaad818a9891',\n",
       "   'file_name': '20-newsgroups.gz',\n",
       "   'read_more': ['http://qwone.com/~jason/20Newsgroups/'],\n",
       "   'parts': 1},\n",
       "  '__testing_matrix-synopsis': {'description': '[THIS IS ONLY FOR TESTING] Synopsis of the movie matrix.',\n",
       "   'checksum': '1767ac93a089b43899d54944b07d9dc5',\n",
       "   'file_name': '__testing_matrix-synopsis.gz',\n",
       "   'read_more': ['http://www.imdb.com/title/tt0133093/plotsummary?ref_=ttpl_pl_syn#synopsis'],\n",
       "   'parts': 1},\n",
       "  '__testing_multipart-matrix-synopsis': {'description': '[THIS IS ONLY FOR TESTING] Synopsis of the movie matrix.',\n",
       "   'checksum-0': 'c8b0c7d8cf562b1b632c262a173ac338',\n",
       "   'checksum-1': '5ff7fc6818e9a5d9bc1cf12c35ed8b96',\n",
       "   'checksum-2': '966db9d274d125beaac7987202076cba',\n",
       "   'file_name': '__testing_multipart-matrix-synopsis.gz',\n",
       "   'read_more': ['http://www.imdb.com/title/tt0133093/plotsummary?ref_=ttpl_pl_syn#synopsis'],\n",
       "   'parts': 3}},\n",
       " 'models': {'fasttext-wiki-news-subwords-300': {'num_records': 999999,\n",
       "   'file_size': 1005007116,\n",
       "   'base_dataset': 'Wikipedia 2017, UMBC webbase corpus and statmt.org news dataset (16B tokens)',\n",
       "   'reader_code': 'https://github.com/RaRe-Technologies/gensim-data/releases/download/fasttext-wiki-news-subwords-300/__init__.py',\n",
       "   'license': 'https://creativecommons.org/licenses/by-sa/3.0/',\n",
       "   'parameters': {'dimension': 300},\n",
       "   'description': '1 million word vectors trained on Wikipedia 2017, UMBC webbase corpus and statmt.org news dataset (16B tokens).',\n",
       "   'read_more': ['https://fasttext.cc/docs/en/english-vectors.html',\n",
       "    'https://arxiv.org/abs/1712.09405',\n",
       "    'https://arxiv.org/abs/1607.01759'],\n",
       "   'checksum': 'de2bb3a20c46ce65c9c131e1ad9a77af',\n",
       "   'file_name': 'fasttext-wiki-news-subwords-300.gz',\n",
       "   'parts': 1},\n",
       "  'conceptnet-numberbatch-17-06-300': {'num_records': 1917247,\n",
       "   'file_size': 1225497562,\n",
       "   'base_dataset': 'ConceptNet, word2vec, GloVe, and OpenSubtitles 2016',\n",
       "   'reader_code': 'https://github.com/RaRe-Technologies/gensim-data/releases/download/conceptnet-numberbatch-17-06-300/__init__.py',\n",
       "   'license': 'https://github.com/commonsense/conceptnet-numberbatch/blob/master/LICENSE.txt',\n",
       "   'parameters': {'dimension': 300},\n",
       "   'description': 'ConceptNet Numberbatch consists of state-of-the-art semantic vectors (also known as word embeddings) that can be used directly as a representation of word meanings or as a starting point for further machine learning. ConceptNet Numberbatch is part of the ConceptNet open data project. ConceptNet provides lots of ways to compute with word meanings, one of which is word embeddings. ConceptNet Numberbatch is a snapshot of just the word embeddings. It is built using an ensemble that combines data from ConceptNet, word2vec, GloVe, and OpenSubtitles 2016, using a variation on retrofitting.',\n",
       "   'read_more': ['http://aaai.org/ocs/index.php/AAAI/AAAI17/paper/view/14972',\n",
       "    'https://github.com/commonsense/conceptnet-numberbatch',\n",
       "    'http://conceptnet.io/'],\n",
       "   'checksum': 'fd642d457adcd0ea94da0cd21b150847',\n",
       "   'file_name': 'conceptnet-numberbatch-17-06-300.gz',\n",
       "   'parts': 1},\n",
       "  'word2vec-ruscorpora-300': {'num_records': 184973,\n",
       "   'file_size': 208427381,\n",
       "   'base_dataset': 'Russian National Corpus (about 250M words)',\n",
       "   'reader_code': 'https://github.com/RaRe-Technologies/gensim-data/releases/download/word2vec-ruscorpora-300/__init__.py',\n",
       "   'license': 'https://creativecommons.org/licenses/by/4.0/deed.en',\n",
       "   'parameters': {'dimension': 300, 'window_size': 10},\n",
       "   'description': 'Word2vec Continuous Skipgram vectors trained on full Russian National Corpus (about 250M words). The model contains 185K words.',\n",
       "   'preprocessing': 'The corpus was lemmatized and tagged with Universal PoS',\n",
       "   'read_more': ['https://www.academia.edu/24306935/WebVectors_a_Toolkit_for_Building_Web_Interfaces_for_Vector_Semantic_Models',\n",
       "    'http://rusvectores.org/en/',\n",
       "    'https://github.com/RaRe-Technologies/gensim-data/issues/3'],\n",
       "   'checksum': '9bdebdc8ae6d17d20839dd9b5af10bc4',\n",
       "   'file_name': 'word2vec-ruscorpora-300.gz',\n",
       "   'parts': 1},\n",
       "  'word2vec-google-news-300': {'num_records': 3000000,\n",
       "   'file_size': 1743563840,\n",
       "   'base_dataset': 'Google News (about 100 billion words)',\n",
       "   'reader_code': 'https://github.com/RaRe-Technologies/gensim-data/releases/download/word2vec-google-news-300/__init__.py',\n",
       "   'license': 'not found',\n",
       "   'parameters': {'dimension': 300},\n",
       "   'description': \"Pre-trained vectors trained on a part of the Google News dataset (about 100 billion words). The model contains 300-dimensional vectors for 3 million words and phrases. The phrases were obtained using a simple data-driven approach described in 'Distributed Representations of Words and Phrases and their Compositionality' (https://code.google.com/archive/p/word2vec/).\",\n",
       "   'read_more': ['https://code.google.com/archive/p/word2vec/',\n",
       "    'https://arxiv.org/abs/1301.3781',\n",
       "    'https://arxiv.org/abs/1310.4546',\n",
       "    'https://www.microsoft.com/en-us/research/publication/linguistic-regularities-in-continuous-space-word-representations/?from=http%3A%2F%2Fresearch.microsoft.com%2Fpubs%2F189726%2Frvecs.pdf'],\n",
       "   'checksum': 'a5e5354d40acb95f9ec66d5977d140ef',\n",
       "   'file_name': 'word2vec-google-news-300.gz',\n",
       "   'parts': 1},\n",
       "  'glove-wiki-gigaword-50': {'num_records': 400000,\n",
       "   'file_size': 69182535,\n",
       "   'base_dataset': 'Wikipedia 2014 + Gigaword 5 (6B tokens, uncased)',\n",
       "   'reader_code': 'https://github.com/RaRe-Technologies/gensim-data/releases/download/glove-wiki-gigaword-50/__init__.py',\n",
       "   'license': 'http://opendatacommons.org/licenses/pddl/',\n",
       "   'parameters': {'dimension': 50},\n",
       "   'description': 'Pre-trained vectors based on Wikipedia 2014 + Gigaword, 5.6B tokens, 400K vocab, uncased (https://nlp.stanford.edu/projects/glove/).',\n",
       "   'preprocessing': 'Converted to w2v format with `python -m gensim.scripts.glove2word2vec -i <fname> -o glove-wiki-gigaword-50.txt`.',\n",
       "   'read_more': ['https://nlp.stanford.edu/projects/glove/',\n",
       "    'https://nlp.stanford.edu/pubs/glove.pdf'],\n",
       "   'checksum': 'c289bc5d7f2f02c6dc9f2f9b67641813',\n",
       "   'file_name': 'glove-wiki-gigaword-50.gz',\n",
       "   'parts': 1},\n",
       "  'glove-wiki-gigaword-100': {'num_records': 400000,\n",
       "   'file_size': 134300434,\n",
       "   'base_dataset': 'Wikipedia 2014 + Gigaword 5 (6B tokens, uncased)',\n",
       "   'reader_code': 'https://github.com/RaRe-Technologies/gensim-data/releases/download/glove-wiki-gigaword-100/__init__.py',\n",
       "   'license': 'http://opendatacommons.org/licenses/pddl/',\n",
       "   'parameters': {'dimension': 100},\n",
       "   'description': 'Pre-trained vectors based on Wikipedia 2014 + Gigaword 5.6B tokens, 400K vocab, uncased (https://nlp.stanford.edu/projects/glove/).',\n",
       "   'preprocessing': 'Converted to w2v format with `python -m gensim.scripts.glove2word2vec -i <fname> -o glove-wiki-gigaword-100.txt`.',\n",
       "   'read_more': ['https://nlp.stanford.edu/projects/glove/',\n",
       "    'https://nlp.stanford.edu/pubs/glove.pdf'],\n",
       "   'checksum': '40ec481866001177b8cd4cb0df92924f',\n",
       "   'file_name': 'glove-wiki-gigaword-100.gz',\n",
       "   'parts': 1},\n",
       "  'glove-wiki-gigaword-200': {'num_records': 400000,\n",
       "   'file_size': 264336934,\n",
       "   'base_dataset': 'Wikipedia 2014 + Gigaword 5 (6B tokens, uncased)',\n",
       "   'reader_code': 'https://github.com/RaRe-Technologies/gensim-data/releases/download/glove-wiki-gigaword-200/__init__.py',\n",
       "   'license': 'http://opendatacommons.org/licenses/pddl/',\n",
       "   'parameters': {'dimension': 200},\n",
       "   'description': 'Pre-trained vectors based on Wikipedia 2014 + Gigaword, 5.6B tokens, 400K vocab, uncased (https://nlp.stanford.edu/projects/glove/).',\n",
       "   'preprocessing': 'Converted to w2v format with `python -m gensim.scripts.glove2word2vec -i <fname> -o glove-wiki-gigaword-200.txt`.',\n",
       "   'read_more': ['https://nlp.stanford.edu/projects/glove/',\n",
       "    'https://nlp.stanford.edu/pubs/glove.pdf'],\n",
       "   'checksum': '59652db361b7a87ee73834a6c391dfc1',\n",
       "   'file_name': 'glove-wiki-gigaword-200.gz',\n",
       "   'parts': 1},\n",
       "  'glove-wiki-gigaword-300': {'num_records': 400000,\n",
       "   'file_size': 394362229,\n",
       "   'base_dataset': 'Wikipedia 2014 + Gigaword 5 (6B tokens, uncased)',\n",
       "   'reader_code': 'https://github.com/RaRe-Technologies/gensim-data/releases/download/glove-wiki-gigaword-300/__init__.py',\n",
       "   'license': 'http://opendatacommons.org/licenses/pddl/',\n",
       "   'parameters': {'dimension': 300},\n",
       "   'description': 'Pre-trained vectors based on Wikipedia 2014 + Gigaword, 5.6B tokens, 400K vocab, uncased (https://nlp.stanford.edu/projects/glove/).',\n",
       "   'preprocessing': 'Converted to w2v format with `python -m gensim.scripts.glove2word2vec -i <fname> -o glove-wiki-gigaword-300.txt`.',\n",
       "   'read_more': ['https://nlp.stanford.edu/projects/glove/',\n",
       "    'https://nlp.stanford.edu/pubs/glove.pdf'],\n",
       "   'checksum': '29e9329ac2241937d55b852e8284e89b',\n",
       "   'file_name': 'glove-wiki-gigaword-300.gz',\n",
       "   'parts': 1},\n",
       "  'glove-twitter-25': {'num_records': 1193514,\n",
       "   'file_size': 109885004,\n",
       "   'base_dataset': 'Twitter (2B tweets, 27B tokens, 1.2M vocab, uncased)',\n",
       "   'reader_code': 'https://github.com/RaRe-Technologies/gensim-data/releases/download/glove-twitter-25/__init__.py',\n",
       "   'license': 'http://opendatacommons.org/licenses/pddl/',\n",
       "   'parameters': {'dimension': 25},\n",
       "   'description': 'Pre-trained vectors based on 2B tweets, 27B tokens, 1.2M vocab, uncased (https://nlp.stanford.edu/projects/glove/).',\n",
       "   'preprocessing': 'Converted to w2v format with `python -m gensim.scripts.glove2word2vec -i <fname> -o glove-twitter-25.txt`.',\n",
       "   'read_more': ['https://nlp.stanford.edu/projects/glove/',\n",
       "    'https://nlp.stanford.edu/pubs/glove.pdf'],\n",
       "   'checksum': '50db0211d7e7a2dcd362c6b774762793',\n",
       "   'file_name': 'glove-twitter-25.gz',\n",
       "   'parts': 1},\n",
       "  'glove-twitter-50': {'num_records': 1193514,\n",
       "   'file_size': 209216938,\n",
       "   'base_dataset': 'Twitter (2B tweets, 27B tokens, 1.2M vocab, uncased)',\n",
       "   'reader_code': 'https://github.com/RaRe-Technologies/gensim-data/releases/download/glove-twitter-50/__init__.py',\n",
       "   'license': 'http://opendatacommons.org/licenses/pddl/',\n",
       "   'parameters': {'dimension': 50},\n",
       "   'description': 'Pre-trained vectors based on 2B tweets, 27B tokens, 1.2M vocab, uncased (https://nlp.stanford.edu/projects/glove/)',\n",
       "   'preprocessing': 'Converted to w2v format with `python -m gensim.scripts.glove2word2vec -i <fname> -o glove-twitter-50.txt`.',\n",
       "   'read_more': ['https://nlp.stanford.edu/projects/glove/',\n",
       "    'https://nlp.stanford.edu/pubs/glove.pdf'],\n",
       "   'checksum': 'c168f18641f8c8a00fe30984c4799b2b',\n",
       "   'file_name': 'glove-twitter-50.gz',\n",
       "   'parts': 1},\n",
       "  'glove-twitter-100': {'num_records': 1193514,\n",
       "   'file_size': 405932991,\n",
       "   'base_dataset': 'Twitter (2B tweets, 27B tokens, 1.2M vocab, uncased)',\n",
       "   'reader_code': 'https://github.com/RaRe-Technologies/gensim-data/releases/download/glove-twitter-100/__init__.py',\n",
       "   'license': 'http://opendatacommons.org/licenses/pddl/',\n",
       "   'parameters': {'dimension': 100},\n",
       "   'description': 'Pre-trained vectors based on  2B tweets, 27B tokens, 1.2M vocab, uncased (https://nlp.stanford.edu/projects/glove/)',\n",
       "   'preprocessing': 'Converted to w2v format with `python -m gensim.scripts.glove2word2vec -i <fname> -o glove-twitter-100.txt`.',\n",
       "   'read_more': ['https://nlp.stanford.edu/projects/glove/',\n",
       "    'https://nlp.stanford.edu/pubs/glove.pdf'],\n",
       "   'checksum': 'b04f7bed38756d64cf55b58ce7e97b15',\n",
       "   'file_name': 'glove-twitter-100.gz',\n",
       "   'parts': 1},\n",
       "  'glove-twitter-200': {'num_records': 1193514,\n",
       "   'file_size': 795373100,\n",
       "   'base_dataset': 'Twitter (2B tweets, 27B tokens, 1.2M vocab, uncased)',\n",
       "   'reader_code': 'https://github.com/RaRe-Technologies/gensim-data/releases/download/glove-twitter-200/__init__.py',\n",
       "   'license': 'http://opendatacommons.org/licenses/pddl/',\n",
       "   'parameters': {'dimension': 200},\n",
       "   'description': 'Pre-trained vectors based on 2B tweets, 27B tokens, 1.2M vocab, uncased (https://nlp.stanford.edu/projects/glove/).',\n",
       "   'preprocessing': 'Converted to w2v format with `python -m gensim.scripts.glove2word2vec -i <fname> -o glove-twitter-200.txt`.',\n",
       "   'read_more': ['https://nlp.stanford.edu/projects/glove/',\n",
       "    'https://nlp.stanford.edu/pubs/glove.pdf'],\n",
       "   'checksum': 'e52e8392d1860b95d5308a525817d8f9',\n",
       "   'file_name': 'glove-twitter-200.gz',\n",
       "   'parts': 1},\n",
       "  '__testing_word2vec-matrix-synopsis': {'description': '[THIS IS ONLY FOR TESTING] Word vecrors of the movie matrix.',\n",
       "   'parameters': {'dimensions': 50},\n",
       "   'preprocessing': 'Converted to w2v using a preprocessed corpus. Converted to w2v format with `python3.5 -m gensim.models.word2vec -train <input_filename> -iter 50 -output <output_filename>`.',\n",
       "   'read_more': [],\n",
       "   'checksum': '534dcb8b56a360977a269b7bfc62d124',\n",
       "   'file_name': '__testing_word2vec-matrix-synopsis.gz',\n",
       "   'parts': 1}}}"
      ]
     },
     "execution_count": 404,
     "metadata": {},
     "output_type": "execute_result"
    }
   ],
   "source": [
    "import gensim.downloader as api\n",
    "api.info()"
   ]
  },
  {
   "cell_type": "code",
   "execution_count": 405,
   "id": "1255e0c7-ce11-4cab-965b-9977e11d7e89",
   "metadata": {},
   "outputs": [
    {
     "name": "stdout",
     "output_type": "stream",
     "text": [
      "[==================================================] 100.0% 1662.8/1662.8MB downloaded\n"
     ]
    }
   ],
   "source": [
    "word_vectors = api.load('word2vec-google-news-300')"
   ]
  },
  {
   "cell_type": "code",
   "execution_count": 580,
   "id": "b947e352-8fae-4fad-9006-eb47492d1c6d",
   "metadata": {
    "collapsed": true,
    "jupyter": {
     "outputs_hidden": true
    },
    "tags": []
   },
   "outputs": [
    {
     "data": {
      "text/plain": [
       "{'</s>': 0,\n",
       " 'in': 1,\n",
       " 'for': 2,\n",
       " 'that': 3,\n",
       " 'is': 4,\n",
       " 'on': 5,\n",
       " '##': 6,\n",
       " 'The': 7,\n",
       " 'with': 8,\n",
       " 'said': 9,\n",
       " 'was': 10,\n",
       " 'the': 11,\n",
       " 'at': 12,\n",
       " 'not': 13,\n",
       " 'as': 14,\n",
       " 'it': 15,\n",
       " 'be': 16,\n",
       " 'from': 17,\n",
       " 'by': 18,\n",
       " 'are': 19,\n",
       " 'I': 20,\n",
       " 'have': 21,\n",
       " 'he': 22,\n",
       " 'will': 23,\n",
       " 'has': 24,\n",
       " '####': 25,\n",
       " 'his': 26,\n",
       " 'an': 27,\n",
       " 'this': 28,\n",
       " 'or': 29,\n",
       " 'their': 30,\n",
       " 'who': 31,\n",
       " 'they': 32,\n",
       " 'but': 33,\n",
       " '$': 34,\n",
       " 'had': 35,\n",
       " 'year': 36,\n",
       " 'were': 37,\n",
       " 'we': 38,\n",
       " 'more': 39,\n",
       " '###': 40,\n",
       " 'up': 41,\n",
       " 'been': 42,\n",
       " 'you': 43,\n",
       " 'its': 44,\n",
       " 'one': 45,\n",
       " 'about': 46,\n",
       " 'would': 47,\n",
       " 'which': 48,\n",
       " 'out': 49,\n",
       " 'can': 50,\n",
       " 'It': 51,\n",
       " 'all': 52,\n",
       " 'also': 53,\n",
       " 'two': 54,\n",
       " 'after': 55,\n",
       " 'first': 56,\n",
       " 'He': 57,\n",
       " 'do': 58,\n",
       " 'time': 59,\n",
       " 'than': 60,\n",
       " 'when': 61,\n",
       " 'We': 62,\n",
       " 'over': 63,\n",
       " 'last': 64,\n",
       " 'new': 65,\n",
       " 'other': 66,\n",
       " 'her': 67,\n",
       " 'people': 68,\n",
       " 'into': 69,\n",
       " 'In': 70,\n",
       " 'our': 71,\n",
       " 'there': 72,\n",
       " 'A': 73,\n",
       " 'she': 74,\n",
       " 'could': 75,\n",
       " 'just': 76,\n",
       " 'years': 77,\n",
       " 'some': 78,\n",
       " 'U.S.': 79,\n",
       " 'three': 80,\n",
       " 'million': 81,\n",
       " 'them': 82,\n",
       " 'what': 83,\n",
       " 'But': 84,\n",
       " 'so': 85,\n",
       " 'no': 86,\n",
       " 'like': 87,\n",
       " 'if': 88,\n",
       " 'only': 89,\n",
       " 'percent': 90,\n",
       " 'get': 91,\n",
       " 'did': 92,\n",
       " 'him': 93,\n",
       " 'game': 94,\n",
       " 'back': 95,\n",
       " 'because': 96,\n",
       " 'now': 97,\n",
       " '#.#': 98,\n",
       " 'before': 99,\n",
       " 'company': 100,\n",
       " 'any': 101,\n",
       " 'team': 102,\n",
       " 'against': 103,\n",
       " 'off': 104,\n",
       " 'This': 105,\n",
       " 'most': 106,\n",
       " 'made': 107,\n",
       " 'through': 108,\n",
       " 'make': 109,\n",
       " 'second': 110,\n",
       " 'state': 111,\n",
       " 'well': 112,\n",
       " 'day': 113,\n",
       " 'season': 114,\n",
       " 'says': 115,\n",
       " 'week': 116,\n",
       " 'where': 117,\n",
       " 'while': 118,\n",
       " 'down': 119,\n",
       " 'being': 120,\n",
       " 'government': 121,\n",
       " 'your': 122,\n",
       " '#-#': 123,\n",
       " 'home': 124,\n",
       " 'going': 125,\n",
       " 'my': 126,\n",
       " 'good': 127,\n",
       " 'They': 128,\n",
       " \"'re\": 129,\n",
       " 'should': 130,\n",
       " 'many': 131,\n",
       " 'way': 132,\n",
       " 'those': 133,\n",
       " 'four': 134,\n",
       " 'during': 135,\n",
       " 'such': 136,\n",
       " 'may': 137,\n",
       " 'very': 138,\n",
       " 'how': 139,\n",
       " 'since': 140,\n",
       " 'work': 141,\n",
       " 'take': 142,\n",
       " 'including': 143,\n",
       " 'high': 144,\n",
       " 'then': 145,\n",
       " '%': 146,\n",
       " 'next': 147,\n",
       " '#,###': 148,\n",
       " 'By': 149,\n",
       " 'much': 150,\n",
       " 'still': 151,\n",
       " 'go': 152,\n",
       " 'think': 153,\n",
       " 'old': 154,\n",
       " 'even': 155,\n",
       " '#.##': 156,\n",
       " 'world': 157,\n",
       " 'see': 158,\n",
       " 'say': 159,\n",
       " 'business': 160,\n",
       " 'five': 161,\n",
       " 'told': 162,\n",
       " 'under': 163,\n",
       " 'us': 164,\n",
       " '1': 165,\n",
       " 'these': 166,\n",
       " 'If': 167,\n",
       " 'right': 168,\n",
       " 'And': 169,\n",
       " 'me': 170,\n",
       " 'between': 171,\n",
       " 'play': 172,\n",
       " 'help': 173,\n",
       " '##,###': 174,\n",
       " 'market': 175,\n",
       " 'That': 176,\n",
       " 'know': 177,\n",
       " 'end': 178,\n",
       " 'AP': 179,\n",
       " 'long': 180,\n",
       " 'information': 181,\n",
       " 'points': 182,\n",
       " 'does': 183,\n",
       " 'both': 184,\n",
       " 'There': 185,\n",
       " 'part': 186,\n",
       " 'around': 187,\n",
       " 'police': 188,\n",
       " 'want': 189,\n",
       " \"'ve\": 190,\n",
       " 'based': 191,\n",
       " 'For': 192,\n",
       " 'got': 193,\n",
       " 'third': 194,\n",
       " 'school': 195,\n",
       " 'left': 196,\n",
       " 'another': 197,\n",
       " 'country': 198,\n",
       " 'need': 199,\n",
       " '2': 200,\n",
       " 'best': 201,\n",
       " 'win': 202,\n",
       " 'quarter': 203,\n",
       " 'use': 204,\n",
       " 'today': 205,\n",
       " '##.#': 206,\n",
       " 'same': 207,\n",
       " 'public': 208,\n",
       " 'run': 209,\n",
       " 'Friday': 210,\n",
       " 'set': 211,\n",
       " 'month': 212,\n",
       " 'top': 213,\n",
       " 'billion': 214,\n",
       " 'Tuesday': 215,\n",
       " 'come': 216,\n",
       " 'Monday': 217,\n",
       " 'She': 218,\n",
       " 'city': 219,\n",
       " 'place': 220,\n",
       " 'night': 221,\n",
       " 'six': 222,\n",
       " 'each': 223,\n",
       " 'Thursday': 224,\n",
       " '###,###': 225,\n",
       " 'Wednesday': 226,\n",
       " 'here': 227,\n",
       " 'You': 228,\n",
       " 'group': 229,\n",
       " 'really': 230,\n",
       " 'found': 231,\n",
       " 'As': 232,\n",
       " 'used': 233,\n",
       " '3': 234,\n",
       " 'lot': 235,\n",
       " \"'m\": 236,\n",
       " 'money': 237,\n",
       " 'put': 238,\n",
       " 'games': 239,\n",
       " 'support': 240,\n",
       " 'program': 241,\n",
       " 'half': 242,\n",
       " 'report': 243,\n",
       " 'family': 244,\n",
       " 'months': 245,\n",
       " 'number': 246,\n",
       " 'officials': 247,\n",
       " 'am': 248,\n",
       " 'former': 249,\n",
       " 'own': 250,\n",
       " 'man': 251,\n",
       " 'Saturday': 252,\n",
       " 'too': 253,\n",
       " 'better': 254,\n",
       " 'days': 255,\n",
       " 'came': 256,\n",
       " 'lead': 257,\n",
       " 'life': 258,\n",
       " 'American': 259,\n",
       " '##-##': 260,\n",
       " 'show': 261,\n",
       " 'past': 262,\n",
       " 'took': 263,\n",
       " 'added': 264,\n",
       " 'expected': 265,\n",
       " 'called': 266,\n",
       " 'great': 267,\n",
       " 'State': 268,\n",
       " 'services': 269,\n",
       " 'children': 270,\n",
       " 'hit': 271,\n",
       " 'area': 272,\n",
       " 'system': 273,\n",
       " 'every': 274,\n",
       " 'pm': 275,\n",
       " 'big': 276,\n",
       " 'service': 277,\n",
       " 'few': 278,\n",
       " 'per': 279,\n",
       " 'members': 280,\n",
       " 'Sunday': 281,\n",
       " 'early': 282,\n",
       " 'point': 283,\n",
       " 'start': 284,\n",
       " 'companies': 285,\n",
       " 'little': 286,\n",
       " '&': 287,\n",
       " 'case': 288,\n",
       " 'ago': 289,\n",
       " 'local': 290,\n",
       " 'according': 291,\n",
       " 'never': 292,\n",
       " '5': 293,\n",
       " 'without': 294,\n",
       " 'sales': 295,\n",
       " 'until': 296,\n",
       " 'went': 297,\n",
       " 'players': 298,\n",
       " '##th': 299,\n",
       " 'New_York': 300,\n",
       " 'won': 301,\n",
       " 'financial': 302,\n",
       " 'news': 303,\n",
       " '4': 304,\n",
       " 'When': 305,\n",
       " 'share': 306,\n",
       " 'several': 307,\n",
       " 'free': 308,\n",
       " 'away': 309,\n",
       " '##.##': 310,\n",
       " 'already': 311,\n",
       " 'On': 312,\n",
       " 'industry': 313,\n",
       " \"'ll\": 314,\n",
       " 'call': 315,\n",
       " 'With': 316,\n",
       " 'students': 317,\n",
       " 'line': 318,\n",
       " 'available': 319,\n",
       " 'County': 320,\n",
       " 'making': 321,\n",
       " 'held': 322,\n",
       " 'final': 323,\n",
       " '#:##': 324,\n",
       " 'power': 325,\n",
       " 'plan': 326,\n",
       " 'might': 327,\n",
       " 'least': 328,\n",
       " 'look': 329,\n",
       " 'forward': 330,\n",
       " 'give': 331,\n",
       " 'At': 332,\n",
       " 'again': 333,\n",
       " 'later': 334,\n",
       " 'full': 335,\n",
       " 'must': 336,\n",
       " 'things': 337,\n",
       " 'major': 338,\n",
       " 'community': 339,\n",
       " 'announced': 340,\n",
       " 'open': 341,\n",
       " 'record': 342,\n",
       " 'reported': 343,\n",
       " 'court': 344,\n",
       " 'working': 345,\n",
       " 'able': 346,\n",
       " 'something': 347,\n",
       " 'president': 348,\n",
       " 'meeting': 349,\n",
       " 'keep': 350,\n",
       " 'March': 351,\n",
       " 'future': 352,\n",
       " 'far': 353,\n",
       " 'deal': 354,\n",
       " 'City': 355,\n",
       " 'May': 356,\n",
       " 'development': 357,\n",
       " 'University': 358,\n",
       " 'find': 359,\n",
       " 'times': 360,\n",
       " 'After': 361,\n",
       " 'office': 362,\n",
       " 'led': 363,\n",
       " 'among': 364,\n",
       " 'June': 365,\n",
       " 'increase': 366,\n",
       " 'China': 367,\n",
       " 'John': 368,\n",
       " 'whether': 369,\n",
       " 'cost': 370,\n",
       " 'security': 371,\n",
       " 'job': 372,\n",
       " 'less': 373,\n",
       " 'head': 374,\n",
       " 'seven': 375,\n",
       " 'growth': 376,\n",
       " 'lost': 377,\n",
       " 'pay': 378,\n",
       " 'looking': 379,\n",
       " 'provide': 380,\n",
       " '6': 381,\n",
       " 'To': 382,\n",
       " 'plans': 383,\n",
       " 'products': 384,\n",
       " 'car': 385,\n",
       " 'recent': 386,\n",
       " 'hard': 387,\n",
       " 'always': 388,\n",
       " 'include': 389,\n",
       " 'women': 390,\n",
       " 'across': 391,\n",
       " 'tax': 392,\n",
       " 'water': 393,\n",
       " 'April': 394,\n",
       " 'continue': 395,\n",
       " 'important': 396,\n",
       " 'different': 397,\n",
       " 'close': 398,\n",
       " '7': 399,\n",
       " 'One': 400,\n",
       " 'late': 401,\n",
       " 'decision': 402,\n",
       " 'current': 403,\n",
       " 'law': 404,\n",
       " 'within': 405,\n",
       " 'along': 406,\n",
       " 'played': 407,\n",
       " 'move': 408,\n",
       " 'United_States': 409,\n",
       " 'enough': 410,\n",
       " 'become': 411,\n",
       " 'side': 412,\n",
       " 'national': 413,\n",
       " 'Inc.': 414,\n",
       " 'results': 415,\n",
       " 'level': 416,\n",
       " 'loss': 417,\n",
       " 'economic': 418,\n",
       " 'coach': 419,\n",
       " 'near': 420,\n",
       " 'getting': 421,\n",
       " 'price': 422,\n",
       " 'Department': 423,\n",
       " 'event': 424,\n",
       " 'fourth': 425,\n",
       " 'change': 426,\n",
       " 'All': 427,\n",
       " 'small': 428,\n",
       " 'board': 429,\n",
       " 'National': 430,\n",
       " 'So': 431,\n",
       " 'goal': 432,\n",
       " 'taken': 433,\n",
       " 'field': 434,\n",
       " 'prices': 435,\n",
       " 'weeks': 436,\n",
       " 'men': 437,\n",
       " 'asked': 438,\n",
       " 'eight': 439,\n",
       " 'data': 440,\n",
       " 'shot': 441,\n",
       " 'New': 442,\n",
       " 'started': 443,\n",
       " 'July': 444,\n",
       " 'director': 445,\n",
       " 'President': 446,\n",
       " 'party': 447,\n",
       " 'federal': 448,\n",
       " 'done': 449,\n",
       " 'political': 450,\n",
       " 'minutes': 451,\n",
       " 'taking': 452,\n",
       " 'Company': 453,\n",
       " 'technology': 454,\n",
       " 'project': 455,\n",
       " 'center': 456,\n",
       " 'leading': 457,\n",
       " 'issue': 458,\n",
       " 'though': 459,\n",
       " 'having': 460,\n",
       " 'period': 461,\n",
       " 'likely': 462,\n",
       " 'scored': 463,\n",
       " '8': 464,\n",
       " 'strong': 465,\n",
       " 'series': 466,\n",
       " 'military': 467,\n",
       " 'seen': 468,\n",
       " 'trying': 469,\n",
       " 'What': 470,\n",
       " 'coming': 471,\n",
       " 'process': 472,\n",
       " 'building': 473,\n",
       " 'behind': 474,\n",
       " 'performance': 475,\n",
       " 'management': 476,\n",
       " 'Iraq': 477,\n",
       " 'saying': 478,\n",
       " 'earlier': 479,\n",
       " 'believe': 480,\n",
       " 'oil': 481,\n",
       " 'given': 482,\n",
       " 'Police': 483,\n",
       " 'customers': 484,\n",
       " 'due': 485,\n",
       " 'following': 486,\n",
       " 'term': 487,\n",
       " 'others': 488,\n",
       " 'statement': 489,\n",
       " 'international': 490,\n",
       " 'economy': 491,\n",
       " 'health': 492,\n",
       " 'thing': 493,\n",
       " 'Obama': 494,\n",
       " 'return': 495,\n",
       " 'killed': 496,\n",
       " 'Washington': 497,\n",
       " 'further': 498,\n",
       " 'However': 499,\n",
       " 'doing': 500,\n",
       " 'face': 501,\n",
       " 'low': 502,\n",
       " 'higher': 503,\n",
       " 'site': 504,\n",
       " 'once': 505,\n",
       " 'yet': 506,\n",
       " 'hours': 507,\n",
       " 'America': 508,\n",
       " 'control': 509,\n",
       " 'received': 510,\n",
       " 'rate': 511,\n",
       " 'career': 512,\n",
       " 'Bush': 513,\n",
       " 'teams': 514,\n",
       " 'known': 515,\n",
       " 'offer': 516,\n",
       " 'race': 517,\n",
       " 'ever': 518,\n",
       " 'experience': 519,\n",
       " 'playing': 520,\n",
       " 'name': 521,\n",
       " 'possible': 522,\n",
       " 'countries': 523,\n",
       " 'Mr.': 524,\n",
       " 'average': 525,\n",
       " 'together': 526,\n",
       " 'using': 527,\n",
       " '9': 528,\n",
       " 'cut': 529,\n",
       " 'While': 530,\n",
       " 'total': 531,\n",
       " 'round': 532,\n",
       " 'young': 533,\n",
       " 'nearly': 534,\n",
       " 'shares': 535,\n",
       " 'member': 536,\n",
       " 'campaign': 537,\n",
       " 'media': 538,\n",
       " 'needs': 539,\n",
       " 'why': 540,\n",
       " 'house': 541,\n",
       " 'issues': 542,\n",
       " 'costs': 543,\n",
       " 'fire': 544,\n",
       " '##-#': 545,\n",
       " 'victory': 546,\n",
       " 'player': 547,\n",
       " 'began': 548,\n",
       " 'sure': 549,\n",
       " 'story': 550,\n",
       " 'per_cent': 551,\n",
       " 'North': 552,\n",
       " 'His': 553,\n",
       " 'staff': 554,\n",
       " 'order': 555,\n",
       " 'war': 556,\n",
       " 'large': 557,\n",
       " 'interest': 558,\n",
       " 'stock': 559,\n",
       " 'food': 560,\n",
       " 'research': 561,\n",
       " 'key': 562,\n",
       " 'India': 563,\n",
       " 'South': 564,\n",
       " 'morning': 565,\n",
       " 'conference': 566,\n",
       " 'senior': 567,\n",
       " 'global': 568,\n",
       " 'Center': 569,\n",
       " 'death': 570,\n",
       " 'person': 571,\n",
       " 'thought': 572,\n",
       " 'gave': 573,\n",
       " 'feel': 574,\n",
       " 'energy': 575,\n",
       " 'history': 576,\n",
       " 'recently': 577,\n",
       " 'largest': 578,\n",
       " 'No.': 579,\n",
       " 'general': 580,\n",
       " 'official': 581,\n",
       " 'released': 582,\n",
       " 'wanted': 583,\n",
       " 'meet': 584,\n",
       " 'short': 585,\n",
       " 'outside': 586,\n",
       " 'running': 587,\n",
       " 'live': 588,\n",
       " 'ball': 589,\n",
       " 'online': 590,\n",
       " 'real': 591,\n",
       " 'position': 592,\n",
       " 'fact': 593,\n",
       " 'fell': 594,\n",
       " 'nine': 595,\n",
       " 'December': 596,\n",
       " 'front': 597,\n",
       " 'action': 598,\n",
       " 'defense': 599,\n",
       " 'problem': 600,\n",
       " 'problems': 601,\n",
       " 'Mr': 602,\n",
       " 'nation': 603,\n",
       " 'needed': 604,\n",
       " 'special': 605,\n",
       " 'January': 606,\n",
       " 'almost': 607,\n",
       " 'chance': 608,\n",
       " \"'d\": 609,\n",
       " 'result': 610,\n",
       " 'West': 611,\n",
       " 'September': 612,\n",
       " 'reports': 613,\n",
       " 'leader': 614,\n",
       " 'investment': 615,\n",
       " 'yesterday': 616,\n",
       " 'Some': 617,\n",
       " 'leaders': 618,\n",
       " 'ahead': 619,\n",
       " 'production': 620,\n",
       " 'comes': 621,\n",
       " 'No': 622,\n",
       " 'runs': 623,\n",
       " 'match': 624,\n",
       " 'role': 625,\n",
       " 'kind': 626,\n",
       " 'try': 627,\n",
       " 'ended': 628,\n",
       " 'risk': 629,\n",
       " 'areas': 630,\n",
       " 'election': 631,\n",
       " 'workers': 632,\n",
       " 'visit': 633,\n",
       " 'bring': 634,\n",
       " 'road': 635,\n",
       " 'music': 636,\n",
       " 'study': 637,\n",
       " 'makes': 638,\n",
       " 'often': 639,\n",
       " 'release': 640,\n",
       " 'woman': 641,\n",
       " 'vote': 642,\n",
       " 'care': 643,\n",
       " 'town': 644,\n",
       " 'clear': 645,\n",
       " 'comment': 646,\n",
       " 'budget': 647,\n",
       " 'potential': 648,\n",
       " 'single': 649,\n",
       " 'markets': 650,\n",
       " 'policy': 651,\n",
       " 'capital': 652,\n",
       " 'saw': 653,\n",
       " 'access': 654,\n",
       " 'weekend': 655,\n",
       " 'operations': 656,\n",
       " 'whose': 657,\n",
       " 'net': 658,\n",
       " 'House': 659,\n",
       " 'hand': 660,\n",
       " 'increased': 661,\n",
       " 'charges': 662,\n",
       " 'winning': 663,\n",
       " 'trade': 664,\n",
       " 'These': 665,\n",
       " 'income': 666,\n",
       " 'value': 667,\n",
       " 'involved': 668,\n",
       " 'Bank': 669,\n",
       " 'November': 670,\n",
       " 'bill': 671,\n",
       " 'compared': 672,\n",
       " 'anything': 673,\n",
       " 'manager': 674,\n",
       " 'Texas': 675,\n",
       " 'property': 676,\n",
       " 'stop': 677,\n",
       " 'annual': 678,\n",
       " 'private': 679,\n",
       " 'contract': 680,\n",
       " 'died': 681,\n",
       " 'Now': 682,\n",
       " 'hope': 683,\n",
       " 'product': 684,\n",
       " 'fans': 685,\n",
       " 'lower': 686,\n",
       " 'demand': 687,\n",
       " 'News': 688,\n",
       " 'David': 689,\n",
       " 'club': 690,\n",
       " 'comments': 691,\n",
       " 'film': 692,\n",
       " 'yards': 693,\n",
       " 'quality': 694,\n",
       " 'currently': 695,\n",
       " 'events': 696,\n",
       " 'addition': 697,\n",
       " 'couple': 698,\n",
       " 'schools': 699,\n",
       " 'attack': 700,\n",
       " 'region': 701,\n",
       " 'latest': 702,\n",
       " 'opportunity': 703,\n",
       " 'worked': 704,\n",
       " 'course': 705,\n",
       " 'bad': 706,\n",
       " 'fall': 707,\n",
       " 'Group': 708,\n",
       " 'October': 709,\n",
       " 'jobs': 710,\n",
       " 'list': 711,\n",
       " 'let': 712,\n",
       " 'however': 713,\n",
       " 'chief': 714,\n",
       " 'summer': 715,\n",
       " 'programs': 716,\n",
       " 'According': 717,\n",
       " 'revenue': 718,\n",
       " 'Our': 719,\n",
       " 'rose': 720,\n",
       " 'previous': 721,\n",
       " 'TV': 722,\n",
       " 'football': 723,\n",
       " 'biggest': 724,\n",
       " 'employees': 725,\n",
       " 'changes': 726,\n",
       " 'residents': 727,\n",
       " 'means': 728,\n",
       " 'agreement': 729,\n",
       " 'includes': 730,\n",
       " 'post': 731,\n",
       " 'Canada': 732,\n",
       " 'probably': 733,\n",
       " 'related': 734,\n",
       " 'training': 735,\n",
       " 'allowed': 736,\n",
       " 'class': 737,\n",
       " 'bit': 738,\n",
       " 'video': 739,\n",
       " 'Michael': 740,\n",
       " 'An': 741,\n",
       " 'sent': 742,\n",
       " 'education': 743,\n",
       " 'states': 744,\n",
       " 'straight': 745,\n",
       " 'love': 746,\n",
       " 'beat': 747,\n",
       " 'hold': 748,\n",
       " 'turn': 749,\n",
       " 'finished': 750,\n",
       " 'network': 751,\n",
       " 'Smith': 752,\n",
       " 'buy': 753,\n",
       " 'foreign': 754,\n",
       " 'especially': 755,\n",
       " 'groups': 756,\n",
       " 'wants': 757,\n",
       " 'title': 758,\n",
       " 'included': 759,\n",
       " 'turned': 760,\n",
       " 'bank': 761,\n",
       " 'Florida': 762,\n",
       " 'efforts': 763,\n",
       " 'personal': 764,\n",
       " 'businesses': 765,\n",
       " 'August': 766,\n",
       " 'California': 767,\n",
       " 'situation': 768,\n",
       " 'district': 769,\n",
       " 'allow': 770,\n",
       " 'helped': 771,\n",
       " 'body': 772,\n",
       " 'nothing': 773,\n",
       " 'soon': 774,\n",
       " 'safety': 775,\n",
       " 'officer': 776,\n",
       " 'cents': 777,\n",
       " 'Europe': 778,\n",
       " 'St.': 779,\n",
       " 'additional': 780,\n",
       " 'spokesman': 781,\n",
       " 'February': 782,\n",
       " 'wife': 783,\n",
       " 'showed': 784,\n",
       " 'leave': 785,\n",
       " 'investors': 786,\n",
       " 'parents': 787,\n",
       " 'medical': 788,\n",
       " 'spending': 789,\n",
       " 'non': 790,\n",
       " 'London': 791,\n",
       " 'Council': 792,\n",
       " 'matter': 793,\n",
       " 'spent': 794,\n",
       " 'child': 795,\n",
       " 'World': 796,\n",
       " 'effort': 797,\n",
       " 'opening': 798,\n",
       " 'either': 799,\n",
       " 'range': 800,\n",
       " 'question': 801,\n",
       " 'European': 802,\n",
       " 'goals': 803,\n",
       " 'administration': 804,\n",
       " 'friends': 805,\n",
       " 'himself': 806,\n",
       " 'shows': 807,\n",
       " 'difficult': 808,\n",
       " 'kids': 809,\n",
       " 'paid': 810,\n",
       " 'create': 811,\n",
       " 'cash': 812,\n",
       " 'age': 813,\n",
       " 'league': 814,\n",
       " 'form': 815,\n",
       " 'impact': 816,\n",
       " 'drive': 817,\n",
       " 'someone': 818,\n",
       " 'became': 819,\n",
       " 'stay': 820,\n",
       " 'fight': 821,\n",
       " 'significant': 822,\n",
       " 'firm': 823,\n",
       " 'Senate': 824,\n",
       " 'hospital': 825,\n",
       " 'charged': 826,\n",
       " 'operating': 827,\n",
       " 'main': 828,\n",
       " 'book': 829,\n",
       " 'success': 830,\n",
       " 'son': 831,\n",
       " 'trading': 832,\n",
       " '###-####': 833,\n",
       " 'focus': 834,\n",
       " 'room': 835,\n",
       " 'continued': 836,\n",
       " 'Congress': 837,\n",
       " 'everything': 838,\n",
       " 'Park': 839,\n",
       " 'agency': 840,\n",
       " 'brought': 841,\n",
       " 'talk': 842,\n",
       " 'break': 843,\n",
       " 'air': 844,\n",
       " 'software': 845,\n",
       " 'decided': 846,\n",
       " 'Do': 847,\n",
       " 'ready': 848,\n",
       " 'arrested': 849,\n",
       " 'track': 850,\n",
       " 'provides': 851,\n",
       " 'mother': 852,\n",
       " 'base': 853,\n",
       " 'trial': 854,\n",
       " 'phone': 855,\n",
       " 'My': 856,\n",
       " 'build': 857,\n",
       " 'conditions': 858,\n",
       " 'rest': 859,\n",
       " 'Johnson': 860,\n",
       " 'terms': 861,\n",
       " 'expect': 862,\n",
       " 'England': 863,\n",
       " 'Israel': 864,\n",
       " 'despite': 865,\n",
       " 'closed': 866,\n",
       " 'starting': 867,\n",
       " 'provided': 868,\n",
       " 'pressure': 869,\n",
       " 'lives': 870,\n",
       " 'step': 871,\n",
       " 'remain': 872,\n",
       " 'similar': 873,\n",
       " 'charge': 874,\n",
       " 'date': 875,\n",
       " 'whole': 876,\n",
       " 'land': 877,\n",
       " 'growing': 878,\n",
       " 'James': 879,\n",
       " 'Internet': 880,\n",
       " 'projects': 881,\n",
       " 'British': 882,\n",
       " 'cases': 883,\n",
       " 'ground': 884,\n",
       " 'legal': 885,\n",
       " 'International': 886,\n",
       " 'agreed': 887,\n",
       " 'tell': 888,\n",
       " 'test': 889,\n",
       " 'everyone': 890,\n",
       " 'pretty': 891,\n",
       " 'authorities': 892,\n",
       " 'Two': 893,\n",
       " 'above': 894,\n",
       " 'moved': 895,\n",
       " 'profit': 896,\n",
       " 'throughout': 897,\n",
       " 'inside': 898,\n",
       " 'ability': 899,\n",
       " 'overall': 900,\n",
       " 'pass': 901,\n",
       " 'officers': 902,\n",
       " 'rather': 903,\n",
       " 'Australia': 904,\n",
       " 'actually': 905,\n",
       " 'county': 906,\n",
       " 'amount': 907,\n",
       " 'scheduled': 908,\n",
       " 'themselves': 909,\n",
       " 'organization': 910,\n",
       " 'giving': 911,\n",
       " 'credit': 912,\n",
       " 'father': 913,\n",
       " 'drug': 914,\n",
       " 'investigation': 915,\n",
       " 'families': 916,\n",
       " 'Republican': 917,\n",
       " 'funds': 918,\n",
       " 'patients': 919,\n",
       " 'takes': 920,\n",
       " 'systems': 921,\n",
       " 'Japan': 922,\n",
       " 'complete': 923,\n",
       " 'sold': 924,\n",
       " 'practice': 925,\n",
       " 'calls': 926,\n",
       " '•': 927,\n",
       " 'UK': 928,\n",
       " 'force': 929,\n",
       " 'student': 930,\n",
       " 'idea': 931,\n",
       " 'reached': 932,\n",
       " 'reason': 933,\n",
       " 'levels': 934,\n",
       " 'space': 935,\n",
       " 'competition': 936,\n",
       " 'forces': 937,\n",
       " 'sector': 938,\n",
       " 'Last': 939,\n",
       " 'tried': 940,\n",
       " 'common': 941,\n",
       " 'homes': 942,\n",
       " 'stage': 943,\n",
       " 'department': 944,\n",
       " 'named': 945,\n",
       " 'earnings': 946,\n",
       " 'offers': 947,\n",
       " 'star': 948,\n",
       " 'certain': 949,\n",
       " 'double': 950,\n",
       " 'longer': 951,\n",
       " 'followed': 952,\n",
       " 'cause': 953,\n",
       " 'Association': 954,\n",
       " 'signed': 955,\n",
       " 'committee': 956,\n",
       " 'hour': 957,\n",
       " 'college': 958,\n",
       " 'Pakistan': 959,\n",
       " 'users': 960,\n",
       " 'Iran': 961,\n",
       " 'sign': 962,\n",
       " 'living': 963,\n",
       " 'failed': 964,\n",
       " 'reach': 965,\n",
       " 'quickly': 966,\n",
       " 'receive': 967,\n",
       " 'debt': 968,\n",
       " 'sale': 969,\n",
       " 'Board': 970,\n",
       " 'Americans': 971,\n",
       " 'Road': 972,\n",
       " 'Brown': 973,\n",
       " 'insurance': 974,\n",
       " '##:##': 975,\n",
       " 'anyone': 976,\n",
       " 'tournament': 977,\n",
       " 'More': 978,\n",
       " 'gas': 979,\n",
       " 'talks': 980,\n",
       " 'serious': 981,\n",
       " 'required': 982,\n",
       " 'sell': 983,\n",
       " 'construction': 984,\n",
       " 'evidence': 985,\n",
       " 'remains': 986,\n",
       " 'black': 987,\n",
       " 'below': 988,\n",
       " 'improve': 989,\n",
       " 'crisis': 990,\n",
       " 'address': 991,\n",
       " 'questions': 992,\n",
       " 'easy': 993,\n",
       " 'begin': 994,\n",
       " 'view': 995,\n",
       " 'School': 996,\n",
       " 'heard': 997,\n",
       " 'executive': 998,\n",
       " 'raised': 999,\n",
       " ...}"
      ]
     },
     "execution_count": 580,
     "metadata": {},
     "output_type": "execute_result"
    }
   ],
   "source": [
    "word_vectors.key_to_index"
   ]
  },
  {
   "cell_type": "code",
   "execution_count": 412,
   "id": "9abdbdc3-8cdb-47b6-8e00-7308ce9b4676",
   "metadata": {},
   "outputs": [
    {
     "data": {
      "text/plain": [
       "(300,)"
      ]
     },
     "execution_count": 412,
     "metadata": {},
     "output_type": "execute_result"
    }
   ],
   "source": [
    "word_vectors['queen'].shape"
   ]
  },
  {
   "cell_type": "code",
   "execution_count": 426,
   "id": "863af15e-78df-4250-9b67-ab51fbfeaaf8",
   "metadata": {
    "collapsed": true,
    "jupyter": {
     "outputs_hidden": true
    },
    "tags": []
   },
   "outputs": [
    {
     "data": {
      "text/plain": [
       "['NEW',\n",
       " 'YORK',\n",
       " '--',\n",
       " 'yield',\n",
       " 'on',\n",
       " 'most',\n",
       " 'certificate',\n",
       " 'of',\n",
       " 'deposit',\n",
       " 'offer',\n",
       " 'by',\n",
       " 'major',\n",
       " 'bank',\n",
       " 'drop',\n",
       " 'more',\n",
       " 'than',\n",
       " 'a',\n",
       " 'tenth',\n",
       " 'of',\n",
       " 'a',\n",
       " 'percentage',\n",
       " 'point',\n",
       " 'in',\n",
       " 'the',\n",
       " 'late',\n",
       " 'week',\n",
       " ',',\n",
       " 'reflect',\n",
       " 'the',\n",
       " 'overall',\n",
       " 'decline',\n",
       " 'in',\n",
       " 'short',\n",
       " '-',\n",
       " 'term',\n",
       " 'interest',\n",
       " 'rate',\n",
       " '.',\n",
       " ' ',\n",
       " 'on',\n",
       " 'small',\n",
       " '-',\n",
       " 'denomination',\n",
       " ',',\n",
       " 'or',\n",
       " '\"',\n",
       " 'consumer',\n",
       " ',',\n",
       " '\"',\n",
       " 'cd',\n",
       " 'sell',\n",
       " 'directly',\n",
       " 'by',\n",
       " 'bank',\n",
       " ',',\n",
       " 'the',\n",
       " 'average',\n",
       " 'yield',\n",
       " 'on',\n",
       " 'six',\n",
       " '-',\n",
       " 'month',\n",
       " 'deposit',\n",
       " 'fall',\n",
       " 'to',\n",
       " '5.49',\n",
       " '%',\n",
       " 'from',\n",
       " '5.62',\n",
       " '%',\n",
       " 'in',\n",
       " 'the',\n",
       " 'week',\n",
       " 'end',\n",
       " 'yesterday',\n",
       " ',',\n",
       " 'accord',\n",
       " 'to',\n",
       " 'an',\n",
       " '18',\n",
       " '-',\n",
       " 'bank',\n",
       " 'survey',\n",
       " 'by',\n",
       " 'Banxquote',\n",
       " 'Money',\n",
       " 'Markets',\n",
       " ',',\n",
       " 'a',\n",
       " 'Wilmington',\n",
       " ',',\n",
       " 'Del.',\n",
       " ',',\n",
       " 'information',\n",
       " 'service',\n",
       " '.',\n",
       " ' ',\n",
       " 'on',\n",
       " 'three',\n",
       " '-',\n",
       " 'month',\n",
       " '\"',\n",
       " 'consumer',\n",
       " '\"',\n",
       " 'deposit',\n",
       " ',',\n",
       " 'the',\n",
       " 'average',\n",
       " 'yield',\n",
       " 'sink',\n",
       " 'to',\n",
       " '5.29',\n",
       " '%',\n",
       " 'from',\n",
       " '5.42',\n",
       " '%',\n",
       " 'the',\n",
       " 'week',\n",
       " 'before',\n",
       " ',',\n",
       " 'accord',\n",
       " 'to',\n",
       " 'Banxquote',\n",
       " '.',\n",
       " 'two',\n",
       " 'bank',\n",
       " 'in',\n",
       " 'the',\n",
       " 'Banxquote',\n",
       " 'survey',\n",
       " ',',\n",
       " 'Citibank',\n",
       " 'in',\n",
       " 'New',\n",
       " 'York',\n",
       " 'and',\n",
       " 'CoreStates',\n",
       " 'in',\n",
       " 'Pennsylvania',\n",
       " ',',\n",
       " 'be',\n",
       " 'pay',\n",
       " 'less',\n",
       " 'than',\n",
       " '5',\n",
       " '%',\n",
       " 'on',\n",
       " 'threemonth',\n",
       " 'small',\n",
       " '-',\n",
       " 'denomination',\n",
       " 'cd',\n",
       " '.',\n",
       " ' ',\n",
       " 'Declines',\n",
       " 'be',\n",
       " 'somewhat',\n",
       " 'small',\n",
       " 'on',\n",
       " 'five',\n",
       " '-',\n",
       " 'year',\n",
       " 'consumer',\n",
       " 'cd',\n",
       " ',',\n",
       " 'which',\n",
       " 'ease',\n",
       " 'to',\n",
       " '7.37',\n",
       " '%',\n",
       " 'from',\n",
       " '7.45',\n",
       " '%',\n",
       " ',',\n",
       " 'Banxquote',\n",
       " 'say',\n",
       " '.',\n",
       " ' ',\n",
       " 'yield',\n",
       " 'on',\n",
       " 'three',\n",
       " '-',\n",
       " 'month',\n",
       " 'and',\n",
       " 'six',\n",
       " '-',\n",
       " 'month',\n",
       " 'Treasury',\n",
       " 'bill',\n",
       " 'sell',\n",
       " 'at',\n",
       " 'Monday',\n",
       " \"'s\",\n",
       " 'auction',\n",
       " 'plummet',\n",
       " 'more',\n",
       " 'than',\n",
       " 'a',\n",
       " 'fifth',\n",
       " 'of',\n",
       " 'a',\n",
       " 'percentage',\n",
       " 'point',\n",
       " 'from',\n",
       " 'the',\n",
       " 'previous',\n",
       " 'week',\n",
       " ',',\n",
       " 'to',\n",
       " '5.46',\n",
       " '%',\n",
       " 'and',\n",
       " '5.63',\n",
       " '%',\n",
       " ',',\n",
       " 'respectively',\n",
       " '.']"
      ]
     },
     "execution_count": 426,
     "metadata": {},
     "output_type": "execute_result"
    }
   ],
   "source": [
    "docs = spacy_nlp.pipe(cleaned_text, disable=['ner'], n_process=-1)\n",
    "lemmatized_list = [[word.lemma_ for word in doc] for doc in docs]\n",
    "lemmatized_list[0]"
   ]
  },
  {
   "cell_type": "code",
   "execution_count": 427,
   "id": "752b3575-b9f6-4634-8fdd-a53b1db19961",
   "metadata": {},
   "outputs": [
    {
     "data": {
      "text/plain": [
       "7991"
      ]
     },
     "execution_count": 427,
     "metadata": {},
     "output_type": "execute_result"
    }
   ],
   "source": [
    "len(lemmatized_list)"
   ]
  },
  {
   "cell_type": "code",
   "execution_count": 460,
   "id": "10729208-fc66-4df6-aecf-688cb499c912",
   "metadata": {},
   "outputs": [
    {
     "name": "stdout",
     "output_type": "stream",
     "text": [
      "CPU times: user 3.81 s, sys: 601 ms, total: 4.41 s\n",
      "Wall time: 4.43 s\n"
     ]
    },
    {
     "name": "stderr",
     "output_type": "stream",
     "text": [
      "<timed exec>:1: VisibleDeprecationWarning: Creating an ndarray from ragged nested sequences (which is a list-or-tuple of lists-or-tuples-or ndarrays with different lengths or shapes) is deprecated. If you meant to do this, you must specify 'dtype=object' when creating the ndarray.\n"
     ]
    },
    {
     "data": {
      "text/plain": [
       "(7991,)"
      ]
     },
     "execution_count": 460,
     "metadata": {},
     "output_type": "execute_result"
    }
   ],
   "source": [
    "%%time\n",
    "vectorized_list = np.array([np.array([word_vectors[word] for word in doc if word in word_vectors], dtype='float32') \n",
    "                            for doc in lemmatized_list])\n",
    "vectorized_list.shape"
   ]
  },
  {
   "cell_type": "code",
   "execution_count": 461,
   "id": "89ee9534-9961-42da-8363-e99cd348c9ec",
   "metadata": {},
   "outputs": [
    {
     "data": {
      "text/plain": [
       "((7991,), (300,))"
      ]
     },
     "execution_count": 461,
     "metadata": {},
     "output_type": "execute_result"
    }
   ],
   "source": [
    "vectorized_list.shape, vectorized_list[0][0].shape"
   ]
  },
  {
   "cell_type": "code",
   "execution_count": 1,
   "id": "86331c86-5e7f-40a7-80b2-4c78863b43a9",
   "metadata": {
    "collapsed": true,
    "jupyter": {
     "outputs_hidden": true
    },
    "tags": []
   },
   "outputs": [],
   "source": [
    "vectorized_list = pd.Series(vectorized_list)"
   ]
  },
  {
   "cell_type": "code",
   "execution_count": 471,
   "id": "8203a613-1e60-4169-ada0-d2a471e7eeae",
   "metadata": {},
   "outputs": [
    {
     "name": "stdout",
     "output_type": "stream",
     "text": [
      "CPU times: user 262 ms, sys: 5.56 ms, total: 267 ms\n",
      "Wall time: 269 ms\n"
     ]
    },
    {
     "data": {
      "text/plain": [
       "(7991,)"
      ]
     },
     "execution_count": 471,
     "metadata": {},
     "output_type": "execute_result"
    }
   ],
   "source": [
    "vectorized_list.map(lambda doc: doc.mean(axis=0)).shape"
   ]
  },
  {
   "cell_type": "code",
   "execution_count": 477,
   "id": "3b29901b-e4a4-403e-887f-2d9deeaf5be0",
   "metadata": {},
   "outputs": [
    {
     "data": {
      "text/plain": [
       "(300,)"
      ]
     },
     "execution_count": 477,
     "metadata": {},
     "output_type": "execute_result"
    }
   ],
   "source": [
    "vectorized_list_mean = vectorized_list.map(lambda doc: doc.mean(axis=0))\n",
    "vectorized_list_mean[0].shape"
   ]
  },
  {
   "cell_type": "code",
   "execution_count": 566,
   "id": "4f4aa9e5-c5ba-4583-8569-07848951335c",
   "metadata": {},
   "outputs": [
    {
     "data": {
      "text/plain": [
       "0       1\n",
       "1       0\n",
       "2       0\n",
       "3       0\n",
       "4       1\n",
       "       ..\n",
       "7986    1\n",
       "7987    0\n",
       "7988    0\n",
       "7989    0\n",
       "7990    0\n",
       "Name: relevance, Length: 7991, dtype: int64"
      ]
     },
     "execution_count": 566,
     "metadata": {},
     "output_type": "execute_result"
    }
   ],
   "source": [
    "vectorized_list_back = vectorized_list_mean\n",
    "vectorized_list_mean = np.stack(vectorized_list_mean)\n",
    "relevance.iloc[:, 0]"
   ]
  },
  {
   "cell_type": "code",
   "execution_count": null,
   "id": "58e54a7e-f1af-46bd-87ed-90288fb539e0",
   "metadata": {},
   "outputs": [],
   "source": [
    "relevance = relevance.reset_index(drop=True)"
   ]
  },
  {
   "cell_type": "code",
   "execution_count": 576,
   "id": "5b349d53-c403-42fa-9e33-b28d3bc8ba90",
   "metadata": {},
   "outputs": [
    {
     "name": "stdout",
     "output_type": "stream",
     "text": [
      "AUC:  0.7537740135272989\n",
      "Accuracy:  0.6761761761761762\n",
      "F1-score:  0.44653550042771606\n"
     ]
    },
    {
     "name": "stderr",
     "output_type": "stream",
     "text": [
      "/home/sandro/miniconda3/lib/python3.9/site-packages/sklearn/utils/deprecation.py:87: FutureWarning: Function plot_roc_curve is deprecated; Function :func:`plot_roc_curve` is deprecated in 1.0 and will be removed in 1.2. Use one of the class methods: :meth:`sklearn.metric.RocCurveDisplay.from_predictions` or :meth:`sklearn.metric.RocCurveDisplay.from_estimator`.\n",
      "  warnings.warn(msg, category=FutureWarning)\n"
     ]
    },
    {
     "data": {
      "image/png": "[encoded data removed]",
      "text/plain": [
       "<Figure size 432x288 with 2 Axes>"
      ]
     },
     "metadata": {
      "needs_background": "light"
     },
     "output_type": "display_data"
    },
    {
     "data": {
      "image/png": "[encoded data removed]",
      "text/plain": [
       "<Figure size 432x288 with 1 Axes>"
      ]
     },
     "metadata": {
      "needs_background": "light"
     },
     "output_type": "display_data"
    }
   ],
   "source": [
    "vectors_train, vectors_test, vec_relevance_train, vec_relevance_test = train_test_split(vectorized_list_mean, relevance.iloc[:, 0])\n",
    "\n",
    "logreg_vec = LogisticRegression(class_weight='balanced', max_iter=2000)\n",
    "\n",
    "train_and_evaluate(model=logreg_vec, vectorizer=None, text_train=vectors_train, \n",
    "                   text_test=vectors_test, relevance_train=vec_relevance_train, relevance_test=vec_relevance_test)"
   ]
  },
  {
   "cell_type": "code",
   "execution_count": 573,
   "id": "92d57e06-123d-479b-b80e-485d41c7c730",
   "metadata": {},
   "outputs": [
    {
     "name": "stdout",
     "output_type": "stream",
     "text": [
      "AUC:  0.6667161438197283\n",
      "Accuracy:  0.7822822822822822\n",
      "F1-score:  0.3317972350230414\n"
     ]
    },
    {
     "name": "stderr",
     "output_type": "stream",
     "text": [
      "/home/sandro/miniconda3/lib/python3.9/site-packages/sklearn/utils/deprecation.py:87: FutureWarning: Function plot_roc_curve is deprecated; Function :func:`plot_roc_curve` is deprecated in 1.0 and will be removed in 1.2. Use one of the class methods: :meth:`sklearn.metric.RocCurveDisplay.from_predictions` or :meth:`sklearn.metric.RocCurveDisplay.from_estimator`.\n",
      "  warnings.warn(msg, category=FutureWarning)\n"
     ]
    },
    {
     "data": {
      "image/png": "[encoded data removed]",
      "text/plain": [
       "<Figure size 432x288 with 2 Axes>"
      ]
     },
     "metadata": {
      "needs_background": "light"
     },
     "output_type": "display_data"
    },
    {
     "data": {
      "image/png": "[encoded data removed]",
      "text/plain": [
       "<Figure size 432x288 with 1 Axes>"
      ]
     },
     "metadata": {
      "needs_background": "light"
     },
     "output_type": "display_data"
    }
   ],
   "source": [
    "from sklearn.neighbors import KNeighborsClassifier\n",
    "neigh = KNeighborsClassifier(n_neighbors=3)\n",
    "\n",
    "train_and_evaluate(model=neigh, vectorizer=None, text_train=vectors_train, \n",
    "                   text_test=vectors_test, relevance_train=vec_relevance_train, relevance_test=vec_relevance_test)\n"
   ]
  },
  {
   "cell_type": "code",
   "execution_count": 574,
   "id": "0c6e5a6d-aca5-45b3-ae54-2b80b9edf8fd",
   "metadata": {},
   "outputs": [
    {
     "name": "stdout",
     "output_type": "stream",
     "text": [
      "AUC:  0.6667161438197283\n",
      "Accuracy:  0.7822822822822822\n",
      "F1-score:  0.3317972350230414\n"
     ]
    },
    {
     "name": "stderr",
     "output_type": "stream",
     "text": [
      "/home/sandro/miniconda3/lib/python3.9/site-packages/sklearn/utils/deprecation.py:87: FutureWarning: Function plot_roc_curve is deprecated; Function :func:`plot_roc_curve` is deprecated in 1.0 and will be removed in 1.2. Use one of the class methods: :meth:`sklearn.metric.RocCurveDisplay.from_predictions` or :meth:`sklearn.metric.RocCurveDisplay.from_estimator`.\n",
      "  warnings.warn(msg, category=FutureWarning)\n"
     ]
    },
    {
     "data": {
      "image/png": "[encoded data removed]",
      "text/plain": [
       "<Figure size 432x288 with 2 Axes>"
      ]
     },
     "metadata": {
      "needs_background": "light"
     },
     "output_type": "display_data"
    },
    {
     "data": {
      "image/png": "[encoded data removed]",
      "text/plain": [
       "<Figure size 432x288 with 1 Axes>"
      ]
     },
     "metadata": {
      "needs_background": "light"
     },
     "output_type": "display_data"
    }
   ],
   "source": [
    "from sklearn.svm import LinearSVC\n",
    "\n",
    "classifier = LinearSVC(class_weight='balanced', max_iter=3000)\n",
    "\n",
    "train_and_evaluate(model=neigh, vectorizer=None, text_train=vectors_train, \n",
    "                   text_test=vectors_test, relevance_train=vec_relevance_train, relevance_test=vec_relevance_test)"
   ]
  },
  {
   "cell_type": "markdown",
   "id": "40d4be85-d802-478a-a9e1-f416b4969d76",
   "metadata": {},
   "source": [
    "Let's try Fasttext"
   ]
  },
  {
   "cell_type": "code",
   "execution_count": 581,
   "id": "7b8f294b-f5b7-4a6b-896c-0c718891cf6d",
   "metadata": {},
   "outputs": [
    {
     "name": "stdout",
     "output_type": "stream",
     "text": [
      "Help on module fasttext.FastText in fasttext:\n",
      "\n",
      "NAME\n",
      "    fasttext.FastText\n",
      "\n",
      "DESCRIPTION\n",
      "    # Copyright (c) 2017-present, Facebook, Inc.\n",
      "    # All rights reserved.\n",
      "    #\n",
      "    # This source code is licensed under the MIT license found in the\n",
      "    # LICENSE file in the root directory of this source tree.\n",
      "\n",
      "FUNCTIONS\n",
      "    cbow(*kargs, **kwargs)\n",
      "    \n",
      "    eprint(*args, **kwargs)\n",
      "    \n",
      "    load_model(path)\n",
      "        Load a model given a filepath and return a model object.\n",
      "    \n",
      "    read_args(arg_list, arg_dict, arg_names, default_values)\n",
      "    \n",
      "    skipgram(*kargs, **kwargs)\n",
      "    \n",
      "    supervised(*kargs, **kwargs)\n",
      "    \n",
      "    tokenize(text)\n",
      "        Given a string of text, tokenize it and return a list of tokens\n",
      "    \n",
      "    train_supervised(*kargs, **kwargs)\n",
      "        Train a supervised model and return a model object.\n",
      "        \n",
      "        input must be a filepath. The input text does not need to be tokenized\n",
      "        as per the tokenize function, but it must be preprocessed and encoded\n",
      "        as UTF-8. You might want to consult standard preprocessing scripts such\n",
      "        as tokenizer.perl mentioned here: http://www.statmt.org/wmt07/baseline.html\n",
      "        \n",
      "        The input file must must contain at least one label per line. For an\n",
      "        example consult the example datasets which are part of the fastText\n",
      "        repository such as the dataset pulled by classification-example.sh.\n",
      "    \n",
      "    train_unsupervised(*kargs, **kwargs)\n",
      "        Train an unsupervised model and return a model object.\n",
      "        \n",
      "        input must be a filepath. The input text does not need to be tokenized\n",
      "        as per the tokenize function, but it must be preprocessed and encoded\n",
      "        as UTF-8. You might want to consult standard preprocessing scripts such\n",
      "        as tokenizer.perl mentioned here: http://www.statmt.org/wmt07/baseline.html\n",
      "        \n",
      "        The input field must not contain any labels or use the specified label prefix\n",
      "        unless it is ok for those words to be ignored. For an example consult the\n",
      "        dataset pulled by the example script word-vector-example.sh, which is\n",
      "        part of the fastText repository.\n",
      "\n",
      "DATA\n",
      "    BOW = '<'\n",
      "    EOS = '</s>'\n",
      "    EOW = '>'\n",
      "    absolute_import = _Feature((2, 5, 0, 'alpha', 1), (3, 0, 0, 'alpha', 0...\n",
      "    displayed_errors = {}\n",
      "    division = _Feature((2, 2, 0, 'alpha', 2), (3, 0, 0, 'alpha', 0), 1310...\n",
      "    print_function = _Feature((2, 6, 0, 'alpha', 2), (3, 0, 0, 'alpha', 0)...\n",
      "    unicode_literals = _Feature((2, 6, 0, 'alpha', 2), (3, 0, 0, 'alpha', ...\n",
      "    unsupervised_default = {'autotuneDuration': 300, 'autotuneMetric': 'f1...\n",
      "\n",
      "FILE\n",
      "    /home/sandro/miniconda3/lib/python3.9/site-packages/fasttext/FastText.py\n",
      "\n",
      "\n"
     ]
    }
   ],
   "source": [
    "import fasttext\n",
    "help(fasttext.FastText)"
   ]
  },
  {
   "cell_type": "code",
   "execution_count": 585,
   "id": "164db9dc-069e-42f6-9eb3-8a0064bbdf24",
   "metadata": {},
   "outputs": [],
   "source": [
    "economic_news_df['labels'] = '__label__' + economic_news_df['relevance'].astype(str)"
   ]
  },
  {
   "cell_type": "code",
   "execution_count": 600,
   "id": "e73d75a6-46b4-4fa5-ad80-f29f1caf88d9",
   "metadata": {},
   "outputs": [],
   "source": [
    "fastt_train, fastt_test, fastt_label_train, fastt_label_test = train_test_split(economic_news_df['lemmatized_text'], economic_news_df['labels'])"
   ]
  },
  {
   "cell_type": "code",
   "execution_count": 601,
   "id": "fd8e6dfc-5f8f-453c-892c-964755d3a993",
   "metadata": {},
   "outputs": [
    {
     "data": {
      "text/plain": [
       "5086    Arthur Andersen yesterday tentatively agree tr...\n",
       "2914    NEW YORK -- good inflation news week reflect p...\n",
       "448     bond investor ready bumpy ride Treasurys week ...\n",
       "3988    BERLIN -- time year economy nearly world indus...\n",
       "3507    successful financial professional tough decisi...\n",
       "                              ...                        \n",
       "4486    BASIC necessity lifeûófood fuel housing ÛÓit...\n",
       "3995    MIAMI -- Florida Gov. Rick Scott campaign elec...\n",
       "2091    WASHINGTON -- U.S. trade deficit unexpectedly ...\n",
       "2386    NEW YORK -- weak dollar rattle U.S. bond marke...\n",
       "6466    new issue government security carry low intere...\n",
       "Name: lemmatized_text, Length: 5993, dtype: object"
      ]
     },
     "execution_count": 601,
     "metadata": {},
     "output_type": "execute_result"
    }
   ],
   "source": [
    "fastt_train"
   ]
  },
  {
   "cell_type": "code",
   "execution_count": 604,
   "id": "2823b6b6-ec7c-4175-8d73-baa05328823b",
   "metadata": {},
   "outputs": [
    {
     "data": {
      "text/plain": [
       "5086    __label__0 Arthur Andersen yesterday tentative...\n",
       "2914    __label__0 NEW YORK -- good inflation news wee...\n",
       "448     __label__0 bond investor ready bumpy ride Trea...\n",
       "3988    __label__0 BERLIN -- time year economy nearly ...\n",
       "3507    __label__0 successful financial professional t...\n",
       "                              ...                        \n",
       "4486    __label__0 BASIC necessity lifeûófood fuel ho...\n",
       "3995    __label__0 MIAMI -- Florida Gov. Rick Scott ca...\n",
       "2091    __label__1 WASHINGTON -- U.S. trade deficit un...\n",
       "2386    __label__0 NEW YORK -- weak dollar rattle U.S....\n",
       "6466    __label__0 new issue government security carry...\n",
       "Length: 5993, dtype: object"
      ]
     },
     "execution_count": 604,
     "metadata": {},
     "output_type": "execute_result"
    }
   ],
   "source": [
    "train_df_temp = fastt_label_train + ' ' + fastt_train\n",
    "train_df_temp"
   ]
  },
  {
   "cell_type": "code",
   "execution_count": 605,
   "id": "24c47794-1206-4ab1-9bfa-5b65a4715d7d",
   "metadata": {},
   "outputs": [
    {
     "data": {
      "text/plain": [
       "2521    __label__1 Dow Jones Newswires   dollar modest...\n",
       "6496    __label__0 NEW YORK Feb. 4ûóthe stock market ...\n",
       "2356    __label__0 WASHINGTON -- wage benefit cost rem...\n",
       "2160    __label__1 dollar edge lower rival weak expect...\n",
       "7391    __label__0 productivityt gro^rthislbwe year fd...\n",
       "                              ...                        \n",
       "7082    __label__0 NEW YORK Feb. 18 AP ûó stock marke...\n",
       "3885    __label__0 NEW YORK -- hairy beast inflation h...\n",
       "6318    __label__0 Bush administration plan influenza ...\n",
       "3233    __label__0 fly Geneva President Reagan veto $ ...\n",
       "4508    __label__0 dramatic reasc number Ltnericans wo...\n",
       "Length: 1998, dtype: object"
      ]
     },
     "execution_count": 605,
     "metadata": {},
     "output_type": "execute_result"
    }
   ],
   "source": [
    "test_df_temp = fastt_label_test + ' ' + fastt_test\n",
    "test_df_temp"
   ]
  },
  {
   "cell_type": "code",
   "execution_count": 622,
   "id": "c44da840-b58d-4d41-8af3-be52f560684e",
   "metadata": {},
   "outputs": [],
   "source": [
    "with open('fastt_test_data', mode='a') as f:\n",
    "    [f.write(f'{line}\\n') for line in test_df_temp]"
   ]
  },
  {
   "cell_type": "code",
   "execution_count": 2,
   "id": "9c038131-cfae-4d41-be70-e68dd4be9e78",
   "metadata": {
    "collapsed": true,
    "jupyter": {
     "outputs_hidden": true,
     "source_hidden": true
    },
    "tags": []
   },
   "outputs": [],
   "source": [
    "import csv\n",
    "test_df_temp.to_csv('fastt_test_data', header=None, index=None, sep=' ', mode='a', quoting=csv.QUOTE_NONE)"
   ]
  },
  {
   "cell_type": "code",
   "execution_count": 623,
   "id": "6394abf7-3115-4704-bc29-2d979d72b311",
   "metadata": {},
   "outputs": [],
   "source": [
    "with open('fastt_train_data', mode='a') as f:\n",
    "    [f.write(f'{line}\\n') for line in train_df_temp]"
   ]
  },
  {
   "cell_type": "code",
   "execution_count": 670,
   "id": "3ebd5917-e202-450e-b207-923f01653a13",
   "metadata": {},
   "outputs": [
    {
     "name": "stderr",
     "output_type": "stream",
     "text": [
      "Read 0M words\n",
      "Number of words:  47311\n",
      "Number of labels: 2\n",
      "Progress: 100.0% words/sec/thread:  466691 lr:  0.000000 avg.loss:  0.028741 ETA:   0h 0m 0s  0.5% words/sec/thread:  443321 lr:  0.995446 avg.loss:  1.213613 ETA:   0h 1m 5s  1.3% words/sec/thread:  460298 lr:  0.987393 avg.loss:  0.999929 ETA:   0h 1m 2s  2.1% words/sec/thread:  465549 lr:  0.979282 avg.loss:  0.877888 ETA:   0h 1m 1s  2.9% words/sec/thread:  467030 lr:  0.971223 avg.loss:  0.778748 ETA:   0h 1m 0s  3.7% words/sec/thread:  468198 lr:  0.963138 avg.loss:  0.658611 ETA:   0h 1m 0s  4.5% words/sec/thread:  467709 lr:  0.955174 avg.loss:  0.559977 ETA:   0h 0m59s  5.3% words/sec/thread:  468378 lr:  0.947089 avg.loss:  0.484772 ETA:   0h 0m59s  6.1% words/sec/thread:  469198 lr:  0.938969 avg.loss:  0.423285 ETA:   0h 0m58s  6.9% words/sec/thread:  469592 lr:  0.930878 avg.loss:  0.376876 ETA:   0h 0m57s  8.2% words/sec/thread:  470000 lr:  0.917945 avg.loss:  0.322323 ETA:   0h 0m57s  9.0% words/sec/thread:  469468 lr:  0.910004 avg.loss:  0.294717 ETA:   0h 0m56s 12.0% words/sec/thread:  467397 lr:  0.879998 avg.loss:  0.225125 ETA:   0h 0m55s 12.8% words/sec/thread:  465664 lr:  0.872474 avg.loss:  0.212503 ETA:   0h 0m54s 13.5% words/sec/thread:  464564 lr:  0.864824 avg.loss:  0.200988 ETA:   0h 0m54s 14.3% words/sec/thread:  464939 lr:  0.856757 avg.loss:  0.189858 ETA:   0h 0m53s 15.6% words/sec/thread:  465265 lr:  0.843916 avg.loss:  0.175037 ETA:   0h 0m53s 16.4% words/sec/thread:  465209 lr:  0.835973 avg.loss:  0.166849 ETA:   0h 0m52s 17.2% words/sec/thread:  464557 lr:  0.828253 avg.loss:  0.159680 ETA:   0h 0m52s 18.8% words/sec/thread:  464444 lr:  0.812397 avg.loss:  0.146505 ETA:   0h 0m51s 19.6% words/sec/thread:  464345 lr:  0.804489 avg.loss:  0.140694 ETA:   0h 0m50s 20.3% words/sec/thread:  464304 lr:  0.796562 avg.loss:  0.135317 ETA:   0h 0m50s 21.1% words/sec/thread:  464544 lr:  0.788507 avg.loss:  0.130262 ETA:   0h 0m49s 21.9% words/sec/thread:  464552 lr:  0.780553 avg.loss:  0.125665 ETA:   0h 0m49s 22.7% words/sec/thread:  464480 lr:  0.772637 avg.loss:  0.121375 ETA:   0h 0m48s 23.5% words/sec/thread:  464687 lr:  0.764583 avg.loss:  0.117287 ETA:   0h 0m48s 24.3% words/sec/thread:  464890 lr:  0.756525 avg.loss:  0.113494 ETA:   0h 0m47s 25.2% words/sec/thread:  465096 lr:  0.748457 avg.loss:  0.109913 ETA:   0h 0m47s 27.2% words/sec/thread:  465404 lr:  0.727583 avg.loss:  0.101767 ETA:   0h 0m45s 28.0% words/sec/thread:  464739 lr:  0.720017 avg.loss:  0.099047 ETA:   0h 0m45s 28.8% words/sec/thread:  464940 lr:  0.711936 avg.loss:  0.096300 ETA:   0h 0m44s 29.6% words/sec/thread:  465006 lr:  0.703937 avg.loss:  0.093743 ETA:   0h 0m44s 31.2% words/sec/thread:  465307 lr:  0.687822 avg.loss:  0.088983 ETA:   0h 0m43s 32.0% words/sec/thread:  464744 lr:  0.680247 avg.loss:  0.086866 ETA:   0h 0m42s 32.8% words/sec/thread:  464582 lr:  0.672409 avg.loss:  0.084864 ETA:   0h 0m42s 33.6% words/sec/thread:  464721 lr:  0.664359 avg.loss:  0.082878 ETA:   0h 0m41s 34.4% words/sec/thread:  464874 lr:  0.656295 avg.loss:  0.081001 ETA:   0h 0m41s% words/sec/thread:  464983 lr:  0.648256 avg.loss:  0.079192 ETA:   0h 0m40s 36.0% words/sec/thread:  464959 lr:  0.640316 avg.loss:  0.077474 ETA:   0h 0m40s lr:  0.632207 avg.loss:  0.075802 ETA:   0h 0m39s 38.0% words/sec/thread:  464801 lr:  0.619752 avg.loss:  0.073389 ETA:   0h 0m39s 38.8% words/sec/thread:  464948 lr:  0.611672 avg.loss:  0.071886 ETA:   0h 0m38s 39.6% words/sec/thread:  465077 lr:  0.603603 avg.loss:  0.070461 ETA:   0h 0m37s 40.9% words/sec/thread:  465352 lr:  0.590622 avg.loss:  0.068278 ETA:   0h 0m37s 41.7% words/sec/thread:  465308 lr:  0.582696 avg.loss:  0.067017 ETA:   0h 0m36s 42.5% words/sec/thread:  465154 lr:  0.574873 avg.loss:  0.065816 ETA:   0h 0m36s 43.3% words/sec/thread:  465257 lr:  0.566815 avg.loss:  0.064629 ETA:   0h 0m35s 44.1% words/sec/thread:  465183 lr:  0.558924 avg.loss:  0.063507 ETA:   0h 0m35s 44.9% words/sec/thread:  465312 lr:  0.550839 avg.loss:  0.062395 ETA:   0h 0m34s 45.7% words/sec/thread:  465432 lr:  0.542755 avg.loss:  0.061327 ETA:   0h 0m34s 46.5% words/sec/thread:  465528 lr:  0.534692 avg.loss:  0.060295 ETA:   0h 0m33s 48.1% words/sec/thread:  465758 lr:  0.518522 avg.loss:  0.058333 ETA:   0h 0m32s 48.9% words/sec/thread:  465608 lr:  0.510709 avg.loss:  0.057426 ETA:   0h 0m32s 49.7% words/sec/thread:  465515 lr:  0.502839 avg.loss:  0.056535 ETA:   0h 0m31s 50.5% words/sec/thread:  465602 lr:  0.494780 avg.loss:  0.055655 ETA:   0h 0m31s 51.3% words/sec/thread:  465680 lr:  0.486723 avg.loss:  0.054804 ETA:   0h 0m30s 52.1% words/sec/thread:  465644 lr:  0.478793 avg.loss:  0.053985 ETA:   0h 0m30s 52.9% words/sec/thread:  465734 lr:  0.470724 avg.loss:  0.053179 ETA:   0h 0m29s 53.3% words/sec/thread:  465775 lr:  0.467484 avg.loss:  0.052866 ETA:   0h 0m29s 54.1% words/sec/thread:  465845 lr:  0.459431 avg.loss:  0.052097 ETA:   0h 0m28s 54.9% words/sec/thread:  465948 lr:  0.451337 avg.loss:  0.051337 ETA:   0h 0m28s 55.7% words/sec/thread:  466014 lr:  0.443283 avg.loss:  0.050608 ETA:   0h 0m27s 56.5% words/sec/thread:  466112 lr:  0.435189 avg.loss:  0.049899 ETA:   0h 0m27s 58.1% words/sec/thread:  466270 lr:  0.419038 avg.loss:  0.048535 ETA:   0h 0m26s 58.9% words/sec/thread:  465948 lr:  0.411464 avg.loss:  0.047924 ETA:   0h 0m25s 59.6% words/sec/thread:  465886 lr:  0.403568 avg.loss:  0.047295 ETA:   0h 0m25s 60.4% words/sec/thread:  465881 lr:  0.395601 avg.loss:  0.046695 ETA:   0h 0m24s 61.3% words/sec/thread:  465979 lr:  0.387499 avg.loss:  0.046095 ETA:   0h 0m24s 62.1% words/sec/thread:  466073 lr:  0.379399 avg.loss:  0.045512 ETA:   0h 0m23s 62.9% words/sec/thread:  466106 lr:  0.371377 avg.loss:  0.044940 ETA:   0h 0m23s 63.6% words/sec/thread:  465955 lr:  0.363610 avg.loss:  0.044407 ETA:   0h 0m22s 65.2% words/sec/thread:  466041 lr:  0.347542 avg.loss:  0.043345 ETA:   0h 0m21s 66.1% words/sec/thread:  466120 lr:  0.339452 avg.loss:  0.042828 ETA:   0h 0m21s 66.9% words/sec/thread:  466186 lr:  0.331382 avg.loss:  0.042331 ETA:   0h 0m20s 67.7% words/sec/thread:  466249 lr:  0.323314 avg.loss:  0.041841 ETA:   0h 0m20s 68.5% words/sec/thread:  466295 lr:  0.315272 avg.loss:  0.041365 ETA:   0h 0m19s 69.3% words/sec/thread:  466365 lr:  0.307185 avg.loss:  0.040897 ETA:   0h 0m19s 70.1% words/sec/thread:  466405 lr:  0.299146 avg.loss:  0.040442 ETA:   0h 0m18s 70.9% words/sec/thread:  466499 lr:  0.291016 avg.loss:  0.039991 ETA:   0h 0m18s 71.7% words/sec/thread:  466559 lr:  0.282940 avg.loss:  0.039555 ETA:   0h 0m17s 72.5% words/sec/thread:  466572 lr:  0.274936 avg.loss:  0.039135 ETA:   0h 0m17s 73.3% words/sec/thread:  466617 lr:  0.266877 avg.loss:  0.038716 ETA:   0h 0m16s 74.1% words/sec/thread:  466681 lr:  0.258789 avg.loss:  0.038310 ETA:   0h 0m16s 74.9% words/sec/thread:  466671 lr:  0.250820 avg.loss:  0.037925 ETA:   0h 0m15s 75.7% words/sec/thread:  466726 lr:  0.242745 avg.loss:  0.037532 ETA:   0h 0m15s 76.5% words/sec/thread:  466733 lr:  0.234747 avg.loss:  0.037153 ETA:   0h 0m14s 77.3% words/sec/thread:  466700 lr:  0.226815 avg.loss:  0.036787 ETA:   0h 0m14s 78.1% words/sec/thread:  466754 lr:  0.218738 avg.loss:  0.036419 ETA:   0h 0m13s 78.9% words/sec/thread:  466816 lr:  0.210642 avg.loss:  0.036058 ETA:   0h 0m13s 79.7% words/sec/thread:  466854 lr:  0.202586 avg.loss:  0.035706 ETA:   0h 0m12s 80.6% words/sec/thread:  466931 lr:  0.194462 avg.loss:  0.035360 ETA:   0h 0m12s 81.3% words/sec/thread:  466897 lr:  0.186529 avg.loss:  0.035029 ETA:   0h 0m11s 82.2% words/sec/thread:  466936 lr:  0.178470 avg.loss:  0.034700 ETA:   0h 0m11s 83.0% words/sec/thread:  466927 lr:  0.170496 avg.loss:  0.034382 ETA:   0h 0m10s 83.8% words/sec/thread:  466962 lr:  0.162438 avg.loss:  0.034061 ETA:   0h 0m10s 84.6% words/sec/thread:  466968 lr:  0.154433 avg.loss:  0.033750 ETA:   0h 0m 9s 86.9% words/sec/thread:  466865 lr:  0.130650 avg.loss:  0.032859 ETA:   0h 0m 8s 87.7% words/sec/thread:  466915 lr:  0.122565 avg.loss:  0.032568 ETA:   0h 0m 7s 88.6% words/sec/thread:  466972 lr:  0.114466 avg.loss:  0.032280 ETA:   0h 0m 7s 89.4% words/sec/thread:  467011 lr:  0.106398 avg.loss:  0.031998 ETA:   0h 0m 6s 90.2% words/sec/thread:  467067 lr:  0.098299 avg.loss:  0.031722 ETA:   0h 0m 6s 91.0% words/sec/thread:  467093 lr:  0.090254 avg.loss:  0.031456 ETA:   0h 0m 5s 91.8% words/sec/thread:  467153 lr:  0.082144 avg.loss:  0.031189 ETA:   0h 0m 5s 92.6% words/sec/thread:  467167 lr:  0.074120 avg.loss:  0.030929 ETA:   0h 0m 4s 93.4% words/sec/thread:  467222 lr:  0.066014 avg.loss:  0.030675 ETA:   0h 0m 4s 94.2% words/sec/thread:  467227 lr:  0.058008 avg.loss:  0.030424 ETA:   0h 0m 3s 95.0% words/sec/thread:  467235 lr:  0.050001 avg.loss:  0.030180 ETA:   0h 0m 3s 95.8% words/sec/thread:  467262 lr:  0.041947 avg.loss:  0.029937 ETA:   0h 0m 2s 96.6% words/sec/thread:  467244 lr:  0.033988 avg.loss:  0.029701 ETA:   0h 0m 2s 97.4% words/sec/thread:  467100 lr:  0.026294 avg.loss:  0.029478 ETA:   0h 0m 1s 98.2% words/sec/thread:  467143 lr:  0.018211 avg.loss:  0.029248 ETA:   0h 0m 1s 99.0% words/sec/thread:  467162 lr:  0.010178 avg.loss:  0.029023 ETA:   0h 0m 0s 99.8% words/sec/thread:  467158 lr:  0.002192 avg.loss:  0.028801 ETA:   0h 0m 0s lr: -0.000004 avg.loss:  0.028741 ETA:   0h 0m 0s\n"
     ]
    }
   ],
   "source": [
    "fast_model = fasttext.train_supervised(input=\"fastt_train_data\", label=\"__label__\", lr=1.0, epoch=75, loss='ova', wordNgrams=3, dim=300, thread=2, verbose=100)"
   ]
  },
  {
   "cell_type": "code",
   "execution_count": 672,
   "id": "5f411732-53fb-4b5b-a34a-1a5e5f71835a",
   "metadata": {},
   "outputs": [
    {
     "data": {
      "text/plain": [
       "'__label__1 dollar edge lower rival weak expect regional manufacturing datum   Richmond Federal Reserve report Tuesday manufacturing activity central Atlantic region drop sharply month lead decline shipment new order volume   datum fundamentally alter expectation future Fed policy trader use opportunity book profit bet favor dollar soar year high early July greenback steadily fall past week investor wait signal direction Fed policy Fed policy set Open Market Committee meet Tuesday Wednesday   dollar boost early month heightened expectation Fed reduce bond buy program soon September Fed stimulus tend hurt greenback value Fed Chairman Ben Bernanke week expect moderate pace asset purchase later year   People ... wait piece evidence support refute theory long term strengthening dollar Matthew Alexy director global foreign exchange TD Securities'"
      ]
     },
     "execution_count": 672,
     "metadata": {},
     "output_type": "execute_result"
    }
   ],
   "source": [
    "test_df_temp[2160]"
   ]
  },
  {
   "cell_type": "code",
   "execution_count": 671,
   "id": "735ac2d4-8f78-4aaf-990f-150284b5fc5c",
   "metadata": {},
   "outputs": [
    {
     "data": {
      "text/plain": [
       "(('__label__0', '__label__1'), array([0.99720907, 0.00272499]))"
      ]
     },
     "execution_count": 671,
     "metadata": {},
     "output_type": "execute_result"
    }
   ],
   "source": [
    "fast_model.predict(test_df_temp[2160], k=2)"
   ]
  },
  {
   "cell_type": "code",
   "execution_count": 630,
   "id": "a57e635a-b308-4e54-99be-07ea170dd492",
   "metadata": {},
   "outputs": [
    {
     "data": {
      "text/plain": [
       "'__label__1 dollar edge lower rival weak expect regional manufacturing datum   Richmond Federal Reserve report Tuesday manufacturing activity central Atlantic region drop sharply month lead decline shipment new order volume   datum fundamentally alter expectation future Fed policy trader use opportunity book profit bet favor dollar soar year high early July greenback steadily fall past week investor wait signal direction Fed policy Fed policy set Open Market Committee meet Tuesday Wednesday   dollar boost early month heightened expectation Fed reduce bond buy program soon September Fed stimulus tend hurt greenback value Fed Chairman Ben Bernanke week expect moderate pace asset purchase later year   People ... wait piece evidence support refute theory long term strengthening dollar Matthew Alexy director global foreign exchange TD Securities'"
      ]
     },
     "execution_count": 630,
     "metadata": {},
     "output_type": "execute_result"
    }
   ],
   "source": [
    "test_df_temp[2160]"
   ]
  },
  {
   "cell_type": "code",
   "execution_count": 673,
   "id": "87faea6c-41eb-4aac-b0c5-7e297590b52a",
   "metadata": {},
   "outputs": [
    {
     "name": "stdout",
     "output_type": "stream",
     "text": [
      "Test Samples: 1998 Precision@1 : 81.0811 Recall@1 : 81.0811\n",
      "Test Samples: 1998 Precision@2 : 50.0000 Recall@2 : 100.0000\n"
     ]
    }
   ],
   "source": [
    "for k in range(1,3):\n",
    "    results = fast_model.test(\"fastt_test_data\",k=k)\n",
    "    print(f\"Test Samples: {results[0]} Precision@{k} : {results[1]*100:2.4f} Recall@{k} : {results[2]*100:2.4f}\")"
   ]
  },
  {
   "cell_type": "code",
   "execution_count": 648,
   "id": "8f6cef44-2c19-4aed-b29e-9a916534ffa6",
   "metadata": {
    "tags": []
   },
   "outputs": [
    {
     "data": {
      "text/plain": [
       "1420"
      ]
     },
     "execution_count": 648,
     "metadata": {},
     "output_type": "execute_result"
    }
   ],
   "source": [
    "economic_news_df[economic_news_df['relevance'] == 'yes'].text"
   ]
  },
  {
   "cell_type": "code",
   "execution_count": 654,
   "id": "667aae0c-730b-4ee0-8184-ea07bd7b74f7",
   "metadata": {},
   "outputs": [],
   "source": [
    "# fasttext show better performance but does it?\n",
    "conf_yes = [int(fast_model.predict(doc)[0][0][-1]) for doc in economic_news_df[economic_news_df['relevance'] == 'yes'].text]\n",
    "conf_yes = pd.Series(conf_no)"
   ]
  },
  {
   "cell_type": "code",
   "execution_count": 666,
   "id": "ba3fe046-af73-44c8-8953-adc492f18405",
   "metadata": {},
   "outputs": [
    {
     "data": {
      "text/plain": [
       "0.44647887323943664"
      ]
     },
     "execution_count": 666,
     "metadata": {},
     "output_type": "execute_result"
    }
   ],
   "source": [
    "# no, even on first look it dosen't\n",
    "np.array(conf_yes).mean()"
   ]
  },
  {
   "cell_type": "code",
   "execution_count": 667,
   "id": "d3459b80-7dca-4012-b07d-8ce514dd32dd",
   "metadata": {},
   "outputs": [
    {
     "data": {
      "text/plain": [
       "0.024805965606452596"
      ]
     },
     "execution_count": 667,
     "metadata": {},
     "output_type": "execute_result"
    }
   ],
   "source": [
    "conf_no = [int(fast_model.predict(doc)[0][0][-1]) for doc in economic_news_df[economic_news_df['relevance'] == 'no'].text]\n",
    "conf_no = pd.Series(conf_no)\n",
    "conf_no"
   ]
  }
 ],
 "metadata": {
  "kernelspec": {
   "display_name": "Python 3.9.7 ('base')",
   "language": "python",
   "name": "python3"
  },
  "language_info": {
   "codemirror_mode": {
    "name": "ipython",
    "version": 3
   },
   "file_extension": ".py",
   "mimetype": "text/x-python",
   "name": "python",
   "nbconvert_exporter": "python",
   "pygments_lexer": "ipython3",
   "version": "3.9.7"
  },
  "vscode": {
   "interpreter": {
    "hash": "74c7431f4435830a057422cf59695882c87dc0edd1b77534c7869fc1258ccd33"
   }
  }
 },
 "nbformat": 4,
 "nbformat_minor": 5
}
